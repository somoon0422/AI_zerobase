{
 "cells": [
  {
   "cell_type": "markdown",
   "metadata": {},
   "source": [
    "# Selenium Basic"
   ]
  },
  {
   "cell_type": "code",
   "execution_count": 56,
   "metadata": {},
   "outputs": [],
   "source": [
    "from selenium import webdriver\n",
    "\n",
    "driver = webdriver.Chrome(executable_path='../driver/chromedriver.exe')\n",
    "driver.get(\"https://pinkwink.kr/\")\n"
   ]
  },
  {
   "cell_type": "code",
   "execution_count": null,
   "metadata": {},
   "outputs": [],
   "source": [
    "#driver.quit() # 브라우저 종료"
   ]
  },
  {
   "cell_type": "code",
   "execution_count": 57,
   "metadata": {},
   "outputs": [],
   "source": [
    "# 화면 최대 크기 설정\n",
    "\n",
    "driver.maximize_window() # 브라우저 최대화 / 함수를 의미\n",
    "\n",
    "\n"
   ]
  },
  {
   "cell_type": "code",
   "execution_count": 58,
   "metadata": {},
   "outputs": [],
   "source": [
    "# 화면 최소 크기 설정\n",
    "\n",
    "driver.minimize_window()"
   ]
  },
  {
   "cell_type": "code",
   "execution_count": 59,
   "metadata": {},
   "outputs": [],
   "source": [
    "# 화면 크기 설정\n",
    "\n",
    "driver.set_window_size(600, 600)"
   ]
  },
  {
   "cell_type": "code",
   "execution_count": 60,
   "metadata": {},
   "outputs": [],
   "source": [
    "# 새로 고침\n",
    "driver.refresh()"
   ]
  },
  {
   "cell_type": "code",
   "execution_count": 61,
   "metadata": {},
   "outputs": [],
   "source": [
    "# 뒤로 가기\n",
    "driver.back()"
   ]
  },
  {
   "cell_type": "code",
   "execution_count": 62,
   "metadata": {},
   "outputs": [],
   "source": [
    "# 앞으로 가기\n",
    "driver.forward()"
   ]
  },
  {
   "cell_type": "code",
   "execution_count": 63,
   "metadata": {},
   "outputs": [],
   "source": [
    "# 클릭하기\n",
    "from selenium.webdriver.common.by import By\n",
    "\n",
    "first_content = driver.find_element(By.CSS_SELECTOR, '#content > div.cover-masonry > div > ul > li:nth-child(1)')\n",
    "first_content.click()"
   ]
  },
  {
   "cell_type": "code",
   "execution_count": 64,
   "metadata": {},
   "outputs": [],
   "source": [
    "# 새로운 탭 생성\n",
    "\n",
    "driver.execute_script('window.open(\"https://www.naver.com\")')"
   ]
  },
  {
   "cell_type": "code",
   "execution_count": 65,
   "metadata": {},
   "outputs": [],
   "source": [
    "# 탭 이동\n",
    "\n",
    "driver.switch_to.window(driver.window_handles[0])\n"
   ]
  },
  {
   "cell_type": "code",
   "execution_count": 66,
   "metadata": {},
   "outputs": [
    {
     "data": {
      "text/plain": [
       "2"
      ]
     },
     "execution_count": 66,
     "metadata": {},
     "output_type": "execute_result"
    }
   ],
   "source": [
    "len(driver.window_handles) # 탭 개수 확인"
   ]
  },
  {
   "cell_type": "code",
   "execution_count": null,
   "metadata": {},
   "outputs": [],
   "source": [
    "# 탭 닫기\n",
    "\n",
    "driver.close()"
   ]
  },
  {
   "cell_type": "markdown",
   "metadata": {},
   "source": [
    "### 2. 화면스크롤"
   ]
  },
  {
   "cell_type": "code",
   "execution_count": 67,
   "metadata": {},
   "outputs": [
    {
     "data": {
      "text/plain": [
       "9617"
      ]
     },
     "execution_count": 67,
     "metadata": {},
     "output_type": "execute_result"
    }
   ],
   "source": [
    "driver.back() \n",
    "driver.execute_script('return document.body.scrollHeight') # 스크롤 높이 확인\n",
    "\n"
   ]
  },
  {
   "cell_type": "code",
   "execution_count": 68,
   "metadata": {},
   "outputs": [],
   "source": [
    "# 화면 스크롤 하단 이동\n",
    "# 자바스크립트 코드 실행\n",
    "\n",
    "driver.execute_script('window.scrollTo(0, document.body.scrollHeight);')"
   ]
  },
  {
   "cell_type": "code",
   "execution_count": 70,
   "metadata": {},
   "outputs": [
    {
     "data": {
      "text/plain": [
       "True"
      ]
     },
     "execution_count": 70,
     "metadata": {},
     "output_type": "execute_result"
    }
   ],
   "source": [
    "# 현재 보이는 화면 스크린샷 저장\n",
    "\n",
    "driver.save_screenshot('./last_height.png')\n"
   ]
  },
  {
   "cell_type": "code",
   "execution_count": 71,
   "metadata": {},
   "outputs": [],
   "source": [
    "# 화면 스크롤 상단 이동\n",
    "\n",
    "driver.execute_script('window.scrollTo(0,0);')"
   ]
  },
  {
   "cell_type": "code",
   "execution_count": 74,
   "metadata": {},
   "outputs": [],
   "source": [
    "# 특정 태그 지점까지 스크롤 이동\n",
    "from selenium.webdriver import ActionChains\n",
    "\n",
    "some_tag = driver.find_element(By.CSS_SELECTOR, '#content > div:nth-child(6)' ) # 특정 태그 지정\n",
    "action = ActionChains(driver) # 액션 체인 객체 생성\n",
    "action.move_to_element(some_tag).perform() # 액션 체인 객체에 특정 태그 지정\n"
   ]
  },
  {
   "cell_type": "code",
   "execution_count": 75,
   "metadata": {},
   "outputs": [],
   "source": [
    "driver.quit()"
   ]
  },
  {
   "cell_type": "markdown",
   "metadata": {},
   "source": [
    "### 3. 검색어 입력\n",
    "- CSS_SELECTOR\n"
   ]
  },
  {
   "cell_type": "code",
   "execution_count": 76,
   "metadata": {},
   "outputs": [],
   "source": [
    "from selenium import webdriver\n",
    "from selenium.webdriver.common.by import By"
   ]
  },
  {
   "cell_type": "code",
   "execution_count": 77,
   "metadata": {},
   "outputs": [],
   "source": [
    "driver = webdriver.Chrome('../driver/chromedriver.exe')\n",
    "driver.get('https://www.naver.com')"
   ]
  },
  {
   "cell_type": "code",
   "execution_count": 86,
   "metadata": {},
   "outputs": [],
   "source": [
    "keyword = driver.find_element(By.CSS_SELECTOR, '#query')\n",
    "keyword.send_keys('파이썬')\n"
   ]
  },
  {
   "cell_type": "code",
   "execution_count": 87,
   "metadata": {},
   "outputs": [],
   "source": [
    "search_btn = driver.find_element(By.CSS_SELECTOR, '#sform > fieldset > button')\n",
    "search_btn.click()"
   ]
  },
  {
   "cell_type": "markdown",
   "metadata": {},
   "source": [
    "- XPATH"
   ]
  },
  {
   "cell_type": "code",
   "execution_count": 88,
   "metadata": {},
   "outputs": [],
   "source": [
    "driver.find_element(By.XPATH, '//*[@id=\"query\"]').send_keys('xpath')\n"
   ]
  },
  {
   "cell_type": "code",
   "execution_count": 90,
   "metadata": {},
   "outputs": [],
   "source": [
    "driver.find_element(By.XPATH, '//*[@id=\"sform\"]/fieldset/button').click()"
   ]
  },
  {
   "cell_type": "code",
   "execution_count": 91,
   "metadata": {},
   "outputs": [
    {
     "data": {
      "text/plain": [
       "\"\\n'//': 최상위\\n'*': 자손태그\\n'/' : 자식태그\\n\""
      ]
     },
     "execution_count": 91,
     "metadata": {},
     "output_type": "execute_result"
    }
   ],
   "source": [
    "\"\"\"\n",
    "'//': 최상위\n",
    "'*': 자손태그\n",
    "'/' : 자식태그\n",
    "\"\"\""
   ]
  },
  {
   "cell_type": "code",
   "execution_count": 92,
   "metadata": {},
   "outputs": [],
   "source": [
    "driver.quit()"
   ]
  },
  {
   "cell_type": "code",
   "execution_count": 93,
   "metadata": {},
   "outputs": [],
   "source": [
    "from selenium import webdriver\n",
    "from selenium.webdriver.common.by import By"
   ]
  },
  {
   "cell_type": "code",
   "execution_count": 95,
   "metadata": {},
   "outputs": [],
   "source": [
    "driver = webdriver.Chrome('../driver/chromedriver.exe')\n",
    "driver.get('https://pinkwink.kr')"
   ]
  },
  {
   "cell_type": "code",
   "execution_count": 98,
   "metadata": {},
   "outputs": [],
   "source": [
    "# 1. 돋보기 버튼을 선택\n",
    "from selenium.webdriver import ActionChains # 액션 체인 객체 생성\n",
    "\n",
    "\n",
    "search_tag = driver.find_element(By.CSS_SELECTOR, '.search') # 특정 태그 지정\n",
    "action = ActionChains(driver) # 액션 체인 객체 생성\n",
    "action.click(search_tag) # 액션 체인 객체에 특정 태그 지정\n",
    "action.perform() # 액션 실행"
   ]
  },
  {
   "cell_type": "code",
   "execution_count": 99,
   "metadata": {},
   "outputs": [],
   "source": [
    "# 2. 검색어를 입력\n",
    "driver.find_element(By.CSS_SELECTOR, '#header > div.search.on > input[type=text]').send_keys('딥러닝')\n"
   ]
  },
  {
   "cell_type": "code",
   "execution_count": 100,
   "metadata": {},
   "outputs": [],
   "source": [
    "# 3. 검색 버튼 클릭\n",
    "driver.find_element(By.CSS_SELECTOR, '#header > div.search.on > button').click()"
   ]
  },
  {
   "cell_type": "markdown",
   "metadata": {},
   "source": [
    "### 4. selenium + beautifulsoup"
   ]
  },
  {
   "cell_type": "code",
   "execution_count": 102,
   "metadata": {},
   "outputs": [
    {
     "data": {
      "text/plain": [
       "'<html lang=\"ko\"><head>\\n                <script src=\"https://pagead2.googlesyndication.com/pagead/managed/js/adsense/m202312070101/reactive_library_fy2021.js\"></script><script src=\"https://pagead2.googlesyndication.com/pagead/managed/js/adsense/m202312070101/show_ads_impl_fy2021.js\" id=\"google_shimpl\"></script><script src=\"https://t1.kakaocdn.net/malibu_prod/normal_wpm.js\" async=\"\"></script><script type=\"text/javascript\">if (!window.T) { window.T = {} }\\nwindow.T.config = {\"TOP_SSL_URL\":\"https://www.tistory.com\",\"PREVIEW\":false,\"ROLE\":\"guest\",\"PREV_PAGE\":\"\",\"NEXT_PAGE\":\"\",\"BLOG\":{\"id\":371175,\"name\":\"pinkwink\",\"title\":\"PinkWink\",\"isDormancy\":false,\"nickName\":\"PinkWink\",\"status\":\"open\"},\"NEED_COMMENT_LOGIN\":false,\"COMMENT_LOGIN_CONFIRM_MESSAGE\":\"\",\"LOGIN_URL\":\"https://www.tistory.com/auth/login/?redirectUrl=https://pinkwink.kr/search/%25EB%2594%25A5%25EB%259F%25AC%25EB%258B%259D\",\"DEFAULT_URL\":\"https://pinkwink.kr\",\"USER\":{\"name\":null,\"homepage\":null,\"id\":0,\"profileImage\":null},\"SUBSCRIPTION\":{\"status\":\"none\",\"isConnected\":false,\"isPending\":false,\"isWait\":false,\"isProcessing\":false,\"isNone\":true},\"IS_LOGIN\":false,\"HAS_BLOG\":false,\"IS_SUPPORT\":false,\"TOP_URL\":\"http://www.tistory.com\",\"JOIN_URL\":\"https://www.tistory.com/member/join\",\"ROLE_GROUP\":\"visitor\"};\\nwindow.appInfo = {\"domain\":\"tistory.com\",\"topUrl\":\"https://www.tistory.com\",\"loginUrl\":\"https://www.tistory.com/auth/login\",\"logoutUrl\":\"https://www.tistory.com/auth/logout\"};\\nwindow.initData = {};\\n\\nwindow.TistoryBlog = {\\n    basePath: \"\",\\n    url: \"https://pinkwink.kr\",\\n    tistoryUrl: \"https://pinkwink.tistory.com\",\\n    manageUrl: \"https://pinkwink.tistory.com/manage\",\\n    token: \"nS4IrdY6kYKod/u9Z6lsBQ4W0kRlGjSl+SjTq1OYYDetgiFuq2XFjsVL5ZzQkuf0\"\\n};\\nvar servicePath = \"\";\\nvar blogURL = \"\";</script>\\n\\n                \\n                \\n                \\n                        <!-- BusinessLicenseInfo - START -->\\n        \\n            <link href=\"https://tistory1.daumcdn.net/tistory_admin/userblog/tistory-48230642543245d2e19baccae18e5a447552b564/static/plugin/BusinessLicenseInfo/style.css\" rel=\"stylesheet\" type=\"text/css\">\\n\\n            <script>function switchFold(entryId) {\\n    var businessLayer = document.getElementById(\"businessInfoLayer_\" + entryId);\\n\\n    if (businessLayer) {\\n        if (businessLayer.className.indexOf(\"unfold_license\") > 0) {\\n            businessLayer.className = \"business_license_layer\";\\n        } else {\\n            businessLayer.className = \"business_license_layer unfold_license\";\\n        }\\n    }\\n}\\n</script>\\n\\n        \\n        <!-- BusinessLicenseInfo - END -->\\n<!-- System - START -->\\n\\n<!-- System - END -->\\n\\n        <!-- GoogleSearchConsole - START -->\\n        \\n<!-- BEGIN GOOGLE_SITE_VERIFICATION -->\\n<meta name=\"google-site-verification\" content=\"k3AvKvWkwX7aD3-ykT5zNH4ba1F3MJShutQ5laJ8S78\">\\n<!-- END GOOGLE_SITE_VERIFICATION -->\\n\\n        <!-- GoogleSearchConsole - END -->\\n\\n        <!-- TistoryProfileLayer - START -->\\n        <link href=\"https://tistory1.daumcdn.net/tistory_admin/userblog/tistory-48230642543245d2e19baccae18e5a447552b564/static/plugin/TistoryProfileLayer/style.css\" rel=\"stylesheet\" type=\"text/css\">\\n<script type=\"text/javascript\" src=\"https://tistory1.daumcdn.net/tistory_admin/userblog/tistory-48230642543245d2e19baccae18e5a447552b564/static/plugin/TistoryProfileLayer/script.js\"></script>\\n\\n        <!-- TistoryProfileLayer - END -->\\n\\n                \\n                <meta http-equiv=\"X-UA-Compatible\" content=\"IE=Edge\">\\n<meta name=\"format-detection\" content=\"telephone=no\">\\n<script src=\"//t1.daumcdn.net/tistory_admin/lib/jquery/jquery-3.5.1.min.js\" integrity=\"sha256-9/aliU8dGd2tb6OSsuzixeV4y/faTqgFtohetphbbj0=\" crossorigin=\"anonymous\"></script>\\n<script src=\"//t1.daumcdn.net/tistory_admin/lib/lightbox/js/lightbox-v2.10.0.min.js\" defer=\"\"></script>\\n<script type=\"text/javascript\" src=\"//t1.daumcdn.net/tiara/js/v1/tiara.min.js\"></script><meta name=\"referrer\" content=\"always\">\\n<meta name=\"google-adsense-platform-account\" content=\"ca-host-pub-9691043933427338\">\\n<meta name=\"google-adsense-platform-domain\" content=\"tistory.com\">\\n<meta name=\"google-adsense-account\" content=\"ca-pub-2982459700139266\">\\n<meta name=\"description\" content=\"한 변두리 공학도의 블로그입니다. 재미있어 보이는 것들을 모두 기초스럽게 접근하는 블로그이며... 그보다 더욱 소중한 우리 아가 미바뤼의 발자취를 남겨두는 블로그이기도 합니다.\">\\n\\n    <!-- BEGIN OPENGRAPH -->\\n    <meta property=\"og:type\" content=\"website\">\\n<meta property=\"og:url\" content=\"https://pinkwink.kr\">\\n<meta property=\"og:site_name\" content=\"PinkWink\">\\n<meta property=\"og:title\" content=\"\\'딥러닝\\'의 검색결과\">\\n<meta property=\"og:description\" content=\"한 변두리 공학도의 블로그입니다. 재미있어 보이는 것들을 모두 기초스럽게 접근하는 블로그이며... 그보다 더욱 소중한 우리 아가 미바뤼의 발자취를 남겨두는 블로그이기도 합니다.\">\\n<meta property=\"og:image\" content=\"https://img1.daumcdn.net/thumb/R800x0/?scode=mtistory2&amp;fname=https%3A%2F%2Ft1.daumcdn.net%2Fcfile%2Ftistory%2F207EB9594D92CCFF05\">\\n<meta property=\"og:article:author\" content=\"\\'PinkWink\\'\">\\n    <!-- END OPENGRAPH -->\\n\\n    <!-- BEGIN TWITTERCARD -->\\n    <meta name=\"twitter:card\" content=\"summary_large_image\">\\n<meta name=\"twitter:site\" content=\"@TISTORY\">\\n<meta name=\"twitter:title\" content=\"\\'딥러닝\\'의 검색결과\">\\n<meta name=\"twitter:description\" content=\"한 변두리 공학도의 블로그입니다. 재미있어 보이는 것들을 모두 기초스럽게 접근하는 블로그이며... 그보다 더욱 소중한 우리 아가 미바뤼의 발자취를 남겨두는 블로그이기도 합니다.\">\\n<meta property=\"twitter:image\" content=\"https://img1.daumcdn.net/thumb/R800x0/?scode=mtistory2&amp;fname=https%3A%2F%2Ft1.daumcdn.net%2Fcfile%2Ftistory%2F207EB9594D92CCFF05\">\\n    <!-- END TWITTERCARD -->\\n<link rel=\"stylesheet\" type=\"text/css\" href=\"https://t1.daumcdn.net/tistory_admin/lib/lightbox/css/lightbox.min.css\">\\n<link rel=\"stylesheet\" type=\"text/css\" href=\"https://tistory1.daumcdn.net/tistory_admin/userblog/tistory-48230642543245d2e19baccae18e5a447552b564/static/style/font.css\">\\n<link rel=\"stylesheet\" type=\"text/css\" href=\"https://tistory1.daumcdn.net/tistory_admin/userblog/tistory-48230642543245d2e19baccae18e5a447552b564/static/style/content.css\">\\n<script type=\"text/javascript\">(function() {\\n    var tjQuery = jQuery.noConflict(true);\\n    window.tjQuery = tjQuery;\\n    window.orgjQuery = window.jQuery; window.jQuery = tjQuery;\\n    window.jQuery = window.orgjQuery; delete window.orgjQuery;\\n})()</script>\\n<script type=\"text/javascript\" src=\"https://tistory1.daumcdn.net/tistory_admin/userblog/tistory-48230642543245d2e19baccae18e5a447552b564/static/script/base.js\"></script>\\n<script type=\"text/javascript\" src=\"//developers.kakao.com/sdk/js/kakao.min.js\"></script>\\n\\n                \\n<meta charset=\"UTF-8\">\\n<meta name=\"google-site-verification\" content=\"k3AvKvWkwX7aD3-ykT5zNH4ba1F3MJShutQ5laJ8S78\">\\n<meta name=\"viewport\" content=\"user-scalable=no, initial-scale=1.0, maximum-scale=1.0, minimum-scale=1.0, width=device-width\">\\n<title>\\'딥러닝\\'의 검색결과</title>\\n<link rel=\"stylesheet\" href=\"https://tistory1.daumcdn.net/tistory/371175/skin/style.css?_version_=1687613150\">\\n<script src=\"//t1.daumcdn.net/tistory_admin/lib/jquery/jquery-1.12.4.min.js\"></script>\\n  \\n  <script async=\"\" src=\"https://pagead2.googlesyndication.com/pagead/js/adsbygoogle.js?client=ca-pub-2982459700139266\" crossorigin=\"anonymous\" data-checked-head=\"true\"></script>\\n  \\n<!-- Google tag (gtag.js) -->\\n<script async=\"\" src=\"https://www.googletagmanager.com/gtag/js?id=G-HCXDDK2V0E\"></script>\\n<script>\\n  window.dataLayer = window.dataLayer || [];\\n  function gtag(){dataLayer.push(arguments);}\\n  gtag(\\'js\\', new Date());\\n\\n  gtag(\\'config\\', \\'G-HCXDDK2V0E\\');\\n</script>\\n\\n\\n                \\n                \\n                <style type=\"text/css\">.another_category {\\n    border: 1px solid #E5E5E5;\\n    padding: 10px 10px 5px;\\n    margin: 10px 0;\\n    clear: both;\\n}\\n\\n.another_category h4 {\\n    font-size: 12px !important;\\n    margin: 0 !important;\\n    border-bottom: 1px solid #E5E5E5 !important;\\n    padding: 2px 0 6px !important;\\n}\\n\\n.another_category h4 a {\\n    font-weight: bold !important;\\n}\\n\\n.another_category table {\\n    table-layout: fixed;\\n    border-collapse: collapse;\\n    width: 100% !important;\\n    margin-top: 10px !important;\\n}\\n\\n* html .another_category table {\\n    width: auto !important;\\n}\\n\\n*:first-child + html .another_category table {\\n    width: auto !important;\\n}\\n\\n.another_category th, .another_category td {\\n    padding: 0 0 4px !important;\\n}\\n\\n.another_category th {\\n    text-align: left;\\n    font-size: 12px !important;\\n    font-weight: normal;\\n    word-break: break-all;\\n    overflow: hidden;\\n    line-height: 1.5;\\n}\\n\\n.another_category td {\\n    text-align: right;\\n    width: 80px;\\n    font-size: 11px;\\n}\\n\\n.another_category th a {\\n    font-weight: normal;\\n    text-decoration: none;\\n    border: none !important;\\n}\\n\\n.another_category th a.current {\\n    font-weight: bold;\\n    text-decoration: none !important;\\n    border-bottom: 1px solid !important;\\n}\\n\\n.another_category th span {\\n    font-weight: normal;\\n    text-decoration: none;\\n    font: 10px Tahoma, Sans-serif;\\n    border: none !important;\\n}\\n\\n.another_category_color_gray, .another_category_color_gray h4 {\\n    border-color: #E5E5E5 !important;\\n}\\n\\n.another_category_color_gray * {\\n    color: #909090 !important;\\n}\\n\\n.another_category_color_gray th a.current {\\n    border-color: #909090 !important;\\n}\\n\\n.another_category_color_gray h4, .another_category_color_gray h4 a {\\n    color: #737373 !important;\\n}\\n\\n.another_category_color_red, .another_category_color_red h4 {\\n    border-color: #F6D4D3 !important;\\n}\\n\\n.another_category_color_red * {\\n    color: #E86869 !important;\\n}\\n\\n.another_category_color_red th a.current {\\n    border-color: #E86869 !important;\\n}\\n\\n.another_category_color_red h4, .another_category_color_red h4 a {\\n    color: #ED0908 !important;\\n}\\n\\n.another_category_color_green, .another_category_color_green h4 {\\n    border-color: #CCE7C8 !important;\\n}\\n\\n.another_category_color_green * {\\n    color: #64C05B !important;\\n}\\n\\n.another_category_color_green th a.current {\\n    border-color: #64C05B !important;\\n}\\n\\n.another_category_color_green h4, .another_category_color_green h4 a {\\n    color: #3EA731 !important;\\n}\\n\\n.another_category_color_blue, .another_category_color_blue h4 {\\n    border-color: #C8DAF2 !important;\\n}\\n\\n.another_category_color_blue * {\\n    color: #477FD6 !important;\\n}\\n\\n.another_category_color_blue th a.current {\\n    border-color: #477FD6 !important;\\n}\\n\\n.another_category_color_blue h4, .another_category_color_blue h4 a {\\n    color: #1960CA !important;\\n}\\n\\n.another_category_color_violet, .another_category_color_violet h4 {\\n    border-color: #E1CEEC !important;\\n}\\n\\n.another_category_color_violet * {\\n    color: #9D64C5 !important;\\n}\\n\\n.another_category_color_violet th a.current {\\n    border-color: #9D64C5 !important;\\n}\\n\\n.another_category_color_violet h4, .another_category_color_violet h4 a {\\n    color: #7E2CB5 !important;\\n}\\n</style>\\n\\n                \\n                <link rel=\"stylesheet\" type=\"text/css\" href=\"https://tistory1.daumcdn.net/tistory_admin/userblog/tistory-48230642543245d2e19baccae18e5a447552b564/static/style/dialog.css\">\\n<link rel=\"stylesheet\" type=\"text/css\" href=\"//t1.daumcdn.net/tistory_admin/www/style/top/font.css\">\\n<link rel=\"stylesheet\" type=\"text/css\" href=\"https://tistory1.daumcdn.net/tistory_admin/userblog/tistory-48230642543245d2e19baccae18e5a447552b564/static/style/postBtn.css\">\\n<link rel=\"stylesheet\" type=\"text/css\" href=\"https://tistory1.daumcdn.net/tistory_admin/userblog/tistory-48230642543245d2e19baccae18e5a447552b564/static/style/comment.css\">\\n<link rel=\"stylesheet\" type=\"text/css\" href=\"https://tistory1.daumcdn.net/tistory_admin/userblog/tistory-48230642543245d2e19baccae18e5a447552b564/static/style/tistory.css\">\\n<link rel=\"stylesheet\" type=\"text/css\" href=\"https://tistory1.daumcdn.net/tistory_admin/userblog/tistory-48230642543245d2e19baccae18e5a447552b564/static/style/revenue.css\">\\n<link rel=\"canonical\" href=\"https://pinkwink.kr\">\\n\\n<!-- BEGIN STRUCTURED_DATA -->\\n<script type=\"application/ld+json\">\\n    {\"@context\":\"http://schema.org\",\"@type\":\"WebSite\",\"url\":\"/\",\"potentialAction\":{\"@type\":\"SearchAction\",\"target\":\"/search/{search_term_string}\",\"query-input\":\"required name=search_term_string\"}}\\n</script>\\n<!-- END STRUCTURED_DATA -->\\n<script type=\"text/javascript\" src=\"https://tistory1.daumcdn.net/tistory_admin/userblog/tistory-48230642543245d2e19baccae18e5a447552b564/static/script/common.js\"></script>\\n<script type=\"text/javascript\" src=\"https://tistory1.daumcdn.net/tistory_admin/userblog/tistory-48230642543245d2e19baccae18e5a447552b564/static/script/comment.js\" defer=\"\"></script>\\n\\n                \\n                <style>@font-face{font-family:swiper-icons;src:url(\"data:application/font-woff;charset=utf-8;base64, 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\");font-weight:400;font-style:normal}:root{--swiper-theme-color:#007aff}.swiper{margin-left:auto;margin-right:auto;position:relative;overflow:hidden;list-style:none;padding:0;z-index:1}.swiper-vertical>.swiper-wrapper{flex-direction:column}.swiper-wrapper{position:relative;width:100%;height:100%;z-index:1;display:flex;transition-property:transform;box-sizing:content-box}.swiper-android .swiper-slide,.swiper-wrapper{transform:translate3d(0px, 0, 0)}.swiper-pointer-events{touch-action:pan-y}.swiper-pointer-events.swiper-vertical{touch-action:pan-x}.swiper-slide{flex-shrink:0;width:100%;height:100%;position:relative;transition-property:transform}.swiper-slide-invisible-blank{visibility:hidden}.swiper-autoheight,.swiper-autoheight .swiper-slide{height:auto}.swiper-autoheight .swiper-wrapper{align-items:flex-start;transition-property:transform,height}.swiper-backface-hidden .swiper-slide{transform:translateZ(0);-webkit-backface-visibility:hidden;backface-visibility:hidden}.swiper-3d,.swiper-3d.swiper-css-mode .swiper-wrapper{perspective:1200px}.swiper-3d .swiper-cube-shadow,.swiper-3d .swiper-slide,.swiper-3d .swiper-slide-shadow,.swiper-3d .swiper-slide-shadow-bottom,.swiper-3d .swiper-slide-shadow-left,.swiper-3d .swiper-slide-shadow-right,.swiper-3d .swiper-slide-shadow-top,.swiper-3d .swiper-wrapper{transform-style:preserve-3d}.swiper-3d .swiper-slide-shadow,.swiper-3d .swiper-slide-shadow-bottom,.swiper-3d .swiper-slide-shadow-left,.swiper-3d .swiper-slide-shadow-right,.swiper-3d .swiper-slide-shadow-top{position:absolute;left:0;top:0;width:100%;height:100%;pointer-events:none;z-index:10}.swiper-3d .swiper-slide-shadow{background:rgba(0,0,0,.15)}.swiper-3d .swiper-slide-shadow-left{background-image:linear-gradient(to left, rgba(0, 0, 0, 0.5), rgba(0, 0, 0, 0))}.swiper-3d .swiper-slide-shadow-right{background-image:linear-gradient(to right, rgba(0, 0, 0, 0.5), rgba(0, 0, 0, 0))}.swiper-3d .swiper-slide-shadow-top{background-image:linear-gradient(to top, rgba(0, 0, 0, 0.5), rgba(0, 0, 0, 0))}.swiper-3d .swiper-slide-shadow-bottom{background-image:linear-gradient(to bottom, rgba(0, 0, 0, 0.5), rgba(0, 0, 0, 0))}.swiper-css-mode>.swiper-wrapper{overflow:auto;scrollbar-width:none;-ms-overflow-style:none}.swiper-css-mode>.swiper-wrapper::-webkit-scrollbar{display:none}.swiper-css-mode>.swiper-wrapper>.swiper-slide{scroll-snap-align:start start}.swiper-horizontal.swiper-css-mode>.swiper-wrapper{scroll-snap-type:x mandatory}.swiper-vertical.swiper-css-mode>.swiper-wrapper{scroll-snap-type:y mandatory}.swiper-centered>.swiper-wrapper::before{content:\"\";flex-shrink:0;order:9999}.swiper-centered.swiper-horizontal>.swiper-wrapper>.swiper-slide:first-child{margin-inline-start:var(--swiper-centered-offset-before)}.swiper-centered.swiper-horizontal>.swiper-wrapper::before{height:100%;min-height:1px;width:var(--swiper-centered-offset-after)}.swiper-centered.swiper-vertical>.swiper-wrapper>.swiper-slide:first-child{margin-block-start:var(--swiper-centered-offset-before)}.swiper-centered.swiper-vertical>.swiper-wrapper::before{width:100%;min-width:1px;height:var(--swiper-centered-offset-after)}.swiper-centered>.swiper-wrapper>.swiper-slide{scroll-snap-align:center center;scroll-snap-stop:always}</style><meta http-equiv=\"origin-trial\" content=\"As0hBNJ8h++fNYlkq8cTye2qDLyom8NddByiVytXGGD0YVE+2CEuTCpqXMDxdhOMILKoaiaYifwEvCRlJ/9GcQ8AAAB8eyJvcmlnaW4iOiJodHRwczovL2RvdWJsZWNsaWNrLm5ldDo0NDMiLCJmZWF0dXJlIjoiV2ViVmlld1hSZXF1ZXN0ZWRXaXRoRGVwcmVjYXRpb24iLCJleHBpcnkiOjE3MTk1MzI3OTksImlzU3ViZG9tYWluIjp0cnVlfQ==\"><meta http-equiv=\"origin-trial\" content=\"AgRYsXo24ypxC89CJanC+JgEmraCCBebKl8ZmG7Tj5oJNx0cmH0NtNRZs3NB5ubhpbX/bIt7l2zJOSyO64NGmwMAAACCeyJvcmlnaW4iOiJodHRwczovL2dvb2dsZXN5bmRpY2F0aW9uLmNvbTo0NDMiLCJmZWF0dXJlIjoiV2ViVmlld1hSZXF1ZXN0ZWRXaXRoRGVwcmVjYXRpb24iLCJleHBpcnkiOjE3MTk1MzI3OTksImlzU3ViZG9tYWluIjp0cnVlfQ==\"><meta http-equiv=\"origin-trial\" content=\"A/ERL66fN363FkXxgDc6F1+ucRUkAhjEca9W3la6xaLnD2Y1lABsqmdaJmPNaUKPKVBRpyMKEhXYl7rSvrQw+AkAAACNeyJvcmlnaW4iOiJodHRwczovL2RvdWJsZWNsaWNrLm5ldDo0NDMiLCJmZWF0dXJlIjoiRmxlZGdlQmlkZGluZ0FuZEF1Y3Rpb25TZXJ2ZXIiLCJleHBpcnkiOjE3MTkzNTk5OTksImlzU3ViZG9tYWluIjp0cnVlLCJpc1RoaXJkUGFydHkiOnRydWV9\"><meta http-equiv=\"origin-trial\" content=\"A6OdGH3fVf4eKRDbXb4thXA4InNqDJDRhZ8U533U/roYjp4Yau0T3YSuc63vmAs/8ga1cD0E3A7LEq6AXk1uXgsAAACTeyJvcmlnaW4iOiJodHRwczovL2dvb2dsZXN5bmRpY2F0aW9uLmNvbTo0NDMiLCJmZWF0dXJlIjoiRmxlZGdlQmlkZGluZ0FuZEF1Y3Rpb25TZXJ2ZXIiLCJleHBpcnkiOjE3MTkzNTk5OTksImlzU3ViZG9tYWluIjp0cnVlLCJpc1RoaXJkUGFydHkiOnRydWV9\"><meta http-equiv=\"origin-trial\" content=\"As0hBNJ8h++fNYlkq8cTye2qDLyom8NddByiVytXGGD0YVE+2CEuTCpqXMDxdhOMILKoaiaYifwEvCRlJ/9GcQ8AAAB8eyJvcmlnaW4iOiJodHRwczovL2RvdWJsZWNsaWNrLm5ldDo0NDMiLCJmZWF0dXJlIjoiV2ViVmlld1hSZXF1ZXN0ZWRXaXRoRGVwcmVjYXRpb24iLCJleHBpcnkiOjE3MTk1MzI3OTksImlzU3ViZG9tYWluIjp0cnVlfQ==\"><meta http-equiv=\"origin-trial\" content=\"AgRYsXo24ypxC89CJanC+JgEmraCCBebKl8ZmG7Tj5oJNx0cmH0NtNRZs3NB5ubhpbX/bIt7l2zJOSyO64NGmwMAAACCeyJvcmlnaW4iOiJodHRwczovL2dvb2dsZXN5bmRpY2F0aW9uLmNvbTo0NDMiLCJmZWF0dXJlIjoiV2ViVmlld1hSZXF1ZXN0ZWRXaXRoRGVwcmVjYXRpb24iLCJleHBpcnkiOjE3MTk1MzI3OTksImlzU3ViZG9tYWluIjp0cnVlfQ==\"><meta http-equiv=\"origin-trial\" content=\"A/ERL66fN363FkXxgDc6F1+ucRUkAhjEca9W3la6xaLnD2Y1lABsqmdaJmPNaUKPKVBRpyMKEhXYl7rSvrQw+AkAAACNeyJvcmlnaW4iOiJodHRwczovL2RvdWJsZWNsaWNrLm5ldDo0NDMiLCJmZWF0dXJlIjoiRmxlZGdlQmlkZGluZ0FuZEF1Y3Rpb25TZXJ2ZXIiLCJleHBpcnkiOjE3MTkzNTk5OTksImlzU3ViZG9tYWluIjp0cnVlLCJpc1RoaXJkUGFydHkiOnRydWV9\"><meta http-equiv=\"origin-trial\" content=\"A6OdGH3fVf4eKRDbXb4thXA4InNqDJDRhZ8U533U/roYjp4Yau0T3YSuc63vmAs/8ga1cD0E3A7LEq6AXk1uXgsAAACTeyJvcmlnaW4iOiJodHRwczovL2dvb2dsZXN5bmRpY2F0aW9uLmNvbTo0NDMiLCJmZWF0dXJlIjoiRmxlZGdlQmlkZGluZ0FuZEF1Y3Rpb25TZXJ2ZXIiLCJleHBpcnkiOjE3MTkzNTk5OTksImlzU3ViZG9tYWluIjp0cnVlLCJpc1RoaXJkUGFydHkiOnRydWV9\"><meta http-equiv=\"origin-trial\" content=\"As0hBNJ8h++fNYlkq8cTye2qDLyom8NddByiVytXGGD0YVE+2CEuTCpqXMDxdhOMILKoaiaYifwEvCRlJ/9GcQ8AAAB8eyJvcmlnaW4iOiJodHRwczovL2RvdWJsZWNsaWNrLm5ldDo0NDMiLCJmZWF0dXJlIjoiV2ViVmlld1hSZXF1ZXN0ZWRXaXRoRGVwcmVjYXRpb24iLCJleHBpcnkiOjE3MTk1MzI3OTksImlzU3ViZG9tYWluIjp0cnVlfQ==\"><meta http-equiv=\"origin-trial\" content=\"AgRYsXo24ypxC89CJanC+JgEmraCCBebKl8ZmG7Tj5oJNx0cmH0NtNRZs3NB5ubhpbX/bIt7l2zJOSyO64NGmwMAAACCeyJvcmlnaW4iOiJodHRwczovL2dvb2dsZXN5bmRpY2F0aW9uLmNvbTo0NDMiLCJmZWF0dXJlIjoiV2ViVmlld1hSZXF1ZXN0ZWRXaXRoRGVwcmVjYXRpb24iLCJleHBpcnkiOjE3MTk1MzI3OTksImlzU3ViZG9tYWluIjp0cnVlfQ==\"><meta http-equiv=\"origin-trial\" content=\"A/ERL66fN363FkXxgDc6F1+ucRUkAhjEca9W3la6xaLnD2Y1lABsqmdaJmPNaUKPKVBRpyMKEhXYl7rSvrQw+AkAAACNeyJvcmlnaW4iOiJodHRwczovL2RvdWJsZWNsaWNrLm5ldDo0NDMiLCJmZWF0dXJlIjoiRmxlZGdlQmlkZGluZ0FuZEF1Y3Rpb25TZXJ2ZXIiLCJleHBpcnkiOjE3MTkzNTk5OTksImlzU3ViZG9tYWluIjp0cnVlLCJpc1RoaXJkUGFydHkiOnRydWV9\"><meta http-equiv=\"origin-trial\" content=\"A6OdGH3fVf4eKRDbXb4thXA4InNqDJDRhZ8U533U/roYjp4Yau0T3YSuc63vmAs/8ga1cD0E3A7LEq6AXk1uXgsAAACTeyJvcmlnaW4iOiJodHRwczovL2dvb2dsZXN5bmRpY2F0aW9uLmNvbTo0NDMiLCJmZWF0dXJlIjoiRmxlZGdlQmlkZGluZ0FuZEF1Y3Rpb25TZXJ2ZXIiLCJleHBpcnkiOjE3MTkzNTk5OTksImlzU3ViZG9tYWluIjp0cnVlLCJpc1RoaXJkUGFydHkiOnRydWV9\"><meta http-equiv=\"origin-trial\" content=\"As0hBNJ8h++fNYlkq8cTye2qDLyom8NddByiVytXGGD0YVE+2CEuTCpqXMDxdhOMILKoaiaYifwEvCRlJ/9GcQ8AAAB8eyJvcmlnaW4iOiJodHRwczovL2RvdWJsZWNsaWNrLm5ldDo0NDMiLCJmZWF0dXJlIjoiV2ViVmlld1hSZXF1ZXN0ZWRXaXRoRGVwcmVjYXRpb24iLCJleHBpcnkiOjE3MTk1MzI3OTksImlzU3ViZG9tYWluIjp0cnVlfQ==\"><meta http-equiv=\"origin-trial\" content=\"AgRYsXo24ypxC89CJanC+JgEmraCCBebKl8ZmG7Tj5oJNx0cmH0NtNRZs3NB5ubhpbX/bIt7l2zJOSyO64NGmwMAAACCeyJvcmlnaW4iOiJodHRwczovL2dvb2dsZXN5bmRpY2F0aW9uLmNvbTo0NDMiLCJmZWF0dXJlIjoiV2ViVmlld1hSZXF1ZXN0ZWRXaXRoRGVwcmVjYXRpb24iLCJleHBpcnkiOjE3MTk1MzI3OTksImlzU3ViZG9tYWluIjp0cnVlfQ==\"><meta http-equiv=\"origin-trial\" content=\"A/ERL66fN363FkXxgDc6F1+ucRUkAhjEca9W3la6xaLnD2Y1lABsqmdaJmPNaUKPKVBRpyMKEhXYl7rSvrQw+AkAAACNeyJvcmlnaW4iOiJodHRwczovL2RvdWJsZWNsaWNrLm5ldDo0NDMiLCJmZWF0dXJlIjoiRmxlZGdlQmlkZGluZ0FuZEF1Y3Rpb25TZXJ2ZXIiLCJleHBpcnkiOjE3MTkzNTk5OTksImlzU3ViZG9tYWluIjp0cnVlLCJpc1RoaXJkUGFydHkiOnRydWV9\"><meta http-equiv=\"origin-trial\" content=\"A6OdGH3fVf4eKRDbXb4thXA4InNqDJDRhZ8U533U/roYjp4Yau0T3YSuc63vmAs/8ga1cD0E3A7LEq6AXk1uXgsAAACTeyJvcmlnaW4iOiJodHRwczovL2dvb2dsZXN5bmRpY2F0aW9uLmNvbTo0NDMiLCJmZWF0dXJlIjoiRmxlZGdlQmlkZGluZ0FuZEF1Y3Rpb25TZXJ2ZXIiLCJleHBpcnkiOjE3MTkzNTk5OTksImlzU3ViZG9tYWluIjp0cnVlLCJpc1RoaXJkUGFydHkiOnRydWV9\"><meta http-equiv=\"origin-trial\" content=\"AymqwRC7u88Y4JPvfIF2F37QKylC04248hLCdJAsh8xgOfe/dVJPV3XS3wLFca1ZMVOtnBfVjaCMTVudWM//5g4AAAB7eyJvcmlnaW4iOiJodHRwczovL3d3dy5nb29nbGV0YWdtYW5hZ2VyLmNvbTo0NDMiLCJmZWF0dXJlIjoiUHJpdmFjeVNhbmRib3hBZHNBUElzIiwiZXhwaXJ5IjoxNjk1MTY3OTk5LCJpc1RoaXJkUGFydHkiOnRydWV9\"></head>\\n                                                <body id=\"tt-body-search\" class=\"color-gray post-type-text paging-view-more\" style=\"padding: 0px;\">\\n                \\n                \\n                \\n\\n<div id=\"acc-nav\">\\n  <a href=\"#content\">본문 바로가기</a>\\n</div>\\n<div id=\"wrap\" style=\"height: auto !important;\">\\n  <header id=\"header\">\\n    <h1><a href=\"https://pinkwink.kr/\">PinkWink</a></h1>\\n    <button type=\"button\" class=\"mobile-menu\"><span>메뉴</span></button>\\n    <div class=\"menu\">\\n      <nav id=\"gnb\">\\n        <ul class=\"tt_category\"><li class=\"\"><a href=\"/category\" class=\"link_tit\"> Posts by PinkWink <span class=\"c_cnt\">(1326)</span> </a>\\n  <ul class=\"category_list\"><li class=\"\"><a href=\"/category/Education\" class=\"link_item\"> Education <span class=\"c_cnt\">(43)</span> </a></li>\\n<li class=\"\"><a href=\"/category/Robot\" class=\"link_item\"> Robot <span class=\"c_cnt\">(166)</span> </a>\\n  <ul class=\"sub_category_list\"><li class=\"\"><a href=\"/category/Robot/Project\" class=\"link_sub_item\"> Project <span class=\"c_cnt\">(45)</span> </a></li>\\n<li class=\"\"><a href=\"/category/Robot/Robot%20Program%20-%20ROS\" class=\"link_sub_item\"> Robot Program - ROS <span class=\"c_cnt\">(69)</span> </a></li>\\n<li class=\"\"><a href=\"/category/Robot/Robot%20Module\" class=\"link_sub_item\"> Robot Module <span class=\"c_cnt\">(16)</span> </a></li>\\n<li class=\"\"><a href=\"/category/Robot/Block%20Coding\" class=\"link_sub_item\"> Block Coding <span class=\"c_cnt\">(13)</span> </a></li>\\n<li class=\"\"><a href=\"/category/Robot/Reference\" class=\"link_sub_item\"> Reference <span class=\"c_cnt\">(23)</span> </a></li>\\n</ul>\\n</li>\\n<li class=\"\"><a href=\"/category/Theory\" class=\"link_item\"> Theory <span class=\"c_cnt\">(228)</span> </a>\\n  <ul class=\"sub_category_list\"><li class=\"\"><a href=\"/category/Theory/ControlTheory\" class=\"link_sub_item\"> ControlTheory <span class=\"c_cnt\">(53)</span> </a></li>\\n<li class=\"\"><a href=\"/category/Theory/DataScience\" class=\"link_sub_item\"> DataScience <span class=\"c_cnt\">(52)</span> </a></li>\\n<li class=\"\"><a href=\"/category/Theory/MachineLearning\" class=\"link_sub_item\"> MachineLearning <span class=\"c_cnt\">(7)</span> </a></li>\\n<li class=\"\"><a href=\"/category/Theory/DeepLearning\" class=\"link_sub_item\"> DeepLearning <span class=\"c_cnt\">(19)</span> </a></li>\\n<li class=\"\"><a href=\"/category/Theory/Project\" class=\"link_sub_item\"> Project <span class=\"c_cnt\">(5)</span> </a></li>\\n<li class=\"\"><a href=\"/category/Theory/Lecture\" class=\"link_sub_item\"> Lecture <span class=\"c_cnt\">(77)</span> </a></li>\\n<li class=\"\"><a href=\"/category/Theory/Review\" class=\"link_sub_item\"> Review <span class=\"c_cnt\">(15)</span> </a></li>\\n</ul>\\n</li>\\n<li class=\"\"><a href=\"/category/Software\" class=\"link_item\"> Software <span class=\"c_cnt\">(304)</span> </a>\\n  <ul class=\"sub_category_list\"><li class=\"\"><a href=\"/category/Software/MATLAB\" class=\"link_sub_item\"> MATLAB <span class=\"c_cnt\">(65)</span> </a></li>\\n<li class=\"\"><a href=\"/category/Software/Python\" class=\"link_sub_item\"> Python <span class=\"c_cnt\">(78)</span> </a></li>\\n<li class=\"\"><a href=\"/category/Software/Processing\" class=\"link_sub_item\"> Processing <span class=\"c_cnt\">(11)</span> </a></li>\\n<li class=\"\"><a href=\"/category/Software/Ubuntu%20and%20Mint\" class=\"link_sub_item\"> Ubuntu and Mint <span class=\"c_cnt\">(42)</span> </a></li>\\n<li class=\"\"><a href=\"/category/Software/Mac%20OS\" class=\"link_sub_item\"> Mac OS <span class=\"c_cnt\">(25)</span> </a></li>\\n<li class=\"\"><a href=\"/category/Software/Useful%20SW\" class=\"link_sub_item\"> Useful SW <span class=\"c_cnt\">(60)</span> </a></li>\\n<li class=\"\"><a href=\"/category/Software/Useful%20Site\" class=\"link_sub_item\"> Useful Site <span class=\"c_cnt\">(23)</span> </a></li>\\n</ul>\\n</li>\\n<li class=\"\"><a href=\"/category/Hardware\" class=\"link_item\"> Hardware <span class=\"c_cnt\">(101)</span> </a>\\n  <ul class=\"sub_category_list\"><li class=\"\"><a href=\"/category/Hardware/SBC%20%28rasp%2C%20jetson%2C%20latte%20panda%29\" class=\"link_sub_item\"> SBC (rasp, jetson, latte pa.. <span class=\"c_cnt\">(20)</span> </a></li>\\n<li class=\"\"><a href=\"/category/Hardware/Arduino%20and%20Friends\" class=\"link_sub_item\"> Arduino and Friends <span class=\"c_cnt\">(30)</span> </a></li>\\n<li class=\"\"><a href=\"/category/Hardware/MCU\" class=\"link_sub_item\"> MCU <span class=\"c_cnt\">(16)</span> </a></li>\\n<li class=\"\"><a href=\"/category/Hardware/Review\" class=\"link_sub_item\"> Review <span class=\"c_cnt\">(35)</span> </a></li>\\n</ul>\\n</li>\\n<li class=\"\"><a href=\"/category/%EB%AC%B8%ED%99%94%EC%83%9D%ED%99%9C\" class=\"link_item\"> 문화생활 <span class=\"c_cnt\">(140)</span> </a>\\n  <ul class=\"sub_category_list\"><li class=\"\"><a href=\"/category/%EB%AC%B8%ED%99%94%EC%83%9D%ED%99%9C/%EA%B0%90%EC%83%81%ED%95%98%EA%B8%B0\" class=\"link_sub_item\"> 감상하기 <span class=\"c_cnt\">(28)</span> </a></li>\\n<li class=\"\"><a href=\"/category/%EB%AC%B8%ED%99%94%EC%83%9D%ED%99%9C/%EA%B0%80%EB%B3%BC%EA%B1%B0%EB%A6%AC.%EC%84%B8%EA%B3%84\" class=\"link_sub_item\"> 가볼거리.세계 <span class=\"c_cnt\">(84)</span> </a></li>\\n<li class=\"\"><a href=\"/category/%EB%AC%B8%ED%99%94%EC%83%9D%ED%99%9C/%EC%97%AD%EC%82%AC%EC%9D%B4%EC%95%BC%EA%B8%B0\" class=\"link_sub_item\"> 역사이야기 <span class=\"c_cnt\">(28)</span> </a></li>\\n</ul>\\n</li>\\n<li class=\"\"><a href=\"/category/%EC%9D%BC%EC%83%81%EC%83%9D%ED%99%9C\" class=\"link_item\"> 일상생활 <span class=\"c_cnt\">(344)</span> </a>\\n  <ul class=\"sub_category_list\"><li class=\"\"><a href=\"/category/%EC%9D%BC%EC%83%81%EC%83%9D%ED%99%9C/%EC%95%84%EA%B0%80%20%EB%AF%B8%EB%B0%94%EB%A4%BC\" class=\"link_sub_item\"> 아가 미바뤼 <span class=\"c_cnt\">(66)</span> </a></li>\\n<li class=\"\"><a href=\"/category/%EC%9D%BC%EC%83%81%EC%83%9D%ED%99%9C/%EB%81%84%EC%A0%81%EA%B1%B0%EB%A6%BC\" class=\"link_sub_item\"> 끄적거림 <span class=\"c_cnt\">(123)</span> </a></li>\\n<li class=\"\"><a href=\"/category/%EC%9D%BC%EC%83%81%EC%83%9D%ED%99%9C/%EB%A8%B9%EC%9D%84%EA%B1%B0%EB%A6%AC\" class=\"link_sub_item\"> 먹을거리 <span class=\"c_cnt\">(50)</span> </a></li>\\n<li class=\"\"><a href=\"/category/%EC%9D%BC%EC%83%81%EC%83%9D%ED%99%9C/%EA%B0%80%EB%B3%BC%EA%B1%B0%EB%A6%AC.%ED%95%9C%EA%B5%AD\" class=\"link_sub_item\"> 가볼거리.한국 <span class=\"c_cnt\">(91)</span> </a></li>\\n<li class=\"\"><a href=\"/category/%EC%9D%BC%EC%83%81%EC%83%9D%ED%99%9C/%ED%88%AC%EB%8D%9C%EA%B1%B0%EB%A6%BC\" class=\"link_sub_item\"> 투덜거림 <span class=\"c_cnt\">(14)</span> </a></li>\\n</ul>\\n</li>\\n</ul>\\n</li>\\n</ul>\\n\\n      </nav>\\n      <div class=\"social-link\">\\n        \\n        \\n        \\n        \\n      </div>\\n      <p>POWERED BY TISTORY</p>\\n    </div>\\n    <div class=\"search\">\\n      \\n          <input type=\"text\" name=\"search\" value=\"딥러닝\" placeholder=\"검색내용을 입력하세요.\" onkeypress=\"if (event.keyCode == 13) { try {\\n    window.location.href = \\'/search\\' + \\'/\\' + looseURIEncode(document.getElementsByName(\\'search\\')[0].value);\\n    document.getElementsByName(\\'search\\')[0].value = \\'\\';\\n    return false;\\n} catch (e) {} }\">\\n          <button type=\"submit\" onclick=\"try {\\n    window.location.href = \\'/search\\' + \\'/\\' + looseURIEncode(document.getElementsByName(\\'search\\')[0].value);\\n    document.getElementsByName(\\'search\\')[0].value = \\'\\';\\n    return false;\\n} catch (e) {}\">검색</button>\\n        \\n    </div>\\n  </header>\\n  <hr>\\n  <section class=\"container\">\\n    \\n    <article id=\"content\">\\n      \\n\\n      \\n\\n      \\n\\n      \\n        <div class=\"post-header\">\\n          <span><h1>딥러닝</h1></span>\\n          <span style=\"padding-left: 5px; font-weight: bold;\">(69)\\n          <div class=\"list-type\">\\n            <button type=\"button\" class=\"thum\">썸네일형</button>\\n            <button type=\"button\" class=\"list current\">리스트형</button>\\n          </div>\\n        </span></div>\\n      \\n\\n      <div class=\"inner\">\\n        \\n\\n                \\n            \\n  \\n    <div class=\"post-item\">\\n      <a href=\"/1447\">\\n        <span class=\"thum\">\\n          \\n            <img src=\"//i1.daumcdn.net/thumb/C264x200/?fname=https://blog.kakaocdn.net/dn/vYGHl/btsz9AzkVLv/XEDuxw2WIn0DdpF0IcPrz0/img.png\" alt=\"\">\\n          \\n        </span>\\n        <span class=\"title\">핑크랩이 데이원컴퍼니의 제로베이스에 데이터분석 과정 수업 개발에 참여했습니다.</span>\\n        <span class=\"date\">2023. 11. 12. 19:52</span>\\n        <span class=\"excerpt\">일단, 워낙 데이원컴퍼니의 고유명사처럼 인식되는 패스트캠퍼스부터 시작해야겠네요. 저는 회사이름도 패스트캠퍼스이던 시절, 그 분들이 흔히들 신사역 반지하 시절이라고 이야기하는 시절에 처음 인연을 맺엇습니다. 그 후 패스트캠퍼스는 2021년 사내 회사의 개념으로 CIC(Company In Compayny) 제도로 본사 이름을 데이원컴퍼니, 그리고, 각 CIC 중에 기존의 패스트캠퍼스와 스노우볼, 레모네이드, 콜로서를 두었습니다. 데이원컴퍼니는 이상한 변호사 우영우의 촬영지로 유명한 센터필드에 입주해있으며, 처음 2014년 혹은 2015년부터 2019년까지 누적매출 천억을 성인 교육으로 돌파한 대단한 이력의 회사입니다. 아무튼 우리가 자주 패스트캠퍼스라고 이야기하는 회사는 데이원컴퍼니가 되었고, 그 중 한 C..</span>\\n      </a>\\n    </div>\\n  \\n  \\n\\n            \\n        \\n            \\n  \\n    <div class=\"post-item\">\\n      <a href=\"/1446\">\\n        <span class=\"thum\">\\n          \\n            <img src=\"//i1.daumcdn.net/thumb/C264x200/?fname=https://blog.kakaocdn.net/dn/nWJOK/btsAc2O4tOi/3CKxe7CnJXCgUNpyBgCyb1/img.png\" alt=\"\">\\n          \\n        </span>\\n        <span class=\"title\">핑크랩이 아트센터 나비와 서울대 UX랩에 기술적 지원 프로젝트를 진행했습니다. ESP32, UWB 등을 활용한 공간 위치인식 및 음성 전송</span>\\n        <span class=\"date\">2023. 11. 12. 13:43</span>\\n        <span class=\"excerpt\">작년에 저는 아트센터 나비와 서울대 UX랩 분들을 대상으로 인력 양성 사업의 일종으로 아두이노 등 HW관련 수업을 진행했습니다. 그 인연으로 이번에 핑크랩이 ESP32, UWB 등을 활용한 공간 위치인식 및 음성 전송 관련된 프로젝트를 살짝 진행했습니다. 배경 https://pinkwink.kr/1418 아트센터 나비에서 예술쪽 분들에게 아두이노 교육을 진행했습니다. 시작은 작년인 2022년 10월부터입니다. 어떤때는 일주에 한번, 또 어떤때는 2~3주 걸러 한 번씩 금요일마다 오후에 진행되었습니다. 처음 이 건을 의뢰해 주신 분은 한국로봇융합연구원이었습니다 pinkwink.kr 이때 여러 대화중에 무언가 큰~~~~ 계획을 하시는 두 기관의 연구원들께서 프로젝트 진행의 부스트업, 진행속도의 가속력(^^)..</span>\\n      </a>\\n    </div>\\n  \\n  \\n\\n            \\n        \\n            \\n  \\n    <div class=\"post-item\">\\n      <a href=\"/1442\">\\n        <span class=\"thum\">\\n          \\n            <img src=\"//i1.daumcdn.net/thumb/C264x200/?fname=https://blog.kakaocdn.net/dn/mqswu/btszojRvW84/iUyoT3foutdwx8x0vWDN7k/img.png\" alt=\"\">\\n          \\n        </span>\\n        <span class=\"title\">핑크랩이 2023년 여름. 서울로봇아카데미의 교육을 진행했습니다.</span>\\n        <span class=\"date\">2023. 10. 29. 09:30</span>\\n        <span class=\"excerpt\">올해 2023년도 이제 2개월이 남았네요. 이런 느낌으로 한 해의 끝을 바라보는 것이 벌써 수십년째(헉.ㅠㅠ. 세월...)인데 여전히 한 해에 대한 아쉬움이 남습니다. 그러나 저와 저희 핑크랩(PinkLAB)은 23년을 정말 열심히 살았습니다. 그 중 여름에 진행한 서울로봇아카데미의 한 과정이 기억에 남습니다. 그 과정을 소개하려고 합니다. 핑크랩이 진행한 서울로봇아카데미 과정 서울로봇 아카데미는 서울시가 운영하는 로봇 교육 기관입니다. 서울로봇아카데미는 서울시의 위탁을 받아, 한국로봇산업협회와 한국로봇융합연구원이 서울로봇아카데미를 위탁 운영합니다. 그러니까 서울시가 주최기관이고, 한국로봇산업협회와 한국로봇융합연구원이 주관기관인거죠. 23년 여름에는 위 그림처럼 4개의 과정이 개설되었습니다. 그 중에서 ..</span>\\n      </a>\\n    </div>\\n  \\n  \\n\\n            \\n        \\n            \\n  \\n    <div class=\"post-item\">\\n      <a href=\"/1431\">\\n        <span class=\"thum\">\\n          \\n            <img src=\"//i1.daumcdn.net/thumb/C264x200/?fname=https://blog.kakaocdn.net/dn/J0V5K/btsoRx1SeGy/C4GQywG2o9ZqX3KgfpfjV1/img.png\" alt=\"\">\\n          \\n        </span>\\n        <span class=\"title\">[수강생 프로젝트 소개] 행동 인지 예측 모델을 이용한 불량 제품 검수 모델 개발</span>\\n        <span class=\"date\">2023. 7. 26. 08:10</span>\\n        <span class=\"excerpt\">안녕하세요. 이번에도 제가 제로베이스 데이터사이언스 스쿨에서 수업을 진행한 팀의 업적(?)을 도 하나 소개하려고 합니다. 이번 팀은 작업의 절차를 인식하려고 노력한 팀입니다. 물건을 놓아라, 돌려라 등의 행동을 인식해서 모델이 작업자가 가이드에 맞춰 잘 작업을 진행하고 있는지 그리고 대상 물건은 정상인지 등을 확인하는 모델을 만들려는 것입니다. 먼저 인지해야하는 행동 등을 정의를 내렸습니다. 그리고 불량 제품도 선정하구요. 이번 팀은 YOLO로 물체 인식, 미디어파이프로 Pose 인식, 그리고 인식된 pose를 이용해서 행동을 인식하는 것은 LSTM을 사용했습니다. 여러 상황을 조금 가정하고 진행을 했습니다. 단순한 행동이긴 하지만, \"돌려라\"의 행동을 인식하는 것은 단순히 한 장의 사진으로 되는 것이 ..</span>\\n      </a>\\n    </div>\\n  \\n  \\n\\n            \\n        \\n            \\n  \\n    <div class=\"post-item\">\\n      <a href=\"/1427\">\\n        <span class=\"thum\">\\n          \\n            <img src=\"//i1.daumcdn.net/thumb/C264x200/?fname=https://blog.kakaocdn.net/dn/mZyxa/btskllcT9gn/RncR5K8s9eJ03JkKaexNaK/img.png\" alt=\"\">\\n          \\n        </span>\\n        <span class=\"title\">영상 인식에 필요한 기초 기법 간편 정리 - ArUCo Marker, YOLO 등</span>\\n        <span class=\"date\">2023. 6. 19. 09:11</span>\\n        <span class=\"excerpt\">이번에는 로봇에서 영상인식, 혹은 간단한 프로젝트에서 영상을 인식하는 부분에 대해 간단히 정리해서 유투브에 올렸습니다. 여러가지를 모두 다루면 좋겠지만, 윈도우 환경에서 설명을 했고, OpenCV 기초, ArUCo Marker 이야기, YOLO, YOLO를 위한 라벨링 작업등을 초~간단하게 설명했습니다. 먼저 아래 링크는 영상 전체의 재생목록입니다. https://www.youtube.com/playlist?list=PL83j7f4UkozEKBsOgKNEy79w5ClNMtxSF 영상 인식에 필요한 기법 간편 정리 이번에는 로봇에서 영상인식, 혹은 간단한 프로젝트에서 영상을 인식하는 부분에 대해 간단히 정리해서 유투브에 올렸습니다. 여러가지를 모두 다루면 좋겠지만, 윈도우 환경에서 설명을 했고, www.y..</span>\\n      </a>\\n    </div>\\n  \\n  \\n\\n            \\n        \\n            \\n  \\n    <div class=\"post-item\">\\n      <a href=\"/1426\">\\n        <span class=\"thum\">\\n          \\n            <img src=\"//i1.daumcdn.net/thumb/C264x200/?fname=https://blog.kakaocdn.net/dn/bpcaLp/btsjlEE1g6j/ytddI9gaz4lkPBsz6A5RVK/img.png\" alt=\"\">\\n          \\n        </span>\\n        <span class=\"title\">[수강생 프로젝트 소개] 리뷰 분석 및 리뷰 가치 평가</span>\\n        <span class=\"date\">2023. 6. 12. 08:00</span>\\n        <span class=\"excerpt\">이번에 소개해 드릴 프로젝트는 제가 전임강사로 있는 제로베이스의 한 수강생들의 프로젝트입니다. 제로베이스의 수업은 저와 본격적으로 만나게 되는 프로젝트 단계까지 도착하시는 분들이 여러 사정으로 비율로는 낮게 오시는데요. 그 일련의 과정을 버티고 버텨서 도착하신 분들이라 꽤 수준 높은 프로젝트를 진행할 때가 많습니다. 이번에 소개해드릴 팀도 재미있는 프로젝트를 멋지게 수행한 팀 중 한 팀입니다. 개요 제목을 귀여운 공격적 스타일(^?^)로 잘 뽑은 것 같습니다. 그러나 제목에서 하고자 하는 일이 바로 들어나죠. 쇼핑몰의 상품에 달린 리뷰의 사진이 올바르게 찍혔냐는 부분을 검증하는 것으로 보시면 됩니다. 네 위 그림에서 보여주듯이, 좋은 리뷰에게 좋은 보상을 하도록 해서 리뷰 시스템을 건전하게 만들겠다는 것..</span>\\n      </a>\\n    </div>\\n  \\n  \\n\\n            \\n        \\n            \\n  \\n    <div class=\"post-item\">\\n      <a href=\"/1423\">\\n        <span class=\"thum\">\\n          \\n            <img src=\"//i1.daumcdn.net/thumb/C264x200/?fname=https://blog.kakaocdn.net/dn/b2u9XJ/btsgpYNip1p/4ArmaU8DKLL6EkhVlXMn2K/img.png\" alt=\"\">\\n          \\n        </span>\\n        <span class=\"title\">핑크랩이 진행한 H Mobility 해커톤 대회 이야기</span>\\n        <span class=\"date\">2023. 5. 18. 17:44</span>\\n        <span class=\"excerpt\">작년 11월에 저희 핑크랩이 현대자동차의 H-Mobility 해커톤 대회를 진행하게 되었다고 하고, 첫 행사를 진행한 후 글을 올렸었습니다. 그리고 애초 계약했던 두 번째 행사를 지난 주 주말, 5월 13일 14일에 진행해서 이제 전체 진행을 마쳤습니다. 대회의 주제 자체는 지난번 글에서 다루어서 아래 글을 보시고, 오늘은 저와 저희 팀 - 핑크랩의 이야기를 해보려고 합니다. 해커톤을 어떻게 준비해 갔는지를 이야기를 해볼까 합니다. https://pinkwink.kr/1400 22년 11월 H-Mobility Robotics 해커톤 대회를 마쳤습니다 얼마전에 저희 핑크랩이 현대 H 모빌리티 로보틱스 해커톤 대회를 연다고 했었는데요. https://pinkwink.kr/1397 핑크랩이 H-Mobility..</span>\\n      </a>\\n    </div>\\n  \\n  \\n\\n            \\n        \\n            \\n  \\n    <div class=\"post-item\">\\n      <a href=\"/1421\">\\n        <span class=\"thum\">\\n          \\n            <img src=\"//i1.daumcdn.net/thumb/C264x200/?fname=https://blog.kakaocdn.net/dn/mRax9/btsc1u1UlQl/dgpqyFQtJ2f27FKr0SXu31/img.png\" alt=\"\">\\n          \\n        </span>\\n        <span class=\"title\">[수강생 프로젝트 소개] 자율주행 로봇 SW 개발 - 차선인식, 장애물 회피, SLAM, ROS2</span>\\n        <span class=\"date\">2023. 4. 28. 08:00</span>\\n        <span class=\"excerpt\">최근 저는 정말 바쁜 날을 보내고 있습니다. 그 와중에 그래도 소개할 팀은 또 소개해야죠?^^ 이번에 소개할 팀의 결과물은 저에게 딥러닝과 ROS2 등의 수업을 시작한지 대략 5개월이 되던 시점에 시작한 프로젝트의 결과입니다. 처음에는 어미로봇이 아가로봇(^^)들을 데리고 실외를 주행한 다음 실내에서는 아가로봇들이 동작하는 컨셉이었습니다. 그러나 배우는 단계의 학생들이라 자금의 여력이 충분치 않아서 안타깝게도 많이 생략해야 했던 ... 슬픔이 있습니다. 그래도 저는 이 팀이 잘했다 싶은 것은 스스로 수행한 일들이 아래와 같기 때문입니다. 차선 인식을 하기 위한 segmentation 모델 학습 인식된 차선으로 로봇 기동하기 차선 위의 장애물을 감지하고 회피 기동하기 ROS2 slam을 이용해서 맵빌딩하고..</span>\\n      </a>\\n    </div>\\n  \\n  \\n\\n            \\n        \\n        <script async=\"\" src=\"https://pagead2.googlesyndication.com/pagead/js/adsbygoogle.js?client=ca-pub-2982459700139266\" crossorigin=\"anonymous\" data-checked-head=\"true\"></script>\\n<ins class=\"adsbygoogle\" style=\"display: block; height: 1104px;\" data-ad-format=\"autorelaxed\" data-ad-client=\"ca-pub-2982459700139266\" data-ad-slot=\"4966491850\" data-adsbygoogle-status=\"done\" data-ad-status=\"filled\"><div id=\"aswift_1_host\" tabindex=\"0\" title=\"Advertisement\" aria-label=\"Advertisement\" style=\"border: none; height: 1104px; width: 321px; margin: 0px; padding: 0px; position: relative; visibility: visible; background-color: transparent; display: inline-block;\"><iframe id=\"aswift_1\" name=\"aswift_1\" style=\"left:0;position:absolute;top:0;border:0;width:321px;height:1104px;\" sandbox=\"allow-forms allow-popups allow-popups-to-escape-sandbox allow-same-origin allow-scripts allow-top-navigation-by-user-activation\" width=\"321\" height=\"1104\" frameborder=\"0\" marginwidth=\"0\" marginheight=\"0\" vspace=\"0\" hspace=\"0\" allowtransparency=\"true\" scrolling=\"no\" src=\"https://googleads.g.doubleclick.net/pagead/ads?client=ca-pub-2982459700139266&amp;output=html&amp;h=1104&amp;slotname=4966491850&amp;adk=3900253499&amp;adf=1807177087&amp;pi=t.ma~as.4966491850&amp;w=321&amp;cr_col=1&amp;cr_row=13&amp;fwrn=2&amp;lmt=1702989116&amp;rafmt=9&amp;format=321x1104&amp;url=https%3A%2F%2Fpinkwink.kr%2Fsearch%2F%25EB%2594%25A5%25EB%259F%25AC%25EB%258B%259D&amp;ea=0&amp;host=ca-host-pub-9691043933427338&amp;crui=image_sidebyside&amp;fwr=0&amp;wgl=1&amp;uach=WyJXaW5kb3dzIiwiMTAuMC4wIiwieDg2IiwiIiwiMTIwLjAuNjA5OS4xMDkiLG51bGwsMCxudWxsLCI2NCIsW1siTm90X0EgQnJhbmQiLCI4LjAuMC4wIl0sWyJDaHJvbWl1bSIsIjEyMC4wLjYwOTkuMTA5Il0sWyJHb29nbGUgQ2hyb21lIiwiMTIwLjAuNjA5OS4xMDkiXV0sMF0.&amp;dt=1702989116722&amp;bpp=1&amp;bdt=323&amp;idt=137&amp;shv=r20231207&amp;mjsv=m202312070101&amp;ptt=9&amp;saldr=aa&amp;abxe=1&amp;cookie=ID%3Db5cc5d8b5136dcd4%3AT%3D1702988681%3ART%3D1702988681%3AS%3DALNI_MaTymoYUyd-ypvr0Cic_FG5DHkCjw&amp;gpic=UID%3D00000cb636789b06%3AT%3D1702988681%3ART%3D1702988681%3AS%3DALNI_MYwR5bgI25cchhPdfDlA4gx2huPcQ&amp;prev_fmts=0x0&amp;nras=1&amp;correlator=2808555494137&amp;frm=20&amp;pv=1&amp;ga_vid=461230319.1702988541&amp;ga_sid=1702989117&amp;ga_hid=822070418&amp;ga_fc=1&amp;u_tz=540&amp;u_his=3&amp;u_h=1080&amp;u_w=1920&amp;u_ah=1040&amp;u_aw=1920&amp;u_cd=24&amp;u_sd=1&amp;dmc=8&amp;adx=18&amp;ady=1537&amp;biw=357&amp;bih=882&amp;scr_x=0&amp;scr_y=0&amp;eid=44759876%2C44759927%2C31079759%2C42532524%2C95320868%2C95320885&amp;oid=2&amp;pvsid=2644245204917956&amp;tmod=1330088777&amp;uas=0&amp;nvt=1&amp;ref=https%3A%2F%2Fpinkwink.kr%2F&amp;fc=1920&amp;brdim=30%2C10%2C30%2C10%2C1920%2C0%2C945%2C1020%2C374%2C882&amp;vis=1&amp;rsz=o%7C%7CeEbr%7C&amp;abl=CS&amp;pfx=0&amp;fu=128&amp;bc=31&amp;psd=W251bGwsbnVsbCxudWxsLDNd&amp;ifi=2&amp;uci=a!2&amp;btvi=1&amp;fsb=1&amp;dtd=144\" data-google-container-id=\"a!2\" data-google-query-id=\"CIj-kerAm4MDFRlBDwIdzh8D1w\" data-load-complete=\"true\"></iframe></div></ins>\\n<script>\\n     (adsbygoogle = window.adsbygoogle || []).push({});\\n</script>\\n      </div>\\n\\n      \\n\\n      \\n\\n      \\n        <div class=\"pagination\">\\n          <a class=\"prev no-more-prev\" style=\"display: none;\">이전</a>\\n          \\n            <a href=\"/search/%EB%94%A5%EB%9F%AC%EB%8B%9D?page=1\" style=\"display: none;\"><span class=\"selected\">1</span></a>\\n          \\n            <a href=\"/search/%EB%94%A5%EB%9F%AC%EB%8B%9D?page=2\" style=\"display: none;\"><span class=\"\">2</span></a>\\n          \\n            <a href=\"/search/%EB%94%A5%EB%9F%AC%EB%8B%9D?page=3\" style=\"display: none;\"><span class=\"\">3</span></a>\\n          \\n            <a href=\"/search/%EB%94%A5%EB%9F%AC%EB%8B%9D?page=4\" style=\"display: none;\"><span class=\"\">4</span></a>\\n          \\n            <a style=\"display: none;\"><span class=\"\">···</span></a>\\n          \\n            <a href=\"/search/%EB%94%A5%EB%9F%AC%EB%8B%9D?page=9\" style=\"display: none;\"><span class=\"\">9</span></a>\\n          \\n          <a href=\"/search/%EB%94%A5%EB%9F%AC%EB%8B%9D?page=2\" class=\"next \" style=\"display: none;\">다음</a>\\n        <a href=\"/search/%EB%94%A5%EB%9F%AC%EB%8B%9D?page=2\" class=\"btn view-more\">목록 더보기</a></div>\\n      \\n\\n    </article>\\n\\n  \\n  </section>\\n  <hr>\\n  <div class=\"revenue_unit_wrap position_list\">\\n  <div class=\"revenue_unit_item adsense responsive\">\\n    <div class=\"revenue_unit_info\">반응형</div>\\n    <script src=\"//pagead2.googlesyndication.com/pagead/js/adsbygoogle.js\" async=\"async\"></script>\\n    <ins class=\"adsbygoogle\" style=\"display: block; transition: none 0s ease 0s; outline: none; border: none; padding: 0px; border-spacing: 0px; margin-left: 0px; width: 357px; z-index: 30; height: 297px;\" data-ad-host=\"ca-host-pub-9691043933427338\" data-ad-client=\"ca-pub-2982459700139266\" data-ad-format=\"auto\" data-adsbygoogle-status=\"done\" data-ad-status=\"filled\"><div id=\"aswift_2_host\" tabindex=\"0\" title=\"Advertisement\" aria-label=\"Advertisement\" style=\"border: none; height: 297px; width: 357px; margin: 0px; padding: 0px; position: relative; visibility: visible; background-color: transparent; display: inline-block; overflow: visible;\"><iframe id=\"aswift_2\" name=\"aswift_2\" style=\"left:0;position:absolute;top:0;border:0;width:357px;height:297px;\" sandbox=\"allow-forms allow-popups allow-popups-to-escape-sandbox allow-same-origin allow-scripts allow-top-navigation-by-user-activation\" width=\"357\" height=\"297\" frameborder=\"0\" marginwidth=\"0\" marginheight=\"0\" vspace=\"0\" hspace=\"0\" allowtransparency=\"true\" scrolling=\"no\" src=\"https://googleads.g.doubleclick.net/pagead/ads?client=ca-pub-2982459700139266&amp;output=html&amp;h=297&amp;adk=2262832406&amp;adf=1602128588&amp;w=357&amp;lmt=1702989116&amp;rafmt=1&amp;format=357x297&amp;url=https%3A%2F%2Fpinkwink.kr%2Fsearch%2F%25EB%2594%25A5%25EB%259F%25AC%25EB%258B%259D&amp;ea=0&amp;host=ca-host-pub-9691043933427338&amp;fwr=1&amp;rpe=1&amp;resp_fmts=3&amp;sfro=1&amp;wgl=1&amp;uach=WyJXaW5kb3dzIiwiMTAuMC4wIiwieDg2IiwiIiwiMTIwLjAuNjA5OS4xMDkiLG51bGwsMCxudWxsLCI2NCIsW1siTm90X0EgQnJhbmQiLCI4LjAuMC4wIl0sWyJDaHJvbWl1bSIsIjEyMC4wLjYwOTkuMTA5Il0sWyJHb29nbGUgQ2hyb21lIiwiMTIwLjAuNjA5OS4xMDkiXV0sMF0.&amp;dt=1702989116722&amp;bpp=1&amp;bdt=324&amp;idt=147&amp;shv=r20231207&amp;mjsv=m202312070101&amp;ptt=9&amp;saldr=aa&amp;abxe=1&amp;cookie=ID%3Db5cc5d8b5136dcd4%3AT%3D1702988681%3ART%3D1702988681%3AS%3DALNI_MaTymoYUyd-ypvr0Cic_FG5DHkCjw&amp;gpic=UID%3D00000cb636789b06%3AT%3D1702988681%3ART%3D1702988681%3AS%3DALNI_MYwR5bgI25cchhPdfDlA4gx2huPcQ&amp;prev_fmts=0x0%2C321x1104&amp;nras=1&amp;correlator=2808555494137&amp;frm=20&amp;pv=1&amp;ga_vid=461230319.1702988541&amp;ga_sid=1702989117&amp;ga_hid=822070418&amp;ga_fc=1&amp;u_tz=540&amp;u_his=3&amp;u_h=1080&amp;u_w=1920&amp;u_ah=1040&amp;u_aw=1920&amp;u_cd=24&amp;u_sd=1&amp;dmc=8&amp;adx=0&amp;ady=2913&amp;biw=357&amp;bih=882&amp;scr_x=0&amp;scr_y=0&amp;eid=44759876%2C44759927%2C31079759%2C42532524%2C95320868%2C95320885&amp;oid=2&amp;pvsid=2644245204917956&amp;tmod=1330088777&amp;uas=0&amp;nvt=1&amp;ref=https%3A%2F%2Fpinkwink.kr%2F&amp;fc=1920&amp;brdim=30%2C10%2C30%2C10%2C1920%2C0%2C945%2C1020%2C374%2C882&amp;vis=1&amp;rsz=o%7C%7CoeEbr%7C&amp;abl=CS&amp;pfx=0&amp;fu=128&amp;bc=31&amp;psd=W251bGwsbnVsbCxudWxsLDNd&amp;ifi=3&amp;uci=a!3&amp;btvi=2&amp;fsb=1&amp;dtd=150\" data-google-container-id=\"a!3\" data-google-query-id=\"CLT_kerAm4MDFR1HDwIdOBYNtQ\" data-load-complete=\"true\"></iframe></div></ins>\\n    <script>(adsbygoogle = window.adsbygoogle || []).push({});</script>\\n  </div>\\n</div>\\n  <footer id=\"footer\">\\n    <p class=\"copyright\">DESIGN BY <a href=\"#\">TISTORY</a> <a href=\"https://pinkwink.tistory.com/manage\" class=\"admin\">관리자</a></p>\\n  </footer>\\n</div>\\n<script src=\"https://tistory1.daumcdn.net/tistory/371175/skin/images/script.js?_version_=1687613150\"></script>\\n\\n\\n\\n<script async=\"\" src=\"//pagead2.googlesyndication.com/pagead/js/adsbygoogle.js\"></script>\\n<div class=\"#menubar menu_toolbar \">\\n  <h2 class=\"screen_out\">티스토리툴바</h2>\\n</div>\\n<div class=\"#menubar menu_toolbar \"></div>\\n<div class=\"layer_tooltip\">\\n  <div class=\"inner_layer_tooltip\">\\n    <p class=\"desc_g\"></p>\\n  </div>\\n</div>\\n<iframe id=\"editEntry\" style=\"position:absolute;width:1px;height:1px;left:-100px;top:-100px\" src=\"//pinkwink.tistory.com/api\"></iframe>\\n\\n                        <!-- SyntaxHighlight - START -->\\n        <link href=\"//cdnjs.cloudflare.com/ajax/libs/highlight.js/10.7.3/styles/github.min.css\" rel=\"stylesheet\"><script src=\"//cdnjs.cloudflare.com/ajax/libs/highlight.js/10.7.3/highlight.min.js\"></script>\\n<script src=\"//cdnjs.cloudflare.com/ajax/libs/highlight.js/10.7.3/languages/delphi.min.js\"></script>\\n<script src=\"//cdnjs.cloudflare.com/ajax/libs/highlight.js/10.7.3/languages/php.min.js\"></script>\\n<script src=\"//cdnjs.cloudflare.com/ajax/libs/highlight.js/10.7.3/languages/python.min.js\"></script>\\n<script src=\"//cdnjs.cloudflare.com/ajax/libs/highlight.js/10.7.3/languages/r.min.js\" defer=\"\"></script>\\n<script src=\"//cdnjs.cloudflare.com/ajax/libs/highlight.js/10.7.3/languages/ruby.min.js\"></script>\\n<script src=\"//cdnjs.cloudflare.com/ajax/libs/highlight.js/10.7.3/languages/scala.min.js\" defer=\"\"></script>\\n<script src=\"//cdnjs.cloudflare.com/ajax/libs/highlight.js/10.7.3/languages/shell.min.js\"></script>\\n<script src=\"//cdnjs.cloudflare.com/ajax/libs/highlight.js/10.7.3/languages/sql.min.js\"></script>\\n<script src=\"//cdnjs.cloudflare.com/ajax/libs/highlight.js/10.7.3/languages/swift.min.js\" defer=\"\"></script>\\n<script src=\"//cdnjs.cloudflare.com/ajax/libs/highlight.js/10.7.3/languages/typescript.min.js\" defer=\"\"></script>\\n<script src=\"//cdnjs.cloudflare.com/ajax/libs/highlight.js/10.7.3/languages/vbnet.min.js\" defer=\"\"></script>\\n  <script>hljs.initHighlightingOnLoad();</script>\\n\\n\\n        <!-- SyntaxHighlight - END -->\\n\\n                \\n                <script type=\"text/javascript\">(function($) {\\n    $(document).ready(function() {\\n        lightbox.options.fadeDuration = 200;\\n        lightbox.options.resizeDuration = 200;\\n        lightbox.options.wrapAround = false;\\n        lightbox.options.albumLabel = \"%1 / %2\";\\n    })\\n})(tjQuery);</script>\\n<div style=\"margin:0; padding:0; border:none; background:none; float:none; clear:none; z-index:0\"></div>\\n<script type=\"text/javascript\" src=\"https://tistory1.daumcdn.net/tistory_admin/userblog/tistory-48230642543245d2e19baccae18e5a447552b564/static/script/common.js\"></script>\\n<script type=\"text/javascript\">window.roosevelt_params_queue = window.roosevelt_params_queue || [{channel_id: \\'dk\\', channel_label: \\'{tistory}\\'}]</script>\\n<script type=\"text/javascript\" src=\"//t1.daumcdn.net/midas/rt/dk_bt/roosevelt_dk_bt.js\" async=\"async\"></script>\\n<script type=\"text/javascript\" src=\"https://tistory1.daumcdn.net/tistory_admin/userblog/tistory-48230642543245d2e19baccae18e5a447552b564/static/script/menubar.min.js\"></script>\\n<script>            (function (win, doc, src) {\\n    win.Wpm = win.Wpm || function (name, param) {\\n        win.Wpm.queue = win.Wpm.queue || [];\\n        const { queue } = win.Wpm;\\n        queue.push([name, param]);\\n    };\\n    const script = doc.createElement(\\'script\\');\\n    script.src = src;\\n    script.async = 1;\\n    const [elem] = doc.getElementsByTagName(\\'script\\');\\n    elem.parentNode.insertBefore(script, elem);\\n})(window, document, \\'https://t1.kakaocdn.net/malibu_prod/normal_wpm.js\\');\\n            const APP_KEY = \\'fd21bd1c091849f9a2555e49c43a73dd\\';\\n            Wpm(\\'appKey\\', APP_KEY);</script>\\n\\n                \\n                <script>window.tiara = {\"svcDomain\":\"user.tistory.com\",\"section\":\"글뷰\",\"trackPage\":\"검색뷰_보기\",\"page\":\"검색뷰\",\"key\":\"371175\",\"customProps\":{\"userId\":\"0\",\"blogId\":\"371175\",\"entryId\":\"null\",\"role\":\"guest\",\"trackPage\":\"검색뷰_보기\",\"filterTarget\":false},\"entry\":null,\"kakaoAppKey\":\"3e6ddd834b023f24221217e370daed18\",\"appUserId\":\"null\"}</script>\\n<script type=\"text/javascript\" src=\"https://tistory1.daumcdn.net/tistory_admin/userblog/tistory-48230642543245d2e19baccae18e5a447552b564/static/script/tiara.min.js\"></script>\\n\\n                \\n\\n<div id=\"lightboxOverlay\" class=\"lightboxOverlay\" style=\"display: none;\"></div><div id=\"lightbox\" class=\"lightbox\" style=\"display: none;\"><div class=\"lb-outerContainer\"><div class=\"lb-container\"><img class=\"lb-image\" src=\"data:image/gif;base64,R0lGODlhAQABAIAAAP///wAAACH5BAEAAAAALAAAAAABAAEAAAICRAEAOw==\"><div class=\"lb-nav\"><a class=\"lb-prev\" href=\"\"></a><a class=\"lb-next\" href=\"\"></a></div><div class=\"lb-loader\"><a class=\"lb-cancel\"></a></div></div></div><div class=\"lb-dataContainer\"><div class=\"lb-data\"><div class=\"lb-details\"><span class=\"lb-caption\"></span><span class=\"lb-number\"></span></div><div class=\"lb-closeContainer\"><a class=\"lb-close\"></a></div></div></div></div><ins class=\"adsbygoogle adsbygoogle-noablate\" data-adsbygoogle-status=\"done\" style=\"display: none !important;\" data-ad-status=\"unfilled\"><div id=\"aswift_0_host\" tabindex=\"0\" title=\"Advertisement\" aria-label=\"Advertisement\" style=\"border: none; height: 0px; width: 0px; margin: 0px; padding: 0px; position: relative; visibility: visible; background-color: transparent; display: inline-block;\"><iframe id=\"aswift_0\" name=\"aswift_0\" style=\"left:0;position:absolute;top:0;border:0;width:undefinedpx;height:undefinedpx;\" sandbox=\"allow-forms allow-popups allow-popups-to-escape-sandbox allow-same-origin allow-scripts allow-top-navigation-by-user-activation\" frameborder=\"0\" marginwidth=\"0\" marginheight=\"0\" vspace=\"0\" hspace=\"0\" allowtransparency=\"true\" scrolling=\"no\" src=\"https://googleads.g.doubleclick.net/pagead/ads?client=ca-pub-2982459700139266&amp;output=html&amp;adk=3397874647&amp;adf=2703517995&amp;lmt=1702989116&amp;plat=3%3A65536%2C4%3A65536%2C16%3A8388608%2C17%3A32%2C24%3A32%2C25%3A32%2C30%3A34603008%2C32%3A32%2C41%3A32%2C42%3A32&amp;format=0x0&amp;url=https%3A%2F%2Fpinkwink.kr%2Fsearch%2F%25EB%2594%25A5%25EB%259F%25AC%25EB%258B%259D&amp;ea=0&amp;host=ca-host-pub-9691043933427338&amp;pra=5&amp;wgl=1&amp;easpi=0&amp;asro=0&amp;asiscm=1&amp;aslmt=0.4&amp;asamt=-1&amp;asedf=0&amp;asefa=1&amp;aseiel=1~2~4~6&amp;aslcwct=150&amp;asacwct=25&amp;uach=WyJXaW5kb3dzIiwiMTAuMC4wIiwieDg2IiwiIiwiMTIwLjAuNjA5OS4xMDkiLG51bGwsMCxudWxsLCI2NCIsW1siTm90X0EgQnJhbmQiLCI4LjAuMC4wIl0sWyJDaHJvbWl1bSIsIjEyMC4wLjYwOTkuMTA5Il0sWyJHb29nbGUgQ2hyb21lIiwiMTIwLjAuNjA5OS4xMDkiXV0sMF0.&amp;dt=1702989116721&amp;bpp=1&amp;bdt=322&amp;idt=110&amp;shv=r20231207&amp;mjsv=m202312070101&amp;ptt=9&amp;saldr=aa&amp;abxe=1&amp;cookie=ID%3Db5cc5d8b5136dcd4%3AT%3D1702988681%3ART%3D1702988681%3AS%3DALNI_MaTymoYUyd-ypvr0Cic_FG5DHkCjw&amp;gpic=UID%3D00000cb636789b06%3AT%3D1702988681%3ART%3D1702988681%3AS%3DALNI_MYwR5bgI25cchhPdfDlA4gx2huPcQ&amp;nras=1&amp;correlator=2808555494137&amp;frm=20&amp;pv=2&amp;ga_vid=461230319.1702988541&amp;ga_sid=1702989117&amp;ga_hid=822070418&amp;ga_fc=1&amp;u_tz=540&amp;u_his=3&amp;u_h=1080&amp;u_w=1920&amp;u_ah=1040&amp;u_aw=1920&amp;u_cd=24&amp;u_sd=1&amp;dmc=8&amp;adx=-12245933&amp;ady=-12245933&amp;biw=357&amp;bih=882&amp;scr_x=0&amp;scr_y=0&amp;eid=44759876%2C44759927%2C31079759%2C42532524%2C95320868%2C95320885&amp;oid=2&amp;pvsid=2644245204917956&amp;tmod=1330088777&amp;uas=0&amp;nvt=1&amp;fsapi=1&amp;ref=https%3A%2F%2Fpinkwink.kr%2F&amp;fc=1920&amp;brdim=30%2C10%2C30%2C10%2C1920%2C0%2C945%2C1020%2C374%2C882&amp;vis=1&amp;rsz=%7C%7Cs%7C&amp;abl=NS&amp;fu=32768&amp;bc=31&amp;psd=W251bGwsbnVsbCxudWxsLDNd&amp;ifi=1&amp;uci=a!1&amp;fsb=1&amp;dtd=117\" data-google-container-id=\"a!1\" data-load-complete=\"true\"></iframe></div></ins><ins class=\"adsbygoogle adsbygoogle-noablate\" data-adsbygoogle-status=\"done\" data-anchor-status=\"ready-to-display\" style=\"display: none;\" data-ad-status=\"filled\"><div id=\"aswift_3_host\" tabindex=\"0\" title=\"Advertisement\" aria-label=\"Advertisement\" style=\"border: none; height: 89px; width: 357px; margin: 0px; padding: 0px; position: relative; visibility: visible; background-color: transparent; display: inline-block;\"><iframe id=\"aswift_3\" name=\"aswift_3\" style=\"width:357px !IMPORTANT;height:89px !IMPORTANT\" sandbox=\"allow-forms allow-popups allow-popups-to-escape-sandbox allow-same-origin allow-scripts allow-top-navigation-by-user-activation\" width=\"357\" height=\"89\" frameborder=\"0\" marginwidth=\"0\" marginheight=\"0\" vspace=\"0\" hspace=\"0\" allowtransparency=\"true\" scrolling=\"no\" src=\"https://googleads.g.doubleclick.net/pagead/html/r20231207/r20110914/zrt_lookup_fy2021.html?fsb=1#RS-0-&amp;adk=3397874642&amp;client=ca-pub-2982459700139266&amp;fa=2&amp;ifi=4&amp;uci=a!4&amp;btvi=3\" data-google-container-id=\"a!4\" data-google-query-id=\"CKSPj-rAm4MDFSJGDwIdgIAIdg\" data-load-complete=\"true\"></iframe></div><div class=\"grippy-host\" style=\"position: absolute !important; top: 89px !important; width: 100% !important;\"></div></ins><iframe src=\"https://www.google.com/recaptcha/api2/aframe\" width=\"0\" height=\"0\" style=\"display: none;\"></iframe></body><iframe id=\"google_esf\" name=\"google_esf\" src=\"https://googleads.g.doubleclick.net/pagead/html/r20231207/r20190131/zrt_lookup_fy2021.html\" style=\"display: none;\"></iframe></html>'"
      ]
     },
     "execution_count": 102,
     "metadata": {},
     "output_type": "execute_result"
    }
   ],
   "source": [
    "driver.page_source # 페이지 소스 확인"
   ]
  },
  {
   "cell_type": "code",
   "execution_count": 103,
   "metadata": {},
   "outputs": [],
   "source": [
    "from bs4 import BeautifulSoup\n",
    "\n",
    "req = driver.page_source\n",
    "soup = BeautifulSoup(req, 'html.parser')\n"
   ]
  },
  {
   "cell_type": "code",
   "execution_count": 105,
   "metadata": {},
   "outputs": [
    {
     "data": {
      "text/plain": [
       "8"
      ]
     },
     "execution_count": 105,
     "metadata": {},
     "output_type": "execute_result"
    }
   ],
   "source": [
    "contents = soup.select('.post-item')\n",
    "len(contents)"
   ]
  },
  {
   "cell_type": "code",
   "execution_count": 106,
   "metadata": {},
   "outputs": [
    {
     "data": {
      "text/plain": [
       "<div class=\"post-item\">\n",
       "<a href=\"/1442\">\n",
       "<span class=\"thum\">\n",
       "<img alt=\"\" src=\"//i1.daumcdn.net/thumb/C264x200/?fname=https://blog.kakaocdn.net/dn/mqswu/btszojRvW84/iUyoT3foutdwx8x0vWDN7k/img.png\"/>\n",
       "</span>\n",
       "<span class=\"title\">핑크랩이 2023년 여름. 서울로봇아카데미의 교육을 진행했습니다.</span>\n",
       "<span class=\"date\">2023. 10. 29. 09:30</span>\n",
       "<span class=\"excerpt\">올해 2023년도 이제 2개월이 남았네요. 이런 느낌으로 한 해의 끝을 바라보는 것이 벌써 수십년째(헉.ㅠㅠ. 세월...)인데 여전히 한 해에 대한 아쉬움이 남습니다. 그러나 저와 저희 핑크랩(PinkLAB)은 23년을 정말 열심히 살았습니다. 그 중 여름에 진행한 서울로봇아카데미의 한 과정이 기억에 남습니다. 그 과정을 소개하려고 합니다. 핑크랩이 진행한 서울로봇아카데미 과정 서울로봇 아카데미는 서울시가 운영하는 로봇 교육 기관입니다. 서울로봇아카데미는 서울시의 위탁을 받아, 한국로봇산업협회와 한국로봇융합연구원이 서울로봇아카데미를 위탁 운영합니다. 그러니까 서울시가 주최기관이고, 한국로봇산업협회와 한국로봇융합연구원이 주관기관인거죠. 23년 여름에는 위 그림처럼 4개의 과정이 개설되었습니다. 그 중에서 ..</span>\n",
       "</a>\n",
       "</div>"
      ]
     },
     "execution_count": 106,
     "metadata": {},
     "output_type": "execute_result"
    }
   ],
   "source": [
    "contents[2]"
   ]
  },
  {
   "cell_type": "code",
   "execution_count": 107,
   "metadata": {},
   "outputs": [],
   "source": [
    "driver.quit()"
   ]
  },
  {
   "cell_type": "markdown",
   "metadata": {},
   "source": [
    "#### 2. 셀프 주유소가 정말 저렴한가요? - 데이터 확보하기 위한 작업\n",
    "\n",
    "- https://www.opinet.co.kr/searRgSelect.do\n",
    "- 사이트 구조 확인\n",
    "- 목표 데이터\n",
    "    - 브랜드\n",
    "    - 가격\n",
    "    - 셀프 주유 여부\n",
    "    - 위치"
   ]
  },
  {
   "cell_type": "markdown",
   "metadata": {},
   "source": [
    "#### 3. 셀레니움으로 접근"
   ]
  },
  {
   "cell_type": "code",
   "execution_count": 110,
   "metadata": {},
   "outputs": [],
   "source": [
    "from selenium import webdriver"
   ]
  },
  {
   "cell_type": "code",
   "execution_count": 148,
   "metadata": {},
   "outputs": [],
   "source": [
    "# 페이지 접근\n",
    "import time\n",
    "\n",
    "url = \"https://www.opinet.co.kr/searRgSelect.do\"\n",
    "driver = webdriver.Chrome('../driver/chromedriver.exe')\n",
    "driver.get(url)\n",
    "\n",
    "time.sleep(2)"
   ]
  },
  {
   "cell_type": "code",
   "execution_count": 114,
   "metadata": {},
   "outputs": [
    {
     "name": "stderr",
     "output_type": "stream",
     "text": [
      "C:\\Users\\kimsh-dt01\\AppData\\Local\\Temp\\ipykernel_25580\\264032634.py:3: DeprecationWarning: use driver.switch_to.window instead\n",
      "  driver.switch_to_window(driver.window_handles[-1])\n"
     ]
    }
   ],
   "source": [
    "# 팝업창 전환후 닫기\n",
    "\n",
    "driver.switch_to_window(driver.window_handles[-1]) # 팝업창으로 전환\n",
    "# driver.close()\n"
   ]
  },
  {
   "cell_type": "code",
   "execution_count": 115,
   "metadata": {},
   "outputs": [
    {
     "name": "stderr",
     "output_type": "stream",
     "text": [
      "C:\\Users\\kimsh-dt01\\AppData\\Local\\Temp\\ipykernel_25580\\3374547746.py:3: DeprecationWarning: use driver.switch_to.window instead\n",
      "  driver.switch_to_window(driver.window_handles[0])\n"
     ]
    }
   ],
   "source": [
    "# 접근페이디 다시 요청\n",
    "\n",
    "driver.switch_to_window(driver.window_handles[0])\n"
   ]
  },
  {
   "cell_type": "code",
   "execution_count": 117,
   "metadata": {},
   "outputs": [],
   "source": [
    "# 새로고침\n",
    "\n",
    "driver.refresh()"
   ]
  },
  {
   "cell_type": "code",
   "execution_count": 119,
   "metadata": {},
   "outputs": [],
   "source": [
    "driver.quit()"
   ]
  },
  {
   "cell_type": "code",
   "execution_count": 149,
   "metadata": {},
   "outputs": [
    {
     "data": {
      "text/plain": [
       "'            시/도\\n            \\n             \\n              서울\\n             \\n             \\n            \\n             \\n             \\n              부산\\n             \\n            \\n             \\n             \\n              대구\\n             \\n            \\n             \\n             \\n              인천\\n             \\n            \\n             \\n             \\n              광주\\n             \\n            \\n             \\n             \\n              대전\\n             \\n            \\n             \\n             \\n              울산\\n             \\n            \\n             \\n             \\n              세종\\n             \\n            \\n             \\n             \\n              경기\\n             \\n            \\n             \\n             \\n              강원\\n             \\n            \\n             \\n             \\n              충북\\n             \\n            \\n             \\n             \\n              충남\\n             \\n            \\n             \\n             \\n              전북\\n             \\n            \\n             \\n             \\n              전남\\n             \\n            \\n             \\n             \\n              경북\\n             \\n            \\n             \\n             \\n              경남\\n             \\n            \\n             \\n             \\n              제주\\n             \\n            \\n           '"
      ]
     },
     "execution_count": 149,
     "metadata": {},
     "output_type": "execute_result"
    }
   ],
   "source": [
    "# 지역 : 시/도\n",
    "\n",
    "sido_list_raw = driver.find_element(By. ID, 'SIDO_NM0')\n",
    "sido_list_raw.text\n"
   ]
  },
  {
   "cell_type": "code",
   "execution_count": 150,
   "metadata": {},
   "outputs": [
    {
     "data": {
      "text/plain": [
       "'서울'"
      ]
     },
     "execution_count": 150,
     "metadata": {},
     "output_type": "execute_result"
    }
   ],
   "source": [
    "sido_list = sido_list_raw.find_elements(By.TAG_NAME, 'option') # option 태그를 모두 찾음 's' 주의해서 붙여주기\n",
    "sido_list[1].text # 첫번째 요소 확인"
   ]
  },
  {
   "cell_type": "code",
   "execution_count": 151,
   "metadata": {},
   "outputs": [
    {
     "data": {
      "text/plain": [
       "'서울특별시'"
      ]
     },
     "execution_count": 151,
     "metadata": {},
     "output_type": "execute_result"
    }
   ],
   "source": [
    "sido_list[1].get_attribute('value') # value 속성값 가져오기"
   ]
  },
  {
   "cell_type": "code",
   "execution_count": 152,
   "metadata": {},
   "outputs": [
    {
     "data": {
      "text/plain": [
       "['',\n",
       " '서울특별시',\n",
       " '부산광역시',\n",
       " '대구광역시',\n",
       " '인천광역시',\n",
       " '광주광역시',\n",
       " '대전광역시',\n",
       " '울산광역시',\n",
       " '세종특별자치시',\n",
       " '경기도',\n",
       " '강원특별자치도',\n",
       " '충청북도',\n",
       " '충청남도',\n",
       " '전라북도',\n",
       " '전라남도',\n",
       " '경상북도',\n",
       " '경상남도',\n",
       " '제주특별자치도']"
      ]
     },
     "execution_count": 152,
     "metadata": {},
     "output_type": "execute_result"
    }
   ],
   "source": [
    "sido_names = []\n",
    "\n",
    "for option in sido_list:\n",
    "    sido_names.append(option.get_attribute('value'))\n",
    "    \n",
    "sido_names"
   ]
  },
  {
   "cell_type": "code",
   "execution_count": 153,
   "metadata": {},
   "outputs": [
    {
     "data": {
      "text/plain": [
       "['', '서울특별시', '부산광역시', '대구광역시', '인천광역시']"
      ]
     },
     "execution_count": 153,
     "metadata": {},
     "output_type": "execute_result"
    }
   ],
   "source": [
    "sido_names = [option.get_attribute('value') for option in sido_list] # 리스트 컴프리헨션으로 한줄로 작성\n",
    "sido_names[:5]"
   ]
  },
  {
   "cell_type": "code",
   "execution_count": 154,
   "metadata": {},
   "outputs": [
    {
     "data": {
      "text/plain": [
       "['서울특별시', '부산광역시', '대구광역시', '인천광역시', '광주광역시']"
      ]
     },
     "execution_count": 154,
     "metadata": {},
     "output_type": "execute_result"
    }
   ],
   "source": [
    "# 빈칸 해결\n",
    "sido_names = sido_names[1:]\n",
    "sido_names[:5]"
   ]
  },
  {
   "cell_type": "code",
   "execution_count": 155,
   "metadata": {},
   "outputs": [],
   "source": [
    "sido_list_raw.send_keys(sido_names[0])"
   ]
  },
  {
   "cell_type": "code",
   "execution_count": 156,
   "metadata": {},
   "outputs": [
    {
     "data": {
      "text/plain": [
       "(['강남구', '강동구', '강북구', '강서구', '관악구'], 25)"
      ]
     },
     "execution_count": 156,
     "metadata": {},
     "output_type": "execute_result"
    }
   ],
   "source": [
    "# 구\n",
    "\n",
    "gu_list_raw = driver.find_element(By. ID, 'SIGUNGU_NM0')\n",
    "gu_list = gu_list_raw.find_elements(By.TAG_NAME, 'option') # option 태그를 모두 찾음 's' 주의해서 붙여주기\n",
    "\n",
    "gu_names = [option.get_attribute('value') for option in gu_list ]\n",
    "gu_names = gu_names[1:]\n",
    "gu_names[:5] , len(gu_names) # 25개"
   ]
  },
  {
   "cell_type": "code",
   "execution_count": 157,
   "metadata": {},
   "outputs": [],
   "source": [
    "gu_list_raw.send_keys(gu_names[0])"
   ]
  },
  {
   "cell_type": "code",
   "execution_count": 158,
   "metadata": {},
   "outputs": [],
   "source": [
    "# 엑셀저장\n",
    "\n",
    "driver.find_element(By. ID, 'glopopd_excel').click()"
   ]
  },
  {
   "cell_type": "code",
   "execution_count": 160,
   "metadata": {},
   "outputs": [
    {
     "name": "stderr",
     "output_type": "stream",
     "text": [
      "C:\\Users\\kimsh-dt01\\AppData\\Local\\Temp\\ipykernel_25580\\447756592.py:4: TqdmDeprecationWarning: This function will be removed in tqdm==5.0.0\n",
      "Please use `tqdm.notebook.tqdm` instead of `tqdm.tqdm_notebook`\n",
      "  for gu in tqdm_notebook(gu_names):\n"
     ]
    },
    {
     "data": {
      "application/vnd.jupyter.widget-view+json": {
       "model_id": "51bf8821093a49afa094b8926c5019ad",
       "version_major": 2,
       "version_minor": 0
      },
      "text/plain": [
       "  0%|          | 0/25 [00:00<?, ?it/s]"
      ]
     },
     "metadata": {},
     "output_type": "display_data"
    }
   ],
   "source": [
    "import time\n",
    "from tqdm import tqdm_notebook\n",
    "\n",
    "for gu in tqdm_notebook(gu_names):\n",
    "    element = driver.find_element(By.ID , 'SIGUNGU_NM0')\n",
    "    element.send_keys(gu)\n",
    "    time.sleep(3)\n",
    "    \n",
    "    element_get_excel = driver.find_element(By.ID, 'glopopd_excel').click()\n",
    "    time.sleep(3)\n",
    "\n"
   ]
  },
  {
   "cell_type": "code",
   "execution_count": 142,
   "metadata": {},
   "outputs": [],
   "source": [
    "driver.close()"
   ]
  },
  {
   "cell_type": "markdown",
   "metadata": {},
   "source": [
    "### 4. 데이터 정리하기 \n"
   ]
  },
  {
   "cell_type": "code",
   "execution_count": 162,
   "metadata": {},
   "outputs": [],
   "source": [
    "import pandas as pd\n",
    "from glob import glob"
   ]
  },
  {
   "cell_type": "code",
   "execution_count": 163,
   "metadata": {},
   "outputs": [
    {
     "data": {
      "text/plain": [
       "['../data\\\\지역_위치별(주유소) (1).xls',\n",
       " '../data\\\\지역_위치별(주유소) (10).xls',\n",
       " '../data\\\\지역_위치별(주유소) (11).xls',\n",
       " '../data\\\\지역_위치별(주유소) (12).xls',\n",
       " '../data\\\\지역_위치별(주유소) (13).xls',\n",
       " '../data\\\\지역_위치별(주유소) (14).xls',\n",
       " '../data\\\\지역_위치별(주유소) (15).xls',\n",
       " '../data\\\\지역_위치별(주유소) (16).xls',\n",
       " '../data\\\\지역_위치별(주유소) (17).xls',\n",
       " '../data\\\\지역_위치별(주유소) (18).xls',\n",
       " '../data\\\\지역_위치별(주유소) (19).xls',\n",
       " '../data\\\\지역_위치별(주유소) (2).xls',\n",
       " '../data\\\\지역_위치별(주유소) (20).xls',\n",
       " '../data\\\\지역_위치별(주유소) (21).xls',\n",
       " '../data\\\\지역_위치별(주유소) (22).xls',\n",
       " '../data\\\\지역_위치별(주유소) (23).xls',\n",
       " '../data\\\\지역_위치별(주유소) (24).xls',\n",
       " '../data\\\\지역_위치별(주유소) (3).xls',\n",
       " '../data\\\\지역_위치별(주유소) (4).xls',\n",
       " '../data\\\\지역_위치별(주유소) (5).xls',\n",
       " '../data\\\\지역_위치별(주유소) (6).xls',\n",
       " '../data\\\\지역_위치별(주유소) (7).xls',\n",
       " '../data\\\\지역_위치별(주유소) (8).xls',\n",
       " '../data\\\\지역_위치별(주유소) (9).xls',\n",
       " '../data\\\\지역_위치별(주유소).xls']"
      ]
     },
     "execution_count": 163,
     "metadata": {},
     "output_type": "execute_result"
    }
   ],
   "source": [
    "# 파일 목록 한 번에 가져오기\n",
    "\n",
    "glob('../data/지역_*.xls') # 지역_로 시작하는 모든 파일 가져오기"
   ]
  },
  {
   "cell_type": "code",
   "execution_count": 166,
   "metadata": {},
   "outputs": [
    {
     "data": {
      "text/plain": [
       "['../data\\\\지역_위치별(주유소) (1).xls',\n",
       " '../data\\\\지역_위치별(주유소) (10).xls',\n",
       " '../data\\\\지역_위치별(주유소) (11).xls',\n",
       " '../data\\\\지역_위치별(주유소) (12).xls',\n",
       " '../data\\\\지역_위치별(주유소) (13).xls']"
      ]
     },
     "execution_count": 166,
     "metadata": {},
     "output_type": "execute_result"
    }
   ],
   "source": [
    "stations_files =glob('../data/지역_*.xls')\n",
    "stations_files[:5]"
   ]
  },
  {
   "cell_type": "code",
   "execution_count": 170,
   "metadata": {},
   "outputs": [
    {
     "data": {
      "text/html": [
       "<div>\n",
       "<style scoped>\n",
       "    .dataframe tbody tr th:only-of-type {\n",
       "        vertical-align: middle;\n",
       "    }\n",
       "\n",
       "    .dataframe tbody tr th {\n",
       "        vertical-align: top;\n",
       "    }\n",
       "\n",
       "    .dataframe thead th {\n",
       "        text-align: right;\n",
       "    }\n",
       "</style>\n",
       "<table border=\"1\" class=\"dataframe\">\n",
       "  <thead>\n",
       "    <tr style=\"text-align: right;\">\n",
       "      <th></th>\n",
       "      <th>지역</th>\n",
       "      <th>상호</th>\n",
       "      <th>주소</th>\n",
       "      <th>상표</th>\n",
       "      <th>전화번호</th>\n",
       "      <th>셀프여부</th>\n",
       "      <th>고급휘발유</th>\n",
       "      <th>휘발유</th>\n",
       "      <th>경유</th>\n",
       "      <th>실내등유</th>\n",
       "    </tr>\n",
       "  </thead>\n",
       "  <tbody>\n",
       "    <tr>\n",
       "      <th>9</th>\n",
       "      <td>서울특별시</td>\n",
       "      <td>지에스칼텍스㈜ 동서울주유소</td>\n",
       "      <td>서울 강동구 천호대로 1456 (상일동)</td>\n",
       "      <td>GS칼텍스</td>\n",
       "      <td>02-426-5372</td>\n",
       "      <td>Y</td>\n",
       "      <td>1921</td>\n",
       "      <td>1721</td>\n",
       "      <td>1649</td>\n",
       "      <td>-</td>\n",
       "    </tr>\n",
       "    <tr>\n",
       "      <th>10</th>\n",
       "      <td>서울특별시</td>\n",
       "      <td>(주)소모 성내주유소</td>\n",
       "      <td>서울 강동구 올림픽로 578 (성내동)</td>\n",
       "      <td>GS칼텍스</td>\n",
       "      <td>02-479-3838</td>\n",
       "      <td>Y</td>\n",
       "      <td>-</td>\n",
       "      <td>1728</td>\n",
       "      <td>1628</td>\n",
       "      <td>-</td>\n",
       "    </tr>\n",
       "    <tr>\n",
       "      <th>11</th>\n",
       "      <td>서울특별시</td>\n",
       "      <td>주)지유에너지직영 오렌지주유소</td>\n",
       "      <td>서울 강동구 성안로 102 (성내동)</td>\n",
       "      <td>SK에너지</td>\n",
       "      <td>02-484-6165</td>\n",
       "      <td>N</td>\n",
       "      <td>1954</td>\n",
       "      <td>1754</td>\n",
       "      <td>1654</td>\n",
       "      <td>-</td>\n",
       "    </tr>\n",
       "    <tr>\n",
       "      <th>12</th>\n",
       "      <td>서울특별시</td>\n",
       "      <td>천호현대주유소</td>\n",
       "      <td>서울 강동구 천중로 67 (천호동)</td>\n",
       "      <td>HD현대오일뱅크</td>\n",
       "      <td>02-484-9323</td>\n",
       "      <td>N</td>\n",
       "      <td>-</td>\n",
       "      <td>1899</td>\n",
       "      <td>1799</td>\n",
       "      <td>-</td>\n",
       "    </tr>\n",
       "    <tr>\n",
       "      <th>13</th>\n",
       "      <td>서울특별시</td>\n",
       "      <td>광성주유소</td>\n",
       "      <td>서울 강동구 올림픽로 673 (천호동)</td>\n",
       "      <td>S-OIL</td>\n",
       "      <td>02-470-5133</td>\n",
       "      <td>N</td>\n",
       "      <td>-</td>\n",
       "      <td>1978</td>\n",
       "      <td>1898</td>\n",
       "      <td>1800</td>\n",
       "    </tr>\n",
       "  </tbody>\n",
       "</table>\n",
       "</div>"
      ],
      "text/plain": [
       "       지역                상호                      주소        상표         전화번호  \\\n",
       "9   서울특별시    지에스칼텍스㈜ 동서울주유소  서울 강동구 천호대로 1456 (상일동)     GS칼텍스  02-426-5372   \n",
       "10  서울특별시       (주)소모 성내주유소   서울 강동구 올림픽로 578 (성내동)     GS칼텍스  02-479-3838   \n",
       "11  서울특별시  주)지유에너지직영 오렌지주유소    서울 강동구 성안로 102 (성내동)     SK에너지  02-484-6165   \n",
       "12  서울특별시           천호현대주유소     서울 강동구 천중로 67 (천호동)  HD현대오일뱅크  02-484-9323   \n",
       "13  서울특별시             광성주유소   서울 강동구 올림픽로 673 (천호동)     S-OIL  02-470-5133   \n",
       "\n",
       "   셀프여부 고급휘발유   휘발유    경유  실내등유  \n",
       "9     Y  1921  1721  1649     -  \n",
       "10    Y     -  1728  1628     -  \n",
       "11    N  1954  1754  1654     -  \n",
       "12    N     -  1899  1799     -  \n",
       "13    N     -  1978  1898  1800  "
      ]
     },
     "execution_count": 170,
     "metadata": {},
     "output_type": "execute_result"
    }
   ],
   "source": [
    "# 하나만 일겅보기\n",
    "\n",
    "tmp = pd.read_excel(stations_files[0], header=2) # header=2 : 2번째 행부터 읽어오기\n",
    "tmp.tail()"
   ]
  },
  {
   "cell_type": "code",
   "execution_count": 174,
   "metadata": {},
   "outputs": [],
   "source": [
    "tmp_raw = []\n",
    "\n",
    "for file_name in stations_files:\n",
    "    tmp = pd.read_excel(file_name, header=2)\n",
    "    tmp_raw.append(tmp)\n",
    "    "
   ]
  },
  {
   "cell_type": "markdown",
   "metadata": {},
   "source": [
    "- 형식이 동일하고 연달아 붙이기만 하면 될 때는 concat"
   ]
  },
  {
   "cell_type": "code",
   "execution_count": 179,
   "metadata": {},
   "outputs": [
    {
     "data": {
      "text/html": [
       "<div>\n",
       "<style scoped>\n",
       "    .dataframe tbody tr th:only-of-type {\n",
       "        vertical-align: middle;\n",
       "    }\n",
       "\n",
       "    .dataframe tbody tr th {\n",
       "        vertical-align: top;\n",
       "    }\n",
       "\n",
       "    .dataframe thead th {\n",
       "        text-align: right;\n",
       "    }\n",
       "</style>\n",
       "<table border=\"1\" class=\"dataframe\">\n",
       "  <thead>\n",
       "    <tr style=\"text-align: right;\">\n",
       "      <th></th>\n",
       "      <th>지역</th>\n",
       "      <th>상호</th>\n",
       "      <th>주소</th>\n",
       "      <th>상표</th>\n",
       "      <th>전화번호</th>\n",
       "      <th>셀프여부</th>\n",
       "      <th>고급휘발유</th>\n",
       "      <th>휘발유</th>\n",
       "      <th>경유</th>\n",
       "      <th>실내등유</th>\n",
       "    </tr>\n",
       "  </thead>\n",
       "  <tbody>\n",
       "    <tr>\n",
       "      <th>0</th>\n",
       "      <td>서울특별시</td>\n",
       "      <td>재건에너지 재정제2주유소 고속셀프지점</td>\n",
       "      <td>서울특별시 강동구  천호대로 1246 (둔촌제2동)</td>\n",
       "      <td>HD현대오일뱅크</td>\n",
       "      <td>02-487-2030</td>\n",
       "      <td>Y</td>\n",
       "      <td>-</td>\n",
       "      <td>1589</td>\n",
       "      <td>1529</td>\n",
       "      <td>-</td>\n",
       "    </tr>\n",
       "    <tr>\n",
       "      <th>1</th>\n",
       "      <td>서울특별시</td>\n",
       "      <td>구천면주유소</td>\n",
       "      <td>서울 강동구 구천면로 357 (암사동)</td>\n",
       "      <td>HD현대오일뱅크</td>\n",
       "      <td>02-441-0536</td>\n",
       "      <td>N</td>\n",
       "      <td>-</td>\n",
       "      <td>1634</td>\n",
       "      <td>1545</td>\n",
       "      <td>-</td>\n",
       "    </tr>\n",
       "    <tr>\n",
       "      <th>2</th>\n",
       "      <td>서울특별시</td>\n",
       "      <td>방아다리주유소</td>\n",
       "      <td>서울 강동구 동남로 811 (명일동)</td>\n",
       "      <td>SK에너지</td>\n",
       "      <td>02-442-5145</td>\n",
       "      <td>Y</td>\n",
       "      <td>-</td>\n",
       "      <td>1665</td>\n",
       "      <td>1575</td>\n",
       "      <td>1500</td>\n",
       "    </tr>\n",
       "    <tr>\n",
       "      <th>3</th>\n",
       "      <td>서울특별시</td>\n",
       "      <td>(주)소모 신월주유소</td>\n",
       "      <td>서울 강동구 양재대로 1323 (성내동)</td>\n",
       "      <td>GS칼텍스</td>\n",
       "      <td>02-6956-6674</td>\n",
       "      <td>Y</td>\n",
       "      <td>1886</td>\n",
       "      <td>1666</td>\n",
       "      <td>1588</td>\n",
       "      <td>1590</td>\n",
       "    </tr>\n",
       "    <tr>\n",
       "      <th>4</th>\n",
       "      <td>서울특별시</td>\n",
       "      <td>(주)삼표에너지 고덕주유소</td>\n",
       "      <td>서울 강동구 고덕로 39 (암사동)</td>\n",
       "      <td>GS칼텍스</td>\n",
       "      <td>02-441-3327</td>\n",
       "      <td>Y</td>\n",
       "      <td>1875</td>\n",
       "      <td>1675</td>\n",
       "      <td>1595</td>\n",
       "      <td>1599</td>\n",
       "    </tr>\n",
       "    <tr>\n",
       "      <th>...</th>\n",
       "      <td>...</td>\n",
       "      <td>...</td>\n",
       "      <td>...</td>\n",
       "      <td>...</td>\n",
       "      <td>...</td>\n",
       "      <td>...</td>\n",
       "      <td>...</td>\n",
       "      <td>...</td>\n",
       "      <td>...</td>\n",
       "      <td>...</td>\n",
       "    </tr>\n",
       "    <tr>\n",
       "      <th>27</th>\n",
       "      <td>서울특별시</td>\n",
       "      <td>대청주유소</td>\n",
       "      <td>서울 강남구 개포로 654 (일원동)</td>\n",
       "      <td>SK에너지</td>\n",
       "      <td>02-445-5500</td>\n",
       "      <td>N</td>\n",
       "      <td>2489</td>\n",
       "      <td>2195</td>\n",
       "      <td>2086</td>\n",
       "      <td>1846</td>\n",
       "    </tr>\n",
       "    <tr>\n",
       "      <th>28</th>\n",
       "      <td>서울특별시</td>\n",
       "      <td>㈜새서울석유 새서울주유소</td>\n",
       "      <td>서울 강남구 압구정로 154</td>\n",
       "      <td>HD현대오일뱅크</td>\n",
       "      <td>02-543-1154</td>\n",
       "      <td>N</td>\n",
       "      <td>2397</td>\n",
       "      <td>2198</td>\n",
       "      <td>2098</td>\n",
       "      <td>1798</td>\n",
       "    </tr>\n",
       "    <tr>\n",
       "      <th>29</th>\n",
       "      <td>서울특별시</td>\n",
       "      <td>SK논현주유소</td>\n",
       "      <td>서울 강남구 논현로 747 (논현동)</td>\n",
       "      <td>SK에너지</td>\n",
       "      <td>02-511-0955</td>\n",
       "      <td>N</td>\n",
       "      <td>2630</td>\n",
       "      <td>2395</td>\n",
       "      <td>2295</td>\n",
       "      <td>1798</td>\n",
       "    </tr>\n",
       "    <tr>\n",
       "      <th>30</th>\n",
       "      <td>서울특별시</td>\n",
       "      <td>(주)제이제이네트웍스 제이제이주유소</td>\n",
       "      <td>서울 강남구 언주로 716</td>\n",
       "      <td>HD현대오일뱅크</td>\n",
       "      <td>02-518-5631</td>\n",
       "      <td>N</td>\n",
       "      <td>2710</td>\n",
       "      <td>2490</td>\n",
       "      <td>2380</td>\n",
       "      <td>-</td>\n",
       "    </tr>\n",
       "    <tr>\n",
       "      <th>31</th>\n",
       "      <td>서울특별시</td>\n",
       "      <td>(주)만정에너지 삼보주유소</td>\n",
       "      <td>서울 강남구 봉은사로 433 (삼성동)</td>\n",
       "      <td>GS칼텍스</td>\n",
       "      <td>02-518-5141</td>\n",
       "      <td>N</td>\n",
       "      <td>2838</td>\n",
       "      <td>2598</td>\n",
       "      <td>2560</td>\n",
       "      <td>1850</td>\n",
       "    </tr>\n",
       "  </tbody>\n",
       "</table>\n",
       "<p>438 rows × 10 columns</p>\n",
       "</div>"
      ],
      "text/plain": [
       "       지역                    상호                            주소        상표  \\\n",
       "0   서울특별시  재건에너지 재정제2주유소 고속셀프지점  서울특별시 강동구  천호대로 1246 (둔촌제2동)  HD현대오일뱅크   \n",
       "1   서울특별시                구천면주유소         서울 강동구 구천면로 357 (암사동)  HD현대오일뱅크   \n",
       "2   서울특별시               방아다리주유소          서울 강동구 동남로 811 (명일동)     SK에너지   \n",
       "3   서울특별시           (주)소모 신월주유소        서울 강동구 양재대로 1323 (성내동)     GS칼텍스   \n",
       "4   서울특별시        (주)삼표에너지 고덕주유소           서울 강동구 고덕로 39 (암사동)     GS칼텍스   \n",
       "..    ...                   ...                           ...       ...   \n",
       "27  서울특별시                 대청주유소          서울 강남구 개포로 654 (일원동)     SK에너지   \n",
       "28  서울특별시         ㈜새서울석유 새서울주유소               서울 강남구 압구정로 154  HD현대오일뱅크   \n",
       "29  서울특별시               SK논현주유소          서울 강남구 논현로 747 (논현동)     SK에너지   \n",
       "30  서울특별시   (주)제이제이네트웍스 제이제이주유소                서울 강남구 언주로 716  HD현대오일뱅크   \n",
       "31  서울특별시        (주)만정에너지 삼보주유소         서울 강남구 봉은사로 433 (삼성동)     GS칼텍스   \n",
       "\n",
       "            전화번호 셀프여부 고급휘발유   휘발유    경유  실내등유  \n",
       "0    02-487-2030    Y     -  1589  1529     -  \n",
       "1    02-441-0536    N     -  1634  1545     -  \n",
       "2    02-442-5145    Y     -  1665  1575  1500  \n",
       "3   02-6956-6674    Y  1886  1666  1588  1590  \n",
       "4    02-441-3327    Y  1875  1675  1595  1599  \n",
       "..           ...  ...   ...   ...   ...   ...  \n",
       "27   02-445-5500    N  2489  2195  2086  1846  \n",
       "28   02-543-1154    N  2397  2198  2098  1798  \n",
       "29   02-511-0955    N  2630  2395  2295  1798  \n",
       "30   02-518-5631    N  2710  2490  2380     -  \n",
       "31   02-518-5141    N  2838  2598  2560  1850  \n",
       "\n",
       "[438 rows x 10 columns]"
      ]
     },
     "execution_count": 179,
     "metadata": {},
     "output_type": "execute_result"
    }
   ],
   "source": [
    "stations_raw = pd.concat(tmp_raw)\n",
    "stations_raw"
   ]
  },
  {
   "cell_type": "code",
   "execution_count": 180,
   "metadata": {},
   "outputs": [
    {
     "name": "stdout",
     "output_type": "stream",
     "text": [
      "<class 'pandas.core.frame.DataFrame'>\n",
      "Index: 438 entries, 0 to 31\n",
      "Data columns (total 10 columns):\n",
      " #   Column  Non-Null Count  Dtype \n",
      "---  ------  --------------  ----- \n",
      " 0   지역      438 non-null    object\n",
      " 1   상호      438 non-null    object\n",
      " 2   주소      438 non-null    object\n",
      " 3   상표      438 non-null    object\n",
      " 4   전화번호    438 non-null    object\n",
      " 5   셀프여부    438 non-null    object\n",
      " 6   고급휘발유   438 non-null    object\n",
      " 7   휘발유     438 non-null    object\n",
      " 8   경유      438 non-null    object\n",
      " 9   실내등유    438 non-null    object\n",
      "dtypes: object(10)\n",
      "memory usage: 37.6+ KB\n"
     ]
    }
   ],
   "source": [
    "stations_raw.info()"
   ]
  },
  {
   "cell_type": "code",
   "execution_count": 181,
   "metadata": {},
   "outputs": [],
   "source": [
    "stations = pd.DataFrame({\n",
    "    \"상호\":stations_raw[\"상호\"],\n",
    "    \"주소\":stations_raw[\"주소\"],\n",
    "    \"가격\":stations_raw[\"휘발유\"],\n",
    "    \"셀프\":stations_raw[\"셀프여부\"],\n",
    "    \"상표\":stations_raw[\"상표\"]\n",
    "})"
   ]
  },
  {
   "cell_type": "code",
   "execution_count": 182,
   "metadata": {},
   "outputs": [
    {
     "data": {
      "text/html": [
       "<div>\n",
       "<style scoped>\n",
       "    .dataframe tbody tr th:only-of-type {\n",
       "        vertical-align: middle;\n",
       "    }\n",
       "\n",
       "    .dataframe tbody tr th {\n",
       "        vertical-align: top;\n",
       "    }\n",
       "\n",
       "    .dataframe thead th {\n",
       "        text-align: right;\n",
       "    }\n",
       "</style>\n",
       "<table border=\"1\" class=\"dataframe\">\n",
       "  <thead>\n",
       "    <tr style=\"text-align: right;\">\n",
       "      <th></th>\n",
       "      <th>상호</th>\n",
       "      <th>주소</th>\n",
       "      <th>가격</th>\n",
       "      <th>셀프</th>\n",
       "      <th>상표</th>\n",
       "    </tr>\n",
       "  </thead>\n",
       "  <tbody>\n",
       "    <tr>\n",
       "      <th>0</th>\n",
       "      <td>재건에너지 재정제2주유소 고속셀프지점</td>\n",
       "      <td>서울특별시 강동구  천호대로 1246 (둔촌제2동)</td>\n",
       "      <td>1589</td>\n",
       "      <td>Y</td>\n",
       "      <td>HD현대오일뱅크</td>\n",
       "    </tr>\n",
       "    <tr>\n",
       "      <th>1</th>\n",
       "      <td>구천면주유소</td>\n",
       "      <td>서울 강동구 구천면로 357 (암사동)</td>\n",
       "      <td>1634</td>\n",
       "      <td>N</td>\n",
       "      <td>HD현대오일뱅크</td>\n",
       "    </tr>\n",
       "    <tr>\n",
       "      <th>2</th>\n",
       "      <td>방아다리주유소</td>\n",
       "      <td>서울 강동구 동남로 811 (명일동)</td>\n",
       "      <td>1665</td>\n",
       "      <td>Y</td>\n",
       "      <td>SK에너지</td>\n",
       "    </tr>\n",
       "    <tr>\n",
       "      <th>3</th>\n",
       "      <td>(주)소모 신월주유소</td>\n",
       "      <td>서울 강동구 양재대로 1323 (성내동)</td>\n",
       "      <td>1666</td>\n",
       "      <td>Y</td>\n",
       "      <td>GS칼텍스</td>\n",
       "    </tr>\n",
       "    <tr>\n",
       "      <th>4</th>\n",
       "      <td>(주)삼표에너지 고덕주유소</td>\n",
       "      <td>서울 강동구 고덕로 39 (암사동)</td>\n",
       "      <td>1675</td>\n",
       "      <td>Y</td>\n",
       "      <td>GS칼텍스</td>\n",
       "    </tr>\n",
       "  </tbody>\n",
       "</table>\n",
       "</div>"
      ],
      "text/plain": [
       "                     상호                            주소    가격 셀프        상표\n",
       "0  재건에너지 재정제2주유소 고속셀프지점  서울특별시 강동구  천호대로 1246 (둔촌제2동)  1589  Y  HD현대오일뱅크\n",
       "1                구천면주유소         서울 강동구 구천면로 357 (암사동)  1634  N  HD현대오일뱅크\n",
       "2               방아다리주유소          서울 강동구 동남로 811 (명일동)  1665  Y     SK에너지\n",
       "3           (주)소모 신월주유소        서울 강동구 양재대로 1323 (성내동)  1666  Y     GS칼텍스\n",
       "4        (주)삼표에너지 고덕주유소           서울 강동구 고덕로 39 (암사동)  1675  Y     GS칼텍스"
      ]
     },
     "execution_count": 182,
     "metadata": {},
     "output_type": "execute_result"
    }
   ],
   "source": [
    "stations.head()"
   ]
  },
  {
   "cell_type": "code",
   "execution_count": 183,
   "metadata": {},
   "outputs": [
    {
     "data": {
      "text/plain": [
       "0     서울특별시 강동구  천호대로 1246 (둔촌제2동)\n",
       "1            서울 강동구 구천면로 357 (암사동)\n",
       "2             서울 강동구 동남로 811 (명일동)\n",
       "3           서울 강동구 양재대로 1323 (성내동)\n",
       "4              서울 강동구 고덕로 39 (암사동)\n",
       "                  ...             \n",
       "27            서울 강남구 개포로 654 (일원동)\n",
       "28                 서울 강남구 압구정로 154\n",
       "29            서울 강남구 논현로 747 (논현동)\n",
       "30                  서울 강남구 언주로 716\n",
       "31           서울 강남구 봉은사로 433 (삼성동)\n",
       "Name: 주소, Length: 438, dtype: object"
      ]
     },
     "execution_count": 183,
     "metadata": {},
     "output_type": "execute_result"
    }
   ],
   "source": [
    "stations['주소']"
   ]
  },
  {
   "cell_type": "code",
   "execution_count": 184,
   "metadata": {},
   "outputs": [
    {
     "name": "stdout",
     "output_type": "stream",
     "text": [
      "강동구\n",
      "강동구\n",
      "강동구\n",
      "강동구\n",
      "강동구\n",
      "강동구\n",
      "강동구\n",
      "강동구\n",
      "강동구\n",
      "강동구\n",
      "강동구\n",
      "강동구\n",
      "강동구\n",
      "강동구\n",
      "동대문구\n",
      "동대문구\n",
      "동대문구\n",
      "동대문구\n",
      "동대문구\n",
      "동대문구\n",
      "동대문구\n",
      "동대문구\n",
      "동대문구\n",
      "동대문구\n",
      "동대문구\n",
      "동대문구\n",
      "동대문구\n",
      "동대문구\n",
      "동대문구\n",
      "동대문구\n",
      "동대문구\n",
      "동대문구\n",
      "동작구\n",
      "동작구\n",
      "동작구\n",
      "동작구\n",
      "동작구\n",
      "동작구\n",
      "동작구\n",
      "동작구\n",
      "동작구\n",
      "마포구\n",
      "마포구\n",
      "마포구\n",
      "마포구\n",
      "마포구\n",
      "마포구\n",
      "마포구\n",
      "마포구\n",
      "마포구\n",
      "마포구\n",
      "마포구\n",
      "서대문구\n",
      "서대문구\n",
      "서대문구\n",
      "서대문구\n",
      "서대문구\n",
      "서대문구\n",
      "서대문구\n",
      "서대문구\n",
      "서대문구\n",
      "서대문구\n",
      "서대문구\n",
      "서대문구\n",
      "서대문구\n",
      "서대문구\n",
      "서대문구\n",
      "서초구\n",
      "서초구\n",
      "서초구\n",
      "서초구\n",
      "서초구\n",
      "서초구\n",
      "서초구\n",
      "서초구\n",
      "서초구\n",
      "서초구\n",
      "서초구\n",
      "서초구\n",
      "서초구\n",
      "서초구\n",
      "서초구\n",
      "서초구\n",
      "서초구\n",
      "서초구\n",
      "서초구\n",
      "서초구\n",
      "서초구\n",
      "서초구\n",
      "서초구\n",
      "서초구\n",
      "서초구\n",
      "서초구\n",
      "서초구\n",
      "서초구\n",
      "서초구\n",
      "서초구\n",
      "서초구\n",
      "성동구\n",
      "성동구\n",
      "성동구\n",
      "성동구\n",
      "성동구\n",
      "성동구\n",
      "성동구\n",
      "성동구\n",
      "성동구\n",
      "성동구\n",
      "성동구\n",
      "성동구\n",
      "성동구\n",
      "성동구\n",
      "성동구\n",
      "성북구\n",
      "성북구\n",
      "성북구\n",
      "성북구\n",
      "성북구\n",
      "성북구\n",
      "성북구\n",
      "성북구\n",
      "성북구\n",
      "성북구\n",
      "성북구\n",
      "성북구\n",
      "성북구\n",
      "성북구\n",
      "성북구\n",
      "성북구\n",
      "성북구\n",
      "성북구\n",
      "성북구\n",
      "성북구\n",
      "성북구\n",
      "성북구\n",
      "성북구\n",
      "송파구\n",
      "송파구\n",
      "송파구\n",
      "송파구\n",
      "송파구\n",
      "송파구\n",
      "송파구\n",
      "송파구\n",
      "송파구\n",
      "송파구\n",
      "송파구\n",
      "송파구\n",
      "송파구\n",
      "송파구\n",
      "송파구\n",
      "송파구\n",
      "송파구\n",
      "송파구\n",
      "송파구\n",
      "송파구\n",
      "송파구\n",
      "송파구\n",
      "송파구\n",
      "송파구\n",
      "송파구\n",
      "송파구\n",
      "송파구\n",
      "송파구\n",
      "양천구\n",
      "양천구\n",
      "양천구\n",
      "양천구\n",
      "양천구\n",
      "양천구\n",
      "양천구\n",
      "양천구\n",
      "양천구\n",
      "양천구\n",
      "양천구\n",
      "양천구\n",
      "양천구\n",
      "양천구\n",
      "양천구\n",
      "양천구\n",
      "양천구\n",
      "양천구\n",
      "양천구\n",
      "양천구\n",
      "양천구\n",
      "양천구\n",
      "양천구\n",
      "양천구\n",
      "영등포구\n",
      "영등포구\n",
      "영등포구\n",
      "영등포구\n",
      "영등포구\n",
      "영등포구\n",
      "영등포구\n",
      "영등포구\n",
      "영등포구\n",
      "영등포구\n",
      "영등포구\n",
      "영등포구\n",
      "영등포구\n",
      "영등포구\n",
      "영등포구\n",
      "영등포구\n",
      "영등포구\n",
      "영등포구\n",
      "영등포구\n",
      "영등포구\n",
      "영등포구\n",
      "영등포구\n",
      "영등포구\n",
      "영등포구\n",
      "영등포구\n",
      "영등포구\n",
      "영등포구\n",
      "강북구\n",
      "강북구\n",
      "강북구\n",
      "강북구\n",
      "강북구\n",
      "강북구\n",
      "강북구\n",
      "강북구\n",
      "강북구\n",
      "강북구\n",
      "강북구\n",
      "강북구\n",
      "용산구\n",
      "용산구\n",
      "용산구\n",
      "용산구\n",
      "용산구\n",
      "용산구\n",
      "용산구\n",
      "용산구\n",
      "용산구\n",
      "용산구\n",
      "용산구\n",
      "용산구\n",
      "은평구\n",
      "은평구\n",
      "은평구\n",
      "은평구\n",
      "은평구\n",
      "은평구\n",
      "은평구\n",
      "은평구\n",
      "은평구\n",
      "은평구\n",
      "은평구\n",
      "은평구\n",
      "은평구\n",
      "은평구\n",
      "은평구\n",
      "종로구\n",
      "종로구\n",
      "종로구\n",
      "종로구\n",
      "종로구\n",
      "종로구\n",
      "종로구\n",
      "종로구\n",
      "종로구\n",
      "중구\n",
      "중구\n",
      "중구\n",
      "중구\n",
      "중구\n",
      "중구\n",
      "중구\n",
      "중구\n",
      "중구\n",
      "중구\n",
      "중랑구\n",
      "중랑구\n",
      "중랑구\n",
      "중랑구\n",
      "중랑구\n",
      "중랑구\n",
      "중랑구\n",
      "중랑구\n",
      "중랑구\n",
      "중랑구\n",
      "중랑구\n",
      "중랑구\n",
      "중랑구\n",
      "강서구\n",
      "강서구\n",
      "강서구\n",
      "강서구\n",
      "강서구\n",
      "강서구\n",
      "강서구\n",
      "강서구\n",
      "강서구\n",
      "강서구\n",
      "강서구\n",
      "강서구\n",
      "강서구\n",
      "강서구\n",
      "강서구\n",
      "강서구\n",
      "강서구\n",
      "강서구\n",
      "강서구\n",
      "강서구\n",
      "강서구\n",
      "강서구\n",
      "강서구\n",
      "강서구\n",
      "강서구\n",
      "강서구\n",
      "강서구\n",
      "강서구\n",
      "강서구\n",
      "강서구\n",
      "강서구\n",
      "강서구\n",
      "강서구\n",
      "관악구\n",
      "관악구\n",
      "관악구\n",
      "관악구\n",
      "관악구\n",
      "관악구\n",
      "관악구\n",
      "관악구\n",
      "관악구\n",
      "관악구\n",
      "관악구\n",
      "관악구\n",
      "관악구\n",
      "관악구\n",
      "광진구\n",
      "광진구\n",
      "광진구\n",
      "광진구\n",
      "광진구\n",
      "광진구\n",
      "광진구\n",
      "광진구\n",
      "광진구\n",
      "광진구\n",
      "광진구\n",
      "광진구\n",
      "광진구\n",
      "구로구\n",
      "구로구\n",
      "구로구\n",
      "구로구\n",
      "구로구\n",
      "구로구\n",
      "구로구\n",
      "구로구\n",
      "구로구\n",
      "구로구\n",
      "구로구\n",
      "구로구\n",
      "구로구\n",
      "구로구\n",
      "구로구\n",
      "구로구\n",
      "구로구\n",
      "구로구\n",
      "구로구\n",
      "금천구\n",
      "금천구\n",
      "금천구\n",
      "금천구\n",
      "금천구\n",
      "금천구\n",
      "금천구\n",
      "금천구\n",
      "금천구\n",
      "금천구\n",
      "금천구\n",
      "노원구\n",
      "노원구\n",
      "노원구\n",
      "노원구\n",
      "노원구\n",
      "노원구\n",
      "노원구\n",
      "노원구\n",
      "노원구\n",
      "노원구\n",
      "노원구\n",
      "노원구\n",
      "노원구\n",
      "노원구\n",
      "도봉구\n",
      "도봉구\n",
      "도봉구\n",
      "도봉구\n",
      "도봉구\n",
      "도봉구\n",
      "도봉구\n",
      "도봉구\n",
      "도봉구\n",
      "도봉구\n",
      "도봉구\n",
      "도봉구\n",
      "도봉구\n",
      "도봉구\n",
      "도봉구\n",
      "도봉구\n",
      "강남구\n",
      "강남구\n",
      "강남구\n",
      "강남구\n",
      "강남구\n",
      "강남구\n",
      "강남구\n",
      "강남구\n",
      "강남구\n",
      "강남구\n",
      "강남구\n",
      "강남구\n",
      "강남구\n",
      "강남구\n",
      "강남구\n",
      "강남구\n",
      "강남구\n",
      "강남구\n",
      "강남구\n",
      "강남구\n",
      "강남구\n",
      "강남구\n",
      "강남구\n",
      "강남구\n",
      "강남구\n",
      "강남구\n",
      "강남구\n",
      "강남구\n",
      "강남구\n",
      "강남구\n",
      "강남구\n",
      "강남구\n"
     ]
    }
   ],
   "source": [
    "for eachAdress in stations['주소']:\n",
    "    print(eachAdress.split()[1])"
   ]
  },
  {
   "cell_type": "code",
   "execution_count": 186,
   "metadata": {},
   "outputs": [],
   "source": [
    "stations['구'] = [eachAdress.split()[1] for eachAdress in stations['주소']]"
   ]
  },
  {
   "cell_type": "code",
   "execution_count": 187,
   "metadata": {},
   "outputs": [
    {
     "data": {
      "text/html": [
       "<div>\n",
       "<style scoped>\n",
       "    .dataframe tbody tr th:only-of-type {\n",
       "        vertical-align: middle;\n",
       "    }\n",
       "\n",
       "    .dataframe tbody tr th {\n",
       "        vertical-align: top;\n",
       "    }\n",
       "\n",
       "    .dataframe thead th {\n",
       "        text-align: right;\n",
       "    }\n",
       "</style>\n",
       "<table border=\"1\" class=\"dataframe\">\n",
       "  <thead>\n",
       "    <tr style=\"text-align: right;\">\n",
       "      <th></th>\n",
       "      <th>상호</th>\n",
       "      <th>주소</th>\n",
       "      <th>가격</th>\n",
       "      <th>셀프</th>\n",
       "      <th>상표</th>\n",
       "      <th>구</th>\n",
       "    </tr>\n",
       "  </thead>\n",
       "  <tbody>\n",
       "    <tr>\n",
       "      <th>0</th>\n",
       "      <td>재건에너지 재정제2주유소 고속셀프지점</td>\n",
       "      <td>서울특별시 강동구  천호대로 1246 (둔촌제2동)</td>\n",
       "      <td>1589</td>\n",
       "      <td>Y</td>\n",
       "      <td>HD현대오일뱅크</td>\n",
       "      <td>강동구</td>\n",
       "    </tr>\n",
       "    <tr>\n",
       "      <th>1</th>\n",
       "      <td>구천면주유소</td>\n",
       "      <td>서울 강동구 구천면로 357 (암사동)</td>\n",
       "      <td>1634</td>\n",
       "      <td>N</td>\n",
       "      <td>HD현대오일뱅크</td>\n",
       "      <td>강동구</td>\n",
       "    </tr>\n",
       "    <tr>\n",
       "      <th>2</th>\n",
       "      <td>방아다리주유소</td>\n",
       "      <td>서울 강동구 동남로 811 (명일동)</td>\n",
       "      <td>1665</td>\n",
       "      <td>Y</td>\n",
       "      <td>SK에너지</td>\n",
       "      <td>강동구</td>\n",
       "    </tr>\n",
       "    <tr>\n",
       "      <th>3</th>\n",
       "      <td>(주)소모 신월주유소</td>\n",
       "      <td>서울 강동구 양재대로 1323 (성내동)</td>\n",
       "      <td>1666</td>\n",
       "      <td>Y</td>\n",
       "      <td>GS칼텍스</td>\n",
       "      <td>강동구</td>\n",
       "    </tr>\n",
       "    <tr>\n",
       "      <th>4</th>\n",
       "      <td>(주)삼표에너지 고덕주유소</td>\n",
       "      <td>서울 강동구 고덕로 39 (암사동)</td>\n",
       "      <td>1675</td>\n",
       "      <td>Y</td>\n",
       "      <td>GS칼텍스</td>\n",
       "      <td>강동구</td>\n",
       "    </tr>\n",
       "    <tr>\n",
       "      <th>...</th>\n",
       "      <td>...</td>\n",
       "      <td>...</td>\n",
       "      <td>...</td>\n",
       "      <td>...</td>\n",
       "      <td>...</td>\n",
       "      <td>...</td>\n",
       "    </tr>\n",
       "    <tr>\n",
       "      <th>27</th>\n",
       "      <td>대청주유소</td>\n",
       "      <td>서울 강남구 개포로 654 (일원동)</td>\n",
       "      <td>2195</td>\n",
       "      <td>N</td>\n",
       "      <td>SK에너지</td>\n",
       "      <td>강남구</td>\n",
       "    </tr>\n",
       "    <tr>\n",
       "      <th>28</th>\n",
       "      <td>㈜새서울석유 새서울주유소</td>\n",
       "      <td>서울 강남구 압구정로 154</td>\n",
       "      <td>2198</td>\n",
       "      <td>N</td>\n",
       "      <td>HD현대오일뱅크</td>\n",
       "      <td>강남구</td>\n",
       "    </tr>\n",
       "    <tr>\n",
       "      <th>29</th>\n",
       "      <td>SK논현주유소</td>\n",
       "      <td>서울 강남구 논현로 747 (논현동)</td>\n",
       "      <td>2395</td>\n",
       "      <td>N</td>\n",
       "      <td>SK에너지</td>\n",
       "      <td>강남구</td>\n",
       "    </tr>\n",
       "    <tr>\n",
       "      <th>30</th>\n",
       "      <td>(주)제이제이네트웍스 제이제이주유소</td>\n",
       "      <td>서울 강남구 언주로 716</td>\n",
       "      <td>2490</td>\n",
       "      <td>N</td>\n",
       "      <td>HD현대오일뱅크</td>\n",
       "      <td>강남구</td>\n",
       "    </tr>\n",
       "    <tr>\n",
       "      <th>31</th>\n",
       "      <td>(주)만정에너지 삼보주유소</td>\n",
       "      <td>서울 강남구 봉은사로 433 (삼성동)</td>\n",
       "      <td>2598</td>\n",
       "      <td>N</td>\n",
       "      <td>GS칼텍스</td>\n",
       "      <td>강남구</td>\n",
       "    </tr>\n",
       "  </tbody>\n",
       "</table>\n",
       "<p>438 rows × 6 columns</p>\n",
       "</div>"
      ],
      "text/plain": [
       "                      상호                            주소    가격 셀프        상표    구\n",
       "0   재건에너지 재정제2주유소 고속셀프지점  서울특별시 강동구  천호대로 1246 (둔촌제2동)  1589  Y  HD현대오일뱅크  강동구\n",
       "1                 구천면주유소         서울 강동구 구천면로 357 (암사동)  1634  N  HD현대오일뱅크  강동구\n",
       "2                방아다리주유소          서울 강동구 동남로 811 (명일동)  1665  Y     SK에너지  강동구\n",
       "3            (주)소모 신월주유소        서울 강동구 양재대로 1323 (성내동)  1666  Y     GS칼텍스  강동구\n",
       "4         (주)삼표에너지 고덕주유소           서울 강동구 고덕로 39 (암사동)  1675  Y     GS칼텍스  강동구\n",
       "..                   ...                           ...   ... ..       ...  ...\n",
       "27                 대청주유소          서울 강남구 개포로 654 (일원동)  2195  N     SK에너지  강남구\n",
       "28         ㈜새서울석유 새서울주유소               서울 강남구 압구정로 154  2198  N  HD현대오일뱅크  강남구\n",
       "29               SK논현주유소          서울 강남구 논현로 747 (논현동)  2395  N     SK에너지  강남구\n",
       "30   (주)제이제이네트웍스 제이제이주유소                서울 강남구 언주로 716  2490  N  HD현대오일뱅크  강남구\n",
       "31        (주)만정에너지 삼보주유소         서울 강남구 봉은사로 433 (삼성동)  2598  N     GS칼텍스  강남구\n",
       "\n",
       "[438 rows x 6 columns]"
      ]
     },
     "execution_count": 187,
     "metadata": {},
     "output_type": "execute_result"
    }
   ],
   "source": [
    "stations"
   ]
  },
  {
   "cell_type": "code",
   "execution_count": 189,
   "metadata": {},
   "outputs": [
    {
     "data": {
      "text/plain": [
       "(array(['강동구', '동대문구', '동작구', '마포구', '서대문구', '서초구', '성동구', '성북구', '송파구',\n",
       "        '양천구', '영등포구', '강북구', '용산구', '은평구', '종로구', '중구', '중랑구', '강서구',\n",
       "        '관악구', '광진구', '구로구', '금천구', '노원구', '도봉구', '강남구'], dtype=object),\n",
       " 25)"
      ]
     },
     "execution_count": 189,
     "metadata": {},
     "output_type": "execute_result"
    }
   ],
   "source": [
    "stations['구'].unique() , len(stations['구'].unique())"
   ]
  },
  {
   "cell_type": "code",
   "execution_count": 190,
   "metadata": {},
   "outputs": [
    {
     "data": {
      "text/html": [
       "<div>\n",
       "<style scoped>\n",
       "    .dataframe tbody tr th:only-of-type {\n",
       "        vertical-align: middle;\n",
       "    }\n",
       "\n",
       "    .dataframe tbody tr th {\n",
       "        vertical-align: top;\n",
       "    }\n",
       "\n",
       "    .dataframe thead th {\n",
       "        text-align: right;\n",
       "    }\n",
       "</style>\n",
       "<table border=\"1\" class=\"dataframe\">\n",
       "  <thead>\n",
       "    <tr style=\"text-align: right;\">\n",
       "      <th></th>\n",
       "      <th>상호</th>\n",
       "      <th>주소</th>\n",
       "      <th>가격</th>\n",
       "      <th>셀프</th>\n",
       "      <th>상표</th>\n",
       "      <th>구</th>\n",
       "    </tr>\n",
       "  </thead>\n",
       "  <tbody>\n",
       "    <tr>\n",
       "      <th>27</th>\n",
       "      <td>대청주유소</td>\n",
       "      <td>서울 강남구 개포로 654 (일원동)</td>\n",
       "      <td>2195</td>\n",
       "      <td>N</td>\n",
       "      <td>SK에너지</td>\n",
       "      <td>강남구</td>\n",
       "    </tr>\n",
       "    <tr>\n",
       "      <th>28</th>\n",
       "      <td>㈜새서울석유 새서울주유소</td>\n",
       "      <td>서울 강남구 압구정로 154</td>\n",
       "      <td>2198</td>\n",
       "      <td>N</td>\n",
       "      <td>HD현대오일뱅크</td>\n",
       "      <td>강남구</td>\n",
       "    </tr>\n",
       "    <tr>\n",
       "      <th>29</th>\n",
       "      <td>SK논현주유소</td>\n",
       "      <td>서울 강남구 논현로 747 (논현동)</td>\n",
       "      <td>2395</td>\n",
       "      <td>N</td>\n",
       "      <td>SK에너지</td>\n",
       "      <td>강남구</td>\n",
       "    </tr>\n",
       "    <tr>\n",
       "      <th>30</th>\n",
       "      <td>(주)제이제이네트웍스 제이제이주유소</td>\n",
       "      <td>서울 강남구 언주로 716</td>\n",
       "      <td>2490</td>\n",
       "      <td>N</td>\n",
       "      <td>HD현대오일뱅크</td>\n",
       "      <td>강남구</td>\n",
       "    </tr>\n",
       "    <tr>\n",
       "      <th>31</th>\n",
       "      <td>(주)만정에너지 삼보주유소</td>\n",
       "      <td>서울 강남구 봉은사로 433 (삼성동)</td>\n",
       "      <td>2598</td>\n",
       "      <td>N</td>\n",
       "      <td>GS칼텍스</td>\n",
       "      <td>강남구</td>\n",
       "    </tr>\n",
       "  </tbody>\n",
       "</table>\n",
       "</div>"
      ],
      "text/plain": [
       "                     상호                     주소    가격 셀프        상표    구\n",
       "27                대청주유소   서울 강남구 개포로 654 (일원동)  2195  N     SK에너지  강남구\n",
       "28        ㈜새서울석유 새서울주유소        서울 강남구 압구정로 154  2198  N  HD현대오일뱅크  강남구\n",
       "29              SK논현주유소   서울 강남구 논현로 747 (논현동)  2395  N     SK에너지  강남구\n",
       "30  (주)제이제이네트웍스 제이제이주유소         서울 강남구 언주로 716  2490  N  HD현대오일뱅크  강남구\n",
       "31       (주)만정에너지 삼보주유소  서울 강남구 봉은사로 433 (삼성동)  2598  N     GS칼텍스  강남구"
      ]
     },
     "execution_count": 190,
     "metadata": {},
     "output_type": "execute_result"
    }
   ],
   "source": [
    "# 가격 데이터형 변환 object -> float\n",
    "# 가격 정보가 있는 주유소만 사용\n",
    "\n",
    "stations = stations[stations['가격'] != \"-\"]\n",
    "stations.tail()"
   ]
  },
  {
   "cell_type": "code",
   "execution_count": 191,
   "metadata": {},
   "outputs": [
    {
     "name": "stderr",
     "output_type": "stream",
     "text": [
      "C:\\Users\\kimsh-dt01\\AppData\\Local\\Temp\\ipykernel_25580\\259116232.py:1: SettingWithCopyWarning: \n",
      "A value is trying to be set on a copy of a slice from a DataFrame.\n",
      "Try using .loc[row_indexer,col_indexer] = value instead\n",
      "\n",
      "See the caveats in the documentation: https://pandas.pydata.org/pandas-docs/stable/user_guide/indexing.html#returning-a-view-versus-a-copy\n",
      "  stations['가격'] = stations['가격'].astype(float)\n"
     ]
    }
   ],
   "source": [
    "stations['가격'] = stations['가격'].astype(float)"
   ]
  },
  {
   "cell_type": "code",
   "execution_count": 192,
   "metadata": {},
   "outputs": [
    {
     "name": "stdout",
     "output_type": "stream",
     "text": [
      "<class 'pandas.core.frame.DataFrame'>\n",
      "Index: 437 entries, 0 to 31\n",
      "Data columns (total 6 columns):\n",
      " #   Column  Non-Null Count  Dtype  \n",
      "---  ------  --------------  -----  \n",
      " 0   상호      437 non-null    object \n",
      " 1   주소      437 non-null    object \n",
      " 2   가격      437 non-null    float64\n",
      " 3   셀프      437 non-null    object \n",
      " 4   상표      437 non-null    object \n",
      " 5   구       437 non-null    object \n",
      "dtypes: float64(1), object(5)\n",
      "memory usage: 23.9+ KB\n"
     ]
    }
   ],
   "source": [
    "stations.info()"
   ]
  },
  {
   "cell_type": "code",
   "execution_count": 193,
   "metadata": {},
   "outputs": [
    {
     "data": {
      "text/html": [
       "<div>\n",
       "<style scoped>\n",
       "    .dataframe tbody tr th:only-of-type {\n",
       "        vertical-align: middle;\n",
       "    }\n",
       "\n",
       "    .dataframe tbody tr th {\n",
       "        vertical-align: top;\n",
       "    }\n",
       "\n",
       "    .dataframe thead th {\n",
       "        text-align: right;\n",
       "    }\n",
       "</style>\n",
       "<table border=\"1\" class=\"dataframe\">\n",
       "  <thead>\n",
       "    <tr style=\"text-align: right;\">\n",
       "      <th></th>\n",
       "      <th>상호</th>\n",
       "      <th>주소</th>\n",
       "      <th>가격</th>\n",
       "      <th>셀프</th>\n",
       "      <th>상표</th>\n",
       "      <th>구</th>\n",
       "    </tr>\n",
       "  </thead>\n",
       "  <tbody>\n",
       "    <tr>\n",
       "      <th>0</th>\n",
       "      <td>재건에너지 재정제2주유소 고속셀프지점</td>\n",
       "      <td>서울특별시 강동구  천호대로 1246 (둔촌제2동)</td>\n",
       "      <td>1589.0</td>\n",
       "      <td>Y</td>\n",
       "      <td>HD현대오일뱅크</td>\n",
       "      <td>강동구</td>\n",
       "    </tr>\n",
       "    <tr>\n",
       "      <th>1</th>\n",
       "      <td>구천면주유소</td>\n",
       "      <td>서울 강동구 구천면로 357 (암사동)</td>\n",
       "      <td>1634.0</td>\n",
       "      <td>N</td>\n",
       "      <td>HD현대오일뱅크</td>\n",
       "      <td>강동구</td>\n",
       "    </tr>\n",
       "    <tr>\n",
       "      <th>2</th>\n",
       "      <td>방아다리주유소</td>\n",
       "      <td>서울 강동구 동남로 811 (명일동)</td>\n",
       "      <td>1665.0</td>\n",
       "      <td>Y</td>\n",
       "      <td>SK에너지</td>\n",
       "      <td>강동구</td>\n",
       "    </tr>\n",
       "    <tr>\n",
       "      <th>3</th>\n",
       "      <td>(주)소모 신월주유소</td>\n",
       "      <td>서울 강동구 양재대로 1323 (성내동)</td>\n",
       "      <td>1666.0</td>\n",
       "      <td>Y</td>\n",
       "      <td>GS칼텍스</td>\n",
       "      <td>강동구</td>\n",
       "    </tr>\n",
       "    <tr>\n",
       "      <th>4</th>\n",
       "      <td>(주)삼표에너지 고덕주유소</td>\n",
       "      <td>서울 강동구 고덕로 39 (암사동)</td>\n",
       "      <td>1675.0</td>\n",
       "      <td>Y</td>\n",
       "      <td>GS칼텍스</td>\n",
       "      <td>강동구</td>\n",
       "    </tr>\n",
       "    <tr>\n",
       "      <th>...</th>\n",
       "      <td>...</td>\n",
       "      <td>...</td>\n",
       "      <td>...</td>\n",
       "      <td>...</td>\n",
       "      <td>...</td>\n",
       "      <td>...</td>\n",
       "    </tr>\n",
       "    <tr>\n",
       "      <th>27</th>\n",
       "      <td>대청주유소</td>\n",
       "      <td>서울 강남구 개포로 654 (일원동)</td>\n",
       "      <td>2195.0</td>\n",
       "      <td>N</td>\n",
       "      <td>SK에너지</td>\n",
       "      <td>강남구</td>\n",
       "    </tr>\n",
       "    <tr>\n",
       "      <th>28</th>\n",
       "      <td>㈜새서울석유 새서울주유소</td>\n",
       "      <td>서울 강남구 압구정로 154</td>\n",
       "      <td>2198.0</td>\n",
       "      <td>N</td>\n",
       "      <td>HD현대오일뱅크</td>\n",
       "      <td>강남구</td>\n",
       "    </tr>\n",
       "    <tr>\n",
       "      <th>29</th>\n",
       "      <td>SK논현주유소</td>\n",
       "      <td>서울 강남구 논현로 747 (논현동)</td>\n",
       "      <td>2395.0</td>\n",
       "      <td>N</td>\n",
       "      <td>SK에너지</td>\n",
       "      <td>강남구</td>\n",
       "    </tr>\n",
       "    <tr>\n",
       "      <th>30</th>\n",
       "      <td>(주)제이제이네트웍스 제이제이주유소</td>\n",
       "      <td>서울 강남구 언주로 716</td>\n",
       "      <td>2490.0</td>\n",
       "      <td>N</td>\n",
       "      <td>HD현대오일뱅크</td>\n",
       "      <td>강남구</td>\n",
       "    </tr>\n",
       "    <tr>\n",
       "      <th>31</th>\n",
       "      <td>(주)만정에너지 삼보주유소</td>\n",
       "      <td>서울 강남구 봉은사로 433 (삼성동)</td>\n",
       "      <td>2598.0</td>\n",
       "      <td>N</td>\n",
       "      <td>GS칼텍스</td>\n",
       "      <td>강남구</td>\n",
       "    </tr>\n",
       "  </tbody>\n",
       "</table>\n",
       "<p>437 rows × 6 columns</p>\n",
       "</div>"
      ],
      "text/plain": [
       "                      상호                            주소      가격 셀프        상표  \\\n",
       "0   재건에너지 재정제2주유소 고속셀프지점  서울특별시 강동구  천호대로 1246 (둔촌제2동)  1589.0  Y  HD현대오일뱅크   \n",
       "1                 구천면주유소         서울 강동구 구천면로 357 (암사동)  1634.0  N  HD현대오일뱅크   \n",
       "2                방아다리주유소          서울 강동구 동남로 811 (명일동)  1665.0  Y     SK에너지   \n",
       "3            (주)소모 신월주유소        서울 강동구 양재대로 1323 (성내동)  1666.0  Y     GS칼텍스   \n",
       "4         (주)삼표에너지 고덕주유소           서울 강동구 고덕로 39 (암사동)  1675.0  Y     GS칼텍스   \n",
       "..                   ...                           ...     ... ..       ...   \n",
       "27                 대청주유소          서울 강남구 개포로 654 (일원동)  2195.0  N     SK에너지   \n",
       "28         ㈜새서울석유 새서울주유소               서울 강남구 압구정로 154  2198.0  N  HD현대오일뱅크   \n",
       "29               SK논현주유소          서울 강남구 논현로 747 (논현동)  2395.0  N     SK에너지   \n",
       "30   (주)제이제이네트웍스 제이제이주유소                서울 강남구 언주로 716  2490.0  N  HD현대오일뱅크   \n",
       "31        (주)만정에너지 삼보주유소         서울 강남구 봉은사로 433 (삼성동)  2598.0  N     GS칼텍스   \n",
       "\n",
       "      구  \n",
       "0   강동구  \n",
       "1   강동구  \n",
       "2   강동구  \n",
       "3   강동구  \n",
       "4   강동구  \n",
       "..  ...  \n",
       "27  강남구  \n",
       "28  강남구  \n",
       "29  강남구  \n",
       "30  강남구  \n",
       "31  강남구  \n",
       "\n",
       "[437 rows x 6 columns]"
      ]
     },
     "execution_count": 193,
     "metadata": {},
     "output_type": "execute_result"
    }
   ],
   "source": [
    "stations"
   ]
  },
  {
   "cell_type": "code",
   "execution_count": 194,
   "metadata": {},
   "outputs": [
    {
     "data": {
      "text/html": [
       "<div>\n",
       "<style scoped>\n",
       "    .dataframe tbody tr th:only-of-type {\n",
       "        vertical-align: middle;\n",
       "    }\n",
       "\n",
       "    .dataframe tbody tr th {\n",
       "        vertical-align: top;\n",
       "    }\n",
       "\n",
       "    .dataframe thead th {\n",
       "        text-align: right;\n",
       "    }\n",
       "</style>\n",
       "<table border=\"1\" class=\"dataframe\">\n",
       "  <thead>\n",
       "    <tr style=\"text-align: right;\">\n",
       "      <th></th>\n",
       "      <th>index</th>\n",
       "      <th>상호</th>\n",
       "      <th>주소</th>\n",
       "      <th>가격</th>\n",
       "      <th>셀프</th>\n",
       "      <th>상표</th>\n",
       "      <th>구</th>\n",
       "    </tr>\n",
       "  </thead>\n",
       "  <tbody>\n",
       "    <tr>\n",
       "      <th>432</th>\n",
       "      <td>27</td>\n",
       "      <td>대청주유소</td>\n",
       "      <td>서울 강남구 개포로 654 (일원동)</td>\n",
       "      <td>2195.0</td>\n",
       "      <td>N</td>\n",
       "      <td>SK에너지</td>\n",
       "      <td>강남구</td>\n",
       "    </tr>\n",
       "    <tr>\n",
       "      <th>433</th>\n",
       "      <td>28</td>\n",
       "      <td>㈜새서울석유 새서울주유소</td>\n",
       "      <td>서울 강남구 압구정로 154</td>\n",
       "      <td>2198.0</td>\n",
       "      <td>N</td>\n",
       "      <td>HD현대오일뱅크</td>\n",
       "      <td>강남구</td>\n",
       "    </tr>\n",
       "    <tr>\n",
       "      <th>434</th>\n",
       "      <td>29</td>\n",
       "      <td>SK논현주유소</td>\n",
       "      <td>서울 강남구 논현로 747 (논현동)</td>\n",
       "      <td>2395.0</td>\n",
       "      <td>N</td>\n",
       "      <td>SK에너지</td>\n",
       "      <td>강남구</td>\n",
       "    </tr>\n",
       "    <tr>\n",
       "      <th>435</th>\n",
       "      <td>30</td>\n",
       "      <td>(주)제이제이네트웍스 제이제이주유소</td>\n",
       "      <td>서울 강남구 언주로 716</td>\n",
       "      <td>2490.0</td>\n",
       "      <td>N</td>\n",
       "      <td>HD현대오일뱅크</td>\n",
       "      <td>강남구</td>\n",
       "    </tr>\n",
       "    <tr>\n",
       "      <th>436</th>\n",
       "      <td>31</td>\n",
       "      <td>(주)만정에너지 삼보주유소</td>\n",
       "      <td>서울 강남구 봉은사로 433 (삼성동)</td>\n",
       "      <td>2598.0</td>\n",
       "      <td>N</td>\n",
       "      <td>GS칼텍스</td>\n",
       "      <td>강남구</td>\n",
       "    </tr>\n",
       "  </tbody>\n",
       "</table>\n",
       "</div>"
      ],
      "text/plain": [
       "     index                   상호                     주소      가격 셀프        상표  \\\n",
       "432     27                대청주유소   서울 강남구 개포로 654 (일원동)  2195.0  N     SK에너지   \n",
       "433     28        ㈜새서울석유 새서울주유소        서울 강남구 압구정로 154  2198.0  N  HD현대오일뱅크   \n",
       "434     29              SK논현주유소   서울 강남구 논현로 747 (논현동)  2395.0  N     SK에너지   \n",
       "435     30  (주)제이제이네트웍스 제이제이주유소         서울 강남구 언주로 716  2490.0  N  HD현대오일뱅크   \n",
       "436     31       (주)만정에너지 삼보주유소  서울 강남구 봉은사로 433 (삼성동)  2598.0  N     GS칼텍스   \n",
       "\n",
       "       구  \n",
       "432  강남구  \n",
       "433  강남구  \n",
       "434  강남구  \n",
       "435  강남구  \n",
       "436  강남구  "
      ]
     },
     "execution_count": 194,
     "metadata": {},
     "output_type": "execute_result"
    }
   ],
   "source": [
    "# 인덱스 재정렬\n",
    "\n",
    "stations.reset_index(inplace=True)\n",
    "stations.tail()"
   ]
  },
  {
   "cell_type": "code",
   "execution_count": 195,
   "metadata": {},
   "outputs": [
    {
     "data": {
      "text/html": [
       "<div>\n",
       "<style scoped>\n",
       "    .dataframe tbody tr th:only-of-type {\n",
       "        vertical-align: middle;\n",
       "    }\n",
       "\n",
       "    .dataframe tbody tr th {\n",
       "        vertical-align: top;\n",
       "    }\n",
       "\n",
       "    .dataframe thead th {\n",
       "        text-align: right;\n",
       "    }\n",
       "</style>\n",
       "<table border=\"1\" class=\"dataframe\">\n",
       "  <thead>\n",
       "    <tr style=\"text-align: right;\">\n",
       "      <th></th>\n",
       "      <th>상호</th>\n",
       "      <th>주소</th>\n",
       "      <th>가격</th>\n",
       "      <th>셀프</th>\n",
       "      <th>상표</th>\n",
       "      <th>구</th>\n",
       "    </tr>\n",
       "  </thead>\n",
       "  <tbody>\n",
       "    <tr>\n",
       "      <th>0</th>\n",
       "      <td>재건에너지 재정제2주유소 고속셀프지점</td>\n",
       "      <td>서울특별시 강동구  천호대로 1246 (둔촌제2동)</td>\n",
       "      <td>1589.0</td>\n",
       "      <td>Y</td>\n",
       "      <td>HD현대오일뱅크</td>\n",
       "      <td>강동구</td>\n",
       "    </tr>\n",
       "    <tr>\n",
       "      <th>1</th>\n",
       "      <td>구천면주유소</td>\n",
       "      <td>서울 강동구 구천면로 357 (암사동)</td>\n",
       "      <td>1634.0</td>\n",
       "      <td>N</td>\n",
       "      <td>HD현대오일뱅크</td>\n",
       "      <td>강동구</td>\n",
       "    </tr>\n",
       "    <tr>\n",
       "      <th>2</th>\n",
       "      <td>방아다리주유소</td>\n",
       "      <td>서울 강동구 동남로 811 (명일동)</td>\n",
       "      <td>1665.0</td>\n",
       "      <td>Y</td>\n",
       "      <td>SK에너지</td>\n",
       "      <td>강동구</td>\n",
       "    </tr>\n",
       "    <tr>\n",
       "      <th>3</th>\n",
       "      <td>(주)소모 신월주유소</td>\n",
       "      <td>서울 강동구 양재대로 1323 (성내동)</td>\n",
       "      <td>1666.0</td>\n",
       "      <td>Y</td>\n",
       "      <td>GS칼텍스</td>\n",
       "      <td>강동구</td>\n",
       "    </tr>\n",
       "    <tr>\n",
       "      <th>4</th>\n",
       "      <td>(주)삼표에너지 고덕주유소</td>\n",
       "      <td>서울 강동구 고덕로 39 (암사동)</td>\n",
       "      <td>1675.0</td>\n",
       "      <td>Y</td>\n",
       "      <td>GS칼텍스</td>\n",
       "      <td>강동구</td>\n",
       "    </tr>\n",
       "  </tbody>\n",
       "</table>\n",
       "</div>"
      ],
      "text/plain": [
       "                     상호                            주소      가격 셀프        상표  \\\n",
       "0  재건에너지 재정제2주유소 고속셀프지점  서울특별시 강동구  천호대로 1246 (둔촌제2동)  1589.0  Y  HD현대오일뱅크   \n",
       "1                구천면주유소         서울 강동구 구천면로 357 (암사동)  1634.0  N  HD현대오일뱅크   \n",
       "2               방아다리주유소          서울 강동구 동남로 811 (명일동)  1665.0  Y     SK에너지   \n",
       "3           (주)소모 신월주유소        서울 강동구 양재대로 1323 (성내동)  1666.0  Y     GS칼텍스   \n",
       "4        (주)삼표에너지 고덕주유소           서울 강동구 고덕로 39 (암사동)  1675.0  Y     GS칼텍스   \n",
       "\n",
       "     구  \n",
       "0  강동구  \n",
       "1  강동구  \n",
       "2  강동구  \n",
       "3  강동구  \n",
       "4  강동구  "
      ]
     },
     "execution_count": 195,
     "metadata": {},
     "output_type": "execute_result"
    }
   ],
   "source": [
    "del stations['index']\n",
    "stations.head()"
   ]
  },
  {
   "cell_type": "markdown",
   "metadata": {},
   "source": [
    "#### 5. 주유 가격 정보 시각화"
   ]
  },
  {
   "cell_type": "code",
   "execution_count": 214,
   "metadata": {},
   "outputs": [],
   "source": [
    "import matplotlib.pyplot as plt\n",
    "import seaborn as sns\n",
    "import platform\n",
    "from matplotlib import font_manager, rc\n",
    "\n",
    "get_ipython().run_line_magic('matplotlib', 'inline')\n",
    "# %matplotlib inline\n",
    "\n",
    "path = \"C:/Windows/Fonts/malgun.ttf\"\n",
    "\n",
    "if platform.system() == 'Darwin':\n",
    "    rc(\"font\", family=\"Arial Unicode MS\")\n",
    "elif platform.system() == 'Windows':\n",
    "    font_name = font_manager.FontProperties(fname=path).get_name()\n",
    "    rc(\"font\", family=font_name)\n",
    "else:\n",
    "    print(\"Unknown system\")"
   ]
  },
  {
   "cell_type": "code",
   "execution_count": 215,
   "metadata": {},
   "outputs": [
    {
     "data": {
      "image/png": "[encoded data removed]",
      "text/plain": [
       "<Figure size 1200x800 with 1 Axes>"
      ]
     },
     "metadata": {},
     "output_type": "display_data"
    }
   ],
   "source": [
    "# boxplot(feat. pandas)\n",
    "\n",
    "stations.boxplot(column='가격', by='셀프', figsize=(12,8));\n"
   ]
  },
  {
   "cell_type": "code",
   "execution_count": 222,
   "metadata": {},
   "outputs": [
    {
     "data": {
      "image/png": "[encoded data removed]",
      "text/plain": [
       "<Figure size 1200x800 with 1 Axes>"
      ]
     },
     "metadata": {},
     "output_type": "display_data"
    }
   ],
   "source": [
    "# boxplot(feat. seaborn)\n",
    "\n",
    "plt.figure(figsize=(12,8))\n",
    "sns.boxplot(x='상표', y='가격', hue='셀프', data=stations, palette='Set3')\n",
    "plt.grid()\n",
    "plt.show()"
   ]
  },
  {
   "cell_type": "code",
   "execution_count": 223,
   "metadata": {},
   "outputs": [],
   "source": [
    "# 지도 시각화\n",
    "\n",
    "import json\n",
    "import folium\n",
    "import warnings\n",
    "\n",
    "warnings.simplefilter(action='ignore', category=FutureWarning)"
   ]
  },
  {
   "cell_type": "code",
   "execution_count": 224,
   "metadata": {},
   "outputs": [
    {
     "data": {
      "text/html": [
       "<div>\n",
       "<style scoped>\n",
       "    .dataframe tbody tr th:only-of-type {\n",
       "        vertical-align: middle;\n",
       "    }\n",
       "\n",
       "    .dataframe tbody tr th {\n",
       "        vertical-align: top;\n",
       "    }\n",
       "\n",
       "    .dataframe thead th {\n",
       "        text-align: right;\n",
       "    }\n",
       "</style>\n",
       "<table border=\"1\" class=\"dataframe\">\n",
       "  <thead>\n",
       "    <tr style=\"text-align: right;\">\n",
       "      <th></th>\n",
       "      <th>상호</th>\n",
       "      <th>주소</th>\n",
       "      <th>가격</th>\n",
       "      <th>셀프</th>\n",
       "      <th>상표</th>\n",
       "      <th>구</th>\n",
       "    </tr>\n",
       "  </thead>\n",
       "  <tbody>\n",
       "    <tr>\n",
       "      <th>436</th>\n",
       "      <td>(주)만정에너지 삼보주유소</td>\n",
       "      <td>서울 강남구 봉은사로 433 (삼성동)</td>\n",
       "      <td>2598.0</td>\n",
       "      <td>N</td>\n",
       "      <td>GS칼텍스</td>\n",
       "      <td>강남구</td>\n",
       "    </tr>\n",
       "    <tr>\n",
       "      <th>272</th>\n",
       "      <td>서남주유소</td>\n",
       "      <td>서울 중구 통일로 30</td>\n",
       "      <td>2593.0</td>\n",
       "      <td>N</td>\n",
       "      <td>SK에너지</td>\n",
       "      <td>중구</td>\n",
       "    </tr>\n",
       "    <tr>\n",
       "      <th>238</th>\n",
       "      <td>서계주유소</td>\n",
       "      <td>서울 용산구  청파로 367 (청파동)</td>\n",
       "      <td>2589.0</td>\n",
       "      <td>N</td>\n",
       "      <td>GS칼텍스</td>\n",
       "      <td>용산구</td>\n",
       "    </tr>\n",
       "    <tr>\n",
       "      <th>435</th>\n",
       "      <td>(주)제이제이네트웍스 제이제이주유소</td>\n",
       "      <td>서울 강남구 언주로 716</td>\n",
       "      <td>2490.0</td>\n",
       "      <td>N</td>\n",
       "      <td>HD현대오일뱅크</td>\n",
       "      <td>강남구</td>\n",
       "    </tr>\n",
       "    <tr>\n",
       "      <th>434</th>\n",
       "      <td>SK논현주유소</td>\n",
       "      <td>서울 강남구 논현로 747 (논현동)</td>\n",
       "      <td>2395.0</td>\n",
       "      <td>N</td>\n",
       "      <td>SK에너지</td>\n",
       "      <td>강남구</td>\n",
       "    </tr>\n",
       "    <tr>\n",
       "      <th>271</th>\n",
       "      <td>필동주유소</td>\n",
       "      <td>서울 중구 퇴계로 196 (필동2가)</td>\n",
       "      <td>2379.0</td>\n",
       "      <td>N</td>\n",
       "      <td>GS칼텍스</td>\n",
       "      <td>중구</td>\n",
       "    </tr>\n",
       "    <tr>\n",
       "      <th>214</th>\n",
       "      <td>SJ오일(주) 여의도주유소</td>\n",
       "      <td>서울 영등포구 은행로 64</td>\n",
       "      <td>2295.0</td>\n",
       "      <td>N</td>\n",
       "      <td>GS칼텍스</td>\n",
       "      <td>영등포구</td>\n",
       "    </tr>\n",
       "    <tr>\n",
       "      <th>262</th>\n",
       "      <td>(주)대양씨앤씨 사직주유소</td>\n",
       "      <td>서울 종로구 사직로 65 (사직동)</td>\n",
       "      <td>2290.0</td>\n",
       "      <td>N</td>\n",
       "      <td>GS칼텍스</td>\n",
       "      <td>종로구</td>\n",
       "    </tr>\n",
       "    <tr>\n",
       "      <th>261</th>\n",
       "      <td>경복궁주유소</td>\n",
       "      <td>서울 종로구 율곡로 6 (중학동)</td>\n",
       "      <td>2280.0</td>\n",
       "      <td>N</td>\n",
       "      <td>GS칼텍스</td>\n",
       "      <td>종로구</td>\n",
       "    </tr>\n",
       "    <tr>\n",
       "      <th>260</th>\n",
       "      <td>(주)중앙에너비스 혜화주유소</td>\n",
       "      <td>서울 종로구 창경궁로35길 1</td>\n",
       "      <td>2267.0</td>\n",
       "      <td>N</td>\n",
       "      <td>SK에너지</td>\n",
       "      <td>종로구</td>\n",
       "    </tr>\n",
       "  </tbody>\n",
       "</table>\n",
       "</div>"
      ],
      "text/plain": [
       "                      상호                     주소      가격 셀프        상표     구\n",
       "436       (주)만정에너지 삼보주유소  서울 강남구 봉은사로 433 (삼성동)  2598.0  N     GS칼텍스   강남구\n",
       "272                서남주유소           서울 중구 통일로 30  2593.0  N     SK에너지    중구\n",
       "238                서계주유소  서울 용산구  청파로 367 (청파동)  2589.0  N     GS칼텍스   용산구\n",
       "435  (주)제이제이네트웍스 제이제이주유소         서울 강남구 언주로 716  2490.0  N  HD현대오일뱅크   강남구\n",
       "434              SK논현주유소   서울 강남구 논현로 747 (논현동)  2395.0  N     SK에너지   강남구\n",
       "271                필동주유소   서울 중구 퇴계로 196 (필동2가)  2379.0  N     GS칼텍스    중구\n",
       "214       SJ오일(주) 여의도주유소         서울 영등포구 은행로 64  2295.0  N     GS칼텍스  영등포구\n",
       "262       (주)대양씨앤씨 사직주유소    서울 종로구 사직로 65 (사직동)  2290.0  N     GS칼텍스   종로구\n",
       "261               경복궁주유소     서울 종로구 율곡로 6 (중학동)  2280.0  N     GS칼텍스   종로구\n",
       "260      (주)중앙에너비스 혜화주유소       서울 종로구 창경궁로35길 1  2267.0  N     SK에너지   종로구"
      ]
     },
     "execution_count": 224,
     "metadata": {},
     "output_type": "execute_result"
    }
   ],
   "source": [
    "# 가장 비싼 주유소 10개\n",
    "\n",
    "stations.sort_values(by='가격', ascending=False).head(10)"
   ]
  },
  {
   "cell_type": "code",
   "execution_count": 225,
   "metadata": {},
   "outputs": [
    {
     "data": {
      "text/html": [
       "<div>\n",
       "<style scoped>\n",
       "    .dataframe tbody tr th:only-of-type {\n",
       "        vertical-align: middle;\n",
       "    }\n",
       "\n",
       "    .dataframe tbody tr th {\n",
       "        vertical-align: top;\n",
       "    }\n",
       "\n",
       "    .dataframe thead th {\n",
       "        text-align: right;\n",
       "    }\n",
       "</style>\n",
       "<table border=\"1\" class=\"dataframe\">\n",
       "  <thead>\n",
       "    <tr style=\"text-align: right;\">\n",
       "      <th></th>\n",
       "      <th>상호</th>\n",
       "      <th>주소</th>\n",
       "      <th>가격</th>\n",
       "      <th>셀프</th>\n",
       "      <th>상표</th>\n",
       "      <th>구</th>\n",
       "    </tr>\n",
       "  </thead>\n",
       "  <tbody>\n",
       "    <tr>\n",
       "      <th>347</th>\n",
       "      <td>서서울고속주유소</td>\n",
       "      <td>서울 구로구 경인로 150 (오류동)</td>\n",
       "      <td>1495.0</td>\n",
       "      <td>Y</td>\n",
       "      <td>SK에너지</td>\n",
       "      <td>구로구</td>\n",
       "    </tr>\n",
       "    <tr>\n",
       "      <th>346</th>\n",
       "      <td>(주)서울에너지 궁동주유소</td>\n",
       "      <td>서울 구로구 오리로 1299 (궁동)</td>\n",
       "      <td>1495.0</td>\n",
       "      <td>Y</td>\n",
       "      <td>HD현대오일뱅크</td>\n",
       "      <td>구로구</td>\n",
       "    </tr>\n",
       "    <tr>\n",
       "      <th>345</th>\n",
       "      <td>㈜자연에너지 고척주유소</td>\n",
       "      <td>서울 구로구 고척로 199 (고척동)</td>\n",
       "      <td>1495.0</td>\n",
       "      <td>Y</td>\n",
       "      <td>HD현대오일뱅크</td>\n",
       "      <td>구로구</td>\n",
       "    </tr>\n",
       "    <tr>\n",
       "      <th>348</th>\n",
       "      <td>씨앤에스유통(주) 구로드림주유소</td>\n",
       "      <td>서울 구로구 경인로 41 (온수동)</td>\n",
       "      <td>1495.0</td>\n",
       "      <td>Y</td>\n",
       "      <td>S-OIL</td>\n",
       "      <td>구로구</td>\n",
       "    </tr>\n",
       "    <tr>\n",
       "      <th>188</th>\n",
       "      <td>성락주유소</td>\n",
       "      <td>서울 영등포구 가마산로 414 (신길동)</td>\n",
       "      <td>1499.0</td>\n",
       "      <td>Y</td>\n",
       "      <td>S-OIL</td>\n",
       "      <td>영등포구</td>\n",
       "    </tr>\n",
       "    <tr>\n",
       "      <th>189</th>\n",
       "      <td>도림주유소</td>\n",
       "      <td>서울 영등포구 도림로 343 (도림동)</td>\n",
       "      <td>1499.0</td>\n",
       "      <td>Y</td>\n",
       "      <td>알뜰주유소</td>\n",
       "      <td>영등포구</td>\n",
       "    </tr>\n",
       "    <tr>\n",
       "      <th>197</th>\n",
       "      <td>(주)대청에너지 대청주유소</td>\n",
       "      <td>서울 영등포구 가마산로 328 (대림동)</td>\n",
       "      <td>1499.0</td>\n",
       "      <td>Y</td>\n",
       "      <td>GS칼텍스</td>\n",
       "      <td>영등포구</td>\n",
       "    </tr>\n",
       "    <tr>\n",
       "      <th>196</th>\n",
       "      <td>(주)MS에너지</td>\n",
       "      <td>서울 영등포구 대림로 230</td>\n",
       "      <td>1499.0</td>\n",
       "      <td>N</td>\n",
       "      <td>HD현대오일뱅크</td>\n",
       "      <td>영등포구</td>\n",
       "    </tr>\n",
       "    <tr>\n",
       "      <th>349</th>\n",
       "      <td>(주)한미석유구로그린주유소</td>\n",
       "      <td>서울 구로구 구로중앙로 76 (구로동)</td>\n",
       "      <td>1499.0</td>\n",
       "      <td>Y</td>\n",
       "      <td>GS칼텍스</td>\n",
       "      <td>구로구</td>\n",
       "    </tr>\n",
       "    <tr>\n",
       "      <th>192</th>\n",
       "      <td>영등포현대셀프주유소</td>\n",
       "      <td>서울 영등포구 경인로 822 (영등포동)</td>\n",
       "      <td>1499.0</td>\n",
       "      <td>Y</td>\n",
       "      <td>HD현대오일뱅크</td>\n",
       "      <td>영등포구</td>\n",
       "    </tr>\n",
       "  </tbody>\n",
       "</table>\n",
       "</div>"
      ],
      "text/plain": [
       "                    상호                      주소      가격 셀프        상표     구\n",
       "347           서서울고속주유소    서울 구로구 경인로 150 (오류동)  1495.0  Y     SK에너지   구로구\n",
       "346     (주)서울에너지 궁동주유소    서울 구로구 오리로 1299 (궁동)  1495.0  Y  HD현대오일뱅크   구로구\n",
       "345       ㈜자연에너지 고척주유소    서울 구로구 고척로 199 (고척동)  1495.0  Y  HD현대오일뱅크   구로구\n",
       "348  씨앤에스유통(주) 구로드림주유소     서울 구로구 경인로 41 (온수동)  1495.0  Y     S-OIL   구로구\n",
       "188              성락주유소  서울 영등포구 가마산로 414 (신길동)  1499.0  Y     S-OIL  영등포구\n",
       "189              도림주유소   서울 영등포구 도림로 343 (도림동)  1499.0  Y     알뜰주유소  영등포구\n",
       "197     (주)대청에너지 대청주유소  서울 영등포구 가마산로 328 (대림동)  1499.0  Y     GS칼텍스  영등포구\n",
       "196           (주)MS에너지         서울 영등포구 대림로 230  1499.0  N  HD현대오일뱅크  영등포구\n",
       "349     (주)한미석유구로그린주유소   서울 구로구 구로중앙로 76 (구로동)  1499.0  Y     GS칼텍스   구로구\n",
       "192         영등포현대셀프주유소  서울 영등포구 경인로 822 (영등포동)  1499.0  Y  HD현대오일뱅크  영등포구"
      ]
     },
     "execution_count": 225,
     "metadata": {},
     "output_type": "execute_result"
    }
   ],
   "source": [
    "# 가장 값싼 주유소 10개\n",
    "\n",
    "stations.sort_values(by='가격', ascending=True).head(10)"
   ]
  },
  {
   "cell_type": "code",
   "execution_count": 227,
   "metadata": {},
   "outputs": [
    {
     "data": {
      "text/html": [
       "<div>\n",
       "<style scoped>\n",
       "    .dataframe tbody tr th:only-of-type {\n",
       "        vertical-align: middle;\n",
       "    }\n",
       "\n",
       "    .dataframe tbody tr th {\n",
       "        vertical-align: top;\n",
       "    }\n",
       "\n",
       "    .dataframe thead th {\n",
       "        text-align: right;\n",
       "    }\n",
       "</style>\n",
       "<table border=\"1\" class=\"dataframe\">\n",
       "  <thead>\n",
       "    <tr style=\"text-align: right;\">\n",
       "      <th></th>\n",
       "      <th>가격</th>\n",
       "    </tr>\n",
       "    <tr>\n",
       "      <th>구</th>\n",
       "      <th></th>\n",
       "    </tr>\n",
       "  </thead>\n",
       "  <tbody>\n",
       "    <tr>\n",
       "      <th>강남구</th>\n",
       "      <td>1873.156250</td>\n",
       "    </tr>\n",
       "    <tr>\n",
       "      <th>강동구</th>\n",
       "      <td>1719.928571</td>\n",
       "    </tr>\n",
       "    <tr>\n",
       "      <th>강북구</th>\n",
       "      <td>1551.583333</td>\n",
       "    </tr>\n",
       "    <tr>\n",
       "      <th>강서구</th>\n",
       "      <td>1613.818182</td>\n",
       "    </tr>\n",
       "    <tr>\n",
       "      <th>관악구</th>\n",
       "      <td>1627.846154</td>\n",
       "    </tr>\n",
       "  </tbody>\n",
       "</table>\n",
       "</div>"
      ],
      "text/plain": [
       "              가격\n",
       "구               \n",
       "강남구  1873.156250\n",
       "강동구  1719.928571\n",
       "강북구  1551.583333\n",
       "강서구  1613.818182\n",
       "관악구  1627.846154"
      ]
     },
     "execution_count": 227,
     "metadata": {},
     "output_type": "execute_result"
    }
   ],
   "source": [
    "import numpy as np\n",
    "\n",
    "gu_data = pd.pivot_table(data=stations, index='구', values='가격', aggfunc=np.mean)\n",
    "gu_data.head()"
   ]
  },
  {
   "cell_type": "code",
   "execution_count": 238,
   "metadata": {},
   "outputs": [
    {
     "data": {
      "text/html": [
       "<div style=\"width:100%;\"><div style=\"position:relative;width:100%;height:0;padding-bottom:60%;\"><span style=\"color:#565656\">Make this Notebook Trusted to load map: File -> Trust Notebook</span><iframe srcdoc=\"&lt;!DOCTYPE html&gt;\n",
       "&lt;html&gt;\n",
       "&lt;head&gt;\n",
       "    \n",
       "    &lt;meta http-equiv=&quot;content-type&quot; content=&quot;text/html; charset=UTF-8&quot; /&gt;\n",
       "    \n",
       "        &lt;script&gt;\n",
       "            L_NO_TOUCH = false;\n",
       "            L_DISABLE_3D = false;\n",
       "        &lt;/script&gt;\n",
       "    \n",
       "    &lt;style&gt;html, body {width: 100%;height: 100%;margin: 0;padding: 0;}&lt;/style&gt;\n",
       "    &lt;style&gt;#map {position:absolute;top:0;bottom:0;right:0;left:0;}&lt;/style&gt;\n",
       "    &lt;script src=&quot;https://cdn.jsdelivr.net/npm/leaflet@1.9.3/dist/leaflet.js&quot;&gt;&lt;/script&gt;\n",
       "    &lt;script src=&quot;https://code.jquery.com/jquery-1.12.4.min.js&quot;&gt;&lt;/script&gt;\n",
       "    &lt;script src=&quot;https://cdn.jsdelivr.net/npm/bootstrap@5.2.2/dist/js/bootstrap.bundle.min.js&quot;&gt;&lt;/script&gt;\n",
       "    &lt;script src=&quot;https://cdnjs.cloudflare.com/ajax/libs/Leaflet.awesome-markers/2.0.2/leaflet.awesome-markers.js&quot;&gt;&lt;/script&gt;\n",
       "    &lt;link rel=&quot;stylesheet&quot; href=&quot;https://cdn.jsdelivr.net/npm/leaflet@1.9.3/dist/leaflet.css&quot;/&gt;\n",
       "    &lt;link rel=&quot;stylesheet&quot; href=&quot;https://cdn.jsdelivr.net/npm/bootstrap@5.2.2/dist/css/bootstrap.min.css&quot;/&gt;\n",
       "    &lt;link rel=&quot;stylesheet&quot; href=&quot;https://netdna.bootstrapcdn.com/bootstrap/3.0.0/css/bootstrap.min.css&quot;/&gt;\n",
       "    &lt;link rel=&quot;stylesheet&quot; href=&quot;https://cdn.jsdelivr.net/npm/@fortawesome/fontawesome-free@6.2.0/css/all.min.css&quot;/&gt;\n",
       "    &lt;link rel=&quot;stylesheet&quot; href=&quot;https://cdnjs.cloudflare.com/ajax/libs/Leaflet.awesome-markers/2.0.2/leaflet.awesome-markers.css&quot;/&gt;\n",
       "    &lt;link rel=&quot;stylesheet&quot; href=&quot;https://cdn.jsdelivr.net/gh/python-visualization/folium/folium/templates/leaflet.awesome.rotate.min.css&quot;/&gt;\n",
       "    \n",
       "            &lt;meta name=&quot;viewport&quot; content=&quot;width=device-width,\n",
       "                initial-scale=1.0, maximum-scale=1.0, user-scalable=no&quot; /&gt;\n",
       "            &lt;style&gt;\n",
       "                #map_6a8498e5fae92da3f676bd0a34ecac0e {\n",
       "                    position: relative;\n",
       "                    width: 100.0%;\n",
       "                    height: 100.0%;\n",
       "                    left: 0.0%;\n",
       "                    top: 0.0%;\n",
       "                }\n",
       "                .leaflet-container { font-size: 1rem; }\n",
       "            &lt;/style&gt;\n",
       "        \n",
       "    &lt;script src=&quot;https://cdnjs.cloudflare.com/ajax/libs/d3/3.5.5/d3.min.js&quot;&gt;&lt;/script&gt;\n",
       "&lt;/head&gt;\n",
       "&lt;body&gt;\n",
       "    \n",
       "    \n",
       "            &lt;div class=&quot;folium-map&quot; id=&quot;map_6a8498e5fae92da3f676bd0a34ecac0e&quot; &gt;&lt;/div&gt;\n",
       "        \n",
       "&lt;/body&gt;\n",
       "&lt;script&gt;\n",
       "    \n",
       "    \n",
       "            var map_6a8498e5fae92da3f676bd0a34ecac0e = L.map(\n",
       "                &quot;map_6a8498e5fae92da3f676bd0a34ecac0e&quot;,\n",
       "                {\n",
       "                    center: [37.5502, 126.982],\n",
       "                    crs: L.CRS.EPSG3857,\n",
       "                    zoom: 10.5,\n",
       "                    zoomControl: true,\n",
       "                    preferCanvas: false,\n",
       "                }\n",
       "            );\n",
       "\n",
       "            \n",
       "\n",
       "        \n",
       "    \n",
       "            var tile_layer_2bcfcba49fdbbb54d6814ce20f5a0024 = L.tileLayer(\n",
       "                &quot;https://{s}.tile.openstreetmap.org/{z}/{x}/{y}.png&quot;,\n",
       "                {&quot;attribution&quot;: &quot;Data by \\u0026copy; \\u003ca target=\\&quot;_blank\\&quot; href=\\&quot;http://openstreetmap.org\\&quot;\\u003eOpenStreetMap\\u003c/a\\u003e, under \\u003ca target=\\&quot;_blank\\&quot; href=\\&quot;http://www.openstreetmap.org/copyright\\&quot;\\u003eODbL\\u003c/a\\u003e.&quot;, &quot;detectRetina&quot;: false, &quot;maxNativeZoom&quot;: 18, &quot;maxZoom&quot;: 18, &quot;minZoom&quot;: 0, &quot;noWrap&quot;: false, &quot;opacity&quot;: 1, &quot;subdomains&quot;: &quot;abc&quot;, &quot;tms&quot;: false}\n",
       "            ).addTo(map_6a8498e5fae92da3f676bd0a34ecac0e);\n",
       "        \n",
       "    \n",
       "            var choropleth_a30e802bbd8f9e4229667efa4fcf521b = L.featureGroup(\n",
       "                {}\n",
       "            ).addTo(map_6a8498e5fae92da3f676bd0a34ecac0e);\n",
       "        \n",
       "    \n",
       "        function geo_json_1ce5213c84240d1c4a5875fe5c33c4af_styler(feature) {\n",
       "            switch(feature.id) {\n",
       "                case &quot;\\uac15\\ub3d9\\uad6c&quot;: case &quot;\\uc11c\\ucd08\\uad6c&quot;: \n",
       "                    return {&quot;color&quot;: &quot;black&quot;, &quot;fillColor&quot;: &quot;#d4b9da&quot;, &quot;fillOpacity&quot;: 0.6, &quot;opacity&quot;: 1, &quot;weight&quot;: 1};\n",
       "                case &quot;\\uac15\\ub0a8\\uad6c&quot;: case &quot;\\uc911\\uad6c&quot;: \n",
       "                    return {&quot;color&quot;: &quot;black&quot;, &quot;fillColor&quot;: &quot;#df65b0&quot;, &quot;fillOpacity&quot;: 0.6, &quot;opacity&quot;: 1, &quot;weight&quot;: 1};\n",
       "                case &quot;\\uc131\\ub3d9\\uad6c&quot;: \n",
       "                    return {&quot;color&quot;: &quot;black&quot;, &quot;fillColor&quot;: &quot;#c994c7&quot;, &quot;fillOpacity&quot;: 0.6, &quot;opacity&quot;: 1, &quot;weight&quot;: 1};\n",
       "                case &quot;\\uc6a9\\uc0b0\\uad6c&quot;: \n",
       "                    return {&quot;color&quot;: &quot;black&quot;, &quot;fillColor&quot;: &quot;#980043&quot;, &quot;fillOpacity&quot;: 0.6, &quot;opacity&quot;: 1, &quot;weight&quot;: 1};\n",
       "                case &quot;\\uc885\\ub85c\\uad6c&quot;: \n",
       "                    return {&quot;color&quot;: &quot;black&quot;, &quot;fillColor&quot;: &quot;#dd1c77&quot;, &quot;fillOpacity&quot;: 0.6, &quot;opacity&quot;: 1, &quot;weight&quot;: 1};\n",
       "                default:\n",
       "                    return {&quot;color&quot;: &quot;black&quot;, &quot;fillColor&quot;: &quot;#f1eef6&quot;, &quot;fillOpacity&quot;: 0.6, &quot;opacity&quot;: 1, &quot;weight&quot;: 1};\n",
       "            }\n",
       "        }\n",
       "\n",
       "        function geo_json_1ce5213c84240d1c4a5875fe5c33c4af_onEachFeature(feature, layer) {\n",
       "            layer.on({\n",
       "            });\n",
       "        };\n",
       "        var geo_json_1ce5213c84240d1c4a5875fe5c33c4af = L.geoJson(null, {\n",
       "                onEachFeature: geo_json_1ce5213c84240d1c4a5875fe5c33c4af_onEachFeature,\n",
       "            \n",
       "                style: geo_json_1ce5213c84240d1c4a5875fe5c33c4af_styler,\n",
       "        });\n",
       "\n",
       "        function geo_json_1ce5213c84240d1c4a5875fe5c33c4af_add (data) {\n",
       "            geo_json_1ce5213c84240d1c4a5875fe5c33c4af\n",
       "                .addData(data)\n",
       "                .addTo(choropleth_a30e802bbd8f9e4229667efa4fcf521b);\n",
       "        }\n",
       "            geo_json_1ce5213c84240d1c4a5875fe5c33c4af_add({&quot;features&quot;: [{&quot;geometry&quot;: {&quot;coordinates&quot;: [[[127.11519584981606, 37.557533180704915], [127.16683184366129, 37.57672487388627], [127.18408792330152, 37.55814280369575], [127.16530984307447, 37.54221851258693], [127.14672806823502, 37.51415680680291], [127.12123165719615, 37.52528270089], [127.1116764203608, 37.540669955324965], [127.11519584981606, 37.557533180704915]]], &quot;type&quot;: &quot;Polygon&quot;}, &quot;id&quot;: &quot;\\uac15\\ub3d9\\uad6c&quot;, &quot;properties&quot;: {&quot;base_year&quot;: &quot;2013&quot;, &quot;code&quot;: &quot;11250&quot;, &quot;name&quot;: &quot;\\uac15\\ub3d9\\uad6c&quot;, &quot;name_eng&quot;: &quot;Gangdong-gu&quot;}, &quot;type&quot;: &quot;Feature&quot;}, {&quot;geometry&quot;: {&quot;coordinates&quot;: [[[127.0690698130372, 37.522279423505026], [127.10087519791962, 37.524841220167055], [127.1116764203608, 37.540669955324965], [127.12123165719615, 37.52528270089], [127.14672806823502, 37.51415680680291], [127.1634944215765, 37.497445406097484], [127.14206058413274, 37.47089819098501], [127.12440571080893, 37.46240445587048], [127.11117085201238, 37.485708381512445], [127.0719146000724, 37.50224013587669], [127.0690698130372, 37.522279423505026]]], &quot;type&quot;: &quot;Polygon&quot;}, &quot;id&quot;: &quot;\\uc1a1\\ud30c\\uad6c&quot;, &quot;properties&quot;: {&quot;base_year&quot;: &quot;2013&quot;, &quot;code&quot;: &quot;11240&quot;, &quot;name&quot;: &quot;\\uc1a1\\ud30c\\uad6c&quot;, &quot;name_eng&quot;: &quot;Songpa-gu&quot;}, &quot;type&quot;: &quot;Feature&quot;}, {&quot;geometry&quot;: {&quot;coordinates&quot;: [[[127.05867359288398, 37.52629974922568], [127.0690698130372, 37.522279423505026], [127.0719146000724, 37.50224013587669], [127.11117085201238, 37.485708381512445], [127.12440571080893, 37.46240445587048], [127.09842759318751, 37.45862253857461], [127.08640440578156, 37.472697935184655], [127.0559170481904, 37.4659228914077], [127.03621915098798, 37.48175802427603], [127.01397119667513, 37.52503988289669], [127.02302831890559, 37.53231899582663], [127.05867359288398, 37.52629974922568]]], &quot;type&quot;: &quot;Polygon&quot;}, &quot;id&quot;: &quot;\\uac15\\ub0a8\\uad6c&quot;, &quot;properties&quot;: {&quot;base_year&quot;: &quot;2013&quot;, &quot;code&quot;: &quot;11230&quot;, &quot;name&quot;: &quot;\\uac15\\ub0a8\\uad6c&quot;, &quot;name_eng&quot;: &quot;Gangnam-gu&quot;}, &quot;type&quot;: &quot;Feature&quot;}, {&quot;geometry&quot;: {&quot;coordinates&quot;: [[[127.01397119667513, 37.52503988289669], [127.03621915098798, 37.48175802427603], [127.0559170481904, 37.4659228914077], [127.08640440578156, 37.472697935184655], [127.09842759318751, 37.45862253857461], [127.09046928565951, 37.44296826114185], [127.06778107605433, 37.426197424057314], [127.04957232987142, 37.42805836845694], [127.03881782597922, 37.45382039851715], [126.99072073195462, 37.455326143310025], [126.98367668291802, 37.473856492692086], [126.98223807916081, 37.509314966770326], [127.01397119667513, 37.52503988289669]]], &quot;type&quot;: &quot;Polygon&quot;}, &quot;id&quot;: &quot;\\uc11c\\ucd08\\uad6c&quot;, &quot;properties&quot;: {&quot;base_year&quot;: &quot;2013&quot;, &quot;code&quot;: &quot;11220&quot;, &quot;name&quot;: &quot;\\uc11c\\ucd08\\uad6c&quot;, &quot;name_eng&quot;: &quot;Seocho-gu&quot;}, &quot;type&quot;: &quot;Feature&quot;}, {&quot;geometry&quot;: {&quot;coordinates&quot;: [[[126.98367668291802, 37.473856492692086], [126.99072073195462, 37.455326143310025], [126.96520439085143, 37.438249784006246], [126.95000001010182, 37.43613451165719], [126.93084408056525, 37.447382928333994], [126.9167728146601, 37.45490566423789], [126.90156094129895, 37.47753842789901], [126.90531975801812, 37.48218087575429], [126.94922661389508, 37.49125437495649], [126.9725891850662, 37.472561363278125], [126.98367668291802, 37.473856492692086]]], &quot;type&quot;: &quot;Polygon&quot;}, &quot;id&quot;: &quot;\\uad00\\uc545\\uad6c&quot;, &quot;properties&quot;: {&quot;base_year&quot;: &quot;2013&quot;, &quot;code&quot;: &quot;11210&quot;, &quot;name&quot;: &quot;\\uad00\\uc545\\uad6c&quot;, &quot;name_eng&quot;: &quot;Gwanak-gu&quot;}, &quot;type&quot;: &quot;Feature&quot;}, {&quot;geometry&quot;: {&quot;coordinates&quot;: [[[126.98223807916081, 37.509314966770326], [126.98367668291802, 37.473856492692086], [126.9725891850662, 37.472561363278125], [126.94922661389508, 37.49125437495649], [126.90531975801812, 37.48218087575429], [126.92177893174825, 37.494889877415176], [126.92810628828279, 37.51329595732015], [126.95249990298159, 37.51722500741813], [126.98223807916081, 37.509314966770326]]], &quot;type&quot;: &quot;Polygon&quot;}, &quot;id&quot;: &quot;\\ub3d9\\uc791\\uad6c&quot;, &quot;properties&quot;: {&quot;base_year&quot;: &quot;2013&quot;, &quot;code&quot;: &quot;11200&quot;, &quot;name&quot;: &quot;\\ub3d9\\uc791\\uad6c&quot;, &quot;name_eng&quot;: &quot;Dongjak-gu&quot;}, &quot;type&quot;: &quot;Feature&quot;}, {&quot;geometry&quot;: {&quot;coordinates&quot;: [[[126.89184663862764, 37.547373974997114], [126.94566733083212, 37.526617542453366], [126.95249990298159, 37.51722500741813], [126.92810628828279, 37.51329595732015], [126.92177893174825, 37.494889877415176], [126.90531975801812, 37.48218087575429], [126.89594776782485, 37.504675281309176], [126.88156402353862, 37.513970034765684], [126.88825757860099, 37.54079733630232], [126.89184663862764, 37.547373974997114]]], &quot;type&quot;: &quot;Polygon&quot;}, &quot;id&quot;: &quot;\\uc601\\ub4f1\\ud3ec\\uad6c&quot;, &quot;properties&quot;: {&quot;base_year&quot;: &quot;2013&quot;, &quot;code&quot;: &quot;11190&quot;, &quot;name&quot;: &quot;\\uc601\\ub4f1\\ud3ec\\uad6c&quot;, &quot;name_eng&quot;: &quot;Yeongdeungpo-gu&quot;}, &quot;type&quot;: &quot;Feature&quot;}, {&quot;geometry&quot;: {&quot;coordinates&quot;: [[[126.90156094129895, 37.47753842789901], [126.9167728146601, 37.45490566423789], [126.93084408056525, 37.447382928333994], [126.9025831711697, 37.434549366349124], [126.87683271502428, 37.482576591607305], [126.90156094129895, 37.47753842789901]]], &quot;type&quot;: &quot;Polygon&quot;}, &quot;id&quot;: &quot;\\uae08\\ucc9c\\uad6c&quot;, &quot;properties&quot;: {&quot;base_year&quot;: &quot;2013&quot;, &quot;code&quot;: &quot;11180&quot;, &quot;name&quot;: &quot;\\uae08\\ucc9c\\uad6c&quot;, &quot;name_eng&quot;: &quot;Geumcheon-gu&quot;}, &quot;type&quot;: &quot;Feature&quot;}, {&quot;geometry&quot;: {&quot;coordinates&quot;: [[[126.82688081517314, 37.50548972232896], [126.88156402353862, 37.513970034765684], [126.89594776782485, 37.504675281309176], [126.90531975801812, 37.48218087575429], [126.90156094129895, 37.47753842789901], [126.87683271502428, 37.482576591607305], [126.84762676054953, 37.47146723936323], [126.83549485076196, 37.474098236975095], [126.82264796791348, 37.4878476492147], [126.82504736331406, 37.50302612640443], [126.82688081517314, 37.50548972232896]]], &quot;type&quot;: &quot;Polygon&quot;}, &quot;id&quot;: &quot;\\uad6c\\ub85c\\uad6c&quot;, &quot;properties&quot;: {&quot;base_year&quot;: &quot;2013&quot;, &quot;code&quot;: &quot;11170&quot;, &quot;name&quot;: &quot;\\uad6c\\ub85c\\uad6c&quot;, &quot;name_eng&quot;: &quot;Guro-gu&quot;}, &quot;type&quot;: &quot;Feature&quot;}, {&quot;geometry&quot;: {&quot;coordinates&quot;: [[[126.79575768552907, 37.57881087633202], [126.80702115023597, 37.60123001013228], [126.82251438477105, 37.5880430810082], [126.85984199399667, 37.571847855292745], [126.89184663862764, 37.547373974997114], [126.88825757860099, 37.54079733630232], [126.86637464321238, 37.54859191094823], [126.86610073476395, 37.52699964144669], [126.84257291943153, 37.52373707805596], [126.8242331426722, 37.53788078753248], [126.77324417717703, 37.5459123450554], [126.76979180579352, 37.55139183008809], [126.79575768552907, 37.57881087633202]]], &quot;type&quot;: &quot;Polygon&quot;}, &quot;id&quot;: &quot;\\uac15\\uc11c\\uad6c&quot;, &quot;properties&quot;: {&quot;base_year&quot;: &quot;2013&quot;, &quot;code&quot;: &quot;11160&quot;, &quot;name&quot;: &quot;\\uac15\\uc11c\\uad6c&quot;, &quot;name_eng&quot;: &quot;Gangseo-gu&quot;}, &quot;type&quot;: &quot;Feature&quot;}, {&quot;geometry&quot;: {&quot;coordinates&quot;: [[[126.8242331426722, 37.53788078753248], [126.84257291943153, 37.52373707805596], [126.86610073476395, 37.52699964144669], [126.86637464321238, 37.54859191094823], [126.88825757860099, 37.54079733630232], [126.88156402353862, 37.513970034765684], [126.82688081517314, 37.50548972232896], [126.8242331426722, 37.53788078753248]]], &quot;type&quot;: &quot;Polygon&quot;}, &quot;id&quot;: &quot;\\uc591\\ucc9c\\uad6c&quot;, &quot;properties&quot;: {&quot;base_year&quot;: &quot;2013&quot;, &quot;code&quot;: &quot;11150&quot;, &quot;name&quot;: &quot;\\uc591\\ucc9c\\uad6c&quot;, &quot;name_eng&quot;: &quot;Yangcheon-gu&quot;}, &quot;type&quot;: &quot;Feature&quot;}, {&quot;geometry&quot;: {&quot;coordinates&quot;: [[[126.90522065831053, 37.57409700522574], [126.93898161798973, 37.552310003728124], [126.96358226710812, 37.55605635475154], [126.96448570553055, 37.548705692021635], [126.94566733083212, 37.526617542453366], [126.89184663862764, 37.547373974997114], [126.85984199399667, 37.571847855292745], [126.88433284773288, 37.588143322880526], [126.90522065831053, 37.57409700522574]]], &quot;type&quot;: &quot;Polygon&quot;}, &quot;id&quot;: &quot;\\ub9c8\\ud3ec\\uad6c&quot;, &quot;properties&quot;: {&quot;base_year&quot;: &quot;2013&quot;, &quot;code&quot;: &quot;11140&quot;, &quot;name&quot;: &quot;\\ub9c8\\ud3ec\\uad6c&quot;, &quot;name_eng&quot;: &quot;Mapo-gu&quot;}, &quot;type&quot;: &quot;Feature&quot;}, {&quot;geometry&quot;: {&quot;coordinates&quot;: [[[126.9524752030572, 37.60508692737045], [126.95565425846463, 37.576080790881456], [126.96873633279075, 37.56313604690827], [126.96358226710812, 37.55605635475154], [126.93898161798973, 37.552310003728124], [126.90522065831053, 37.57409700522574], [126.9524752030572, 37.60508692737045]]], &quot;type&quot;: &quot;Polygon&quot;}, &quot;id&quot;: &quot;\\uc11c\\ub300\\ubb38\\uad6c&quot;, &quot;properties&quot;: {&quot;base_year&quot;: &quot;2013&quot;, &quot;code&quot;: &quot;11130&quot;, &quot;name&quot;: &quot;\\uc11c\\ub300\\ubb38\\uad6c&quot;, &quot;name_eng&quot;: &quot;Seodaemun-gu&quot;}, &quot;type&quot;: &quot;Feature&quot;}, {&quot;geometry&quot;: {&quot;coordinates&quot;: [[[126.9738864128702, 37.62949634786888], [126.95427017006129, 37.622033431339425], [126.9524752030572, 37.60508692737045], [126.90522065831053, 37.57409700522574], [126.88433284773288, 37.588143322880526], [126.90396681003595, 37.59227403419942], [126.90303066177668, 37.609977911401344], [126.91455481429648, 37.64150050996935], [126.956473797387, 37.652480737339445], [126.9738864128702, 37.62949634786888]]], &quot;type&quot;: &quot;Polygon&quot;}, &quot;id&quot;: &quot;\\uc740\\ud3c9\\uad6c&quot;, &quot;properties&quot;: {&quot;base_year&quot;: &quot;2013&quot;, &quot;code&quot;: &quot;11120&quot;, &quot;name&quot;: &quot;\\uc740\\ud3c9\\uad6c&quot;, &quot;name_eng&quot;: &quot;Eunpyeong-gu&quot;}, &quot;type&quot;: &quot;Feature&quot;}, {&quot;geometry&quot;: {&quot;coordinates&quot;: [[[127.0838752703195, 37.69359534202034], [127.09706391309695, 37.686383719372294], [127.09440766298717, 37.64713490473045], [127.11326795855199, 37.639622905315925], [127.10782277688129, 37.61804244241069], [127.07351243825278, 37.61283660342313], [127.05209373568619, 37.62164065487782], [127.04358800895609, 37.62848931298715], [127.05800075220091, 37.64318263878276], [127.05288479710485, 37.68423857084347], [127.0838752703195, 37.69359534202034]]], &quot;type&quot;: &quot;Polygon&quot;}, &quot;id&quot;: &quot;\\ub178\\uc6d0\\uad6c&quot;, &quot;properties&quot;: {&quot;base_year&quot;: &quot;2013&quot;, &quot;code&quot;: &quot;11110&quot;, &quot;name&quot;: &quot;\\ub178\\uc6d0\\uad6c&quot;, &quot;name_eng&quot;: &quot;Nowon-gu&quot;}, &quot;type&quot;: &quot;Feature&quot;}, {&quot;geometry&quot;: {&quot;coordinates&quot;: [[[127.05288479710485, 37.68423857084347], [127.05800075220091, 37.64318263878276], [127.04358800895609, 37.62848931298715], [127.01465935892466, 37.64943687496812], [127.02062116141389, 37.667173575971205], [127.01039666042071, 37.681894589603594], [127.01795099203432, 37.69824412775662], [127.05288479710485, 37.68423857084347]]], &quot;type&quot;: &quot;Polygon&quot;}, &quot;id&quot;: &quot;\\ub3c4\\ubd09\\uad6c&quot;, &quot;properties&quot;: {&quot;base_year&quot;: &quot;2013&quot;, &quot;code&quot;: &quot;11100&quot;, &quot;name&quot;: &quot;\\ub3c4\\ubd09\\uad6c&quot;, &quot;name_eng&quot;: &quot;Dobong-gu&quot;}, &quot;type&quot;: &quot;Feature&quot;}, {&quot;geometry&quot;: {&quot;coordinates&quot;: [[[126.99383903424, 37.676681761199085], [127.01039666042071, 37.681894589603594], [127.02062116141389, 37.667173575971205], [127.01465935892466, 37.64943687496812], [127.04358800895609, 37.62848931298715], [127.05209373568619, 37.62164065487782], [127.03892400992301, 37.609715611023816], [127.0128154749523, 37.613652243470256], [126.98672705513869, 37.63377641288196], [126.9817452676551, 37.65209769387776], [126.99383903424, 37.676681761199085]]], &quot;type&quot;: &quot;Polygon&quot;}, &quot;id&quot;: &quot;\\uac15\\ubd81\\uad6c&quot;, &quot;properties&quot;: {&quot;base_year&quot;: &quot;2013&quot;, &quot;code&quot;: &quot;11090&quot;, &quot;name&quot;: &quot;\\uac15\\ubd81\\uad6c&quot;, &quot;name_eng&quot;: &quot;Gangbuk-gu&quot;}, &quot;type&quot;: &quot;Feature&quot;}, {&quot;geometry&quot;: {&quot;coordinates&quot;: [[[126.977175406416, 37.62859715400388], [126.98672705513869, 37.63377641288196], [127.0128154749523, 37.613652243470256], [127.03892400992301, 37.609715611023816], [127.05209373568619, 37.62164065487782], [127.07351243825278, 37.61283660342313], [127.07382707099227, 37.60401928986419], [127.042705222094, 37.59239437593391], [127.02527254528003, 37.57524616245249], [126.99348293358314, 37.588565457216156], [126.98879865992384, 37.6118927319756], [126.977175406416, 37.62859715400388]]], &quot;type&quot;: &quot;Polygon&quot;}, &quot;id&quot;: &quot;\\uc131\\ubd81\\uad6c&quot;, &quot;properties&quot;: {&quot;base_year&quot;: &quot;2013&quot;, &quot;code&quot;: &quot;11080&quot;, &quot;name&quot;: &quot;\\uc131\\ubd81\\uad6c&quot;, &quot;name_eng&quot;: &quot;Seongbuk-gu&quot;}, &quot;type&quot;: &quot;Feature&quot;}, {&quot;geometry&quot;: {&quot;coordinates&quot;: [[[127.07351243825278, 37.61283660342313], [127.10782277688129, 37.61804244241069], [127.1201246020114, 37.60178457598188], [127.10304174249214, 37.57076342290955], [127.08068541280403, 37.56906425519017], [127.07382707099227, 37.60401928986419], [127.07351243825278, 37.61283660342313]]], &quot;type&quot;: &quot;Polygon&quot;}, &quot;id&quot;: &quot;\\uc911\\ub791\\uad6c&quot;, &quot;properties&quot;: {&quot;base_year&quot;: &quot;2013&quot;, &quot;code&quot;: &quot;11070&quot;, &quot;name&quot;: &quot;\\uc911\\ub791\\uad6c&quot;, &quot;name_eng&quot;: &quot;Jungnang-gu&quot;}, &quot;type&quot;: &quot;Feature&quot;}, {&quot;geometry&quot;: {&quot;coordinates&quot;: [[[127.02527254528003, 37.57524616245249], [127.042705222094, 37.59239437593391], [127.07382707099227, 37.60401928986419], [127.08068541280403, 37.56906425519017], [127.07421053024362, 37.55724769712085], [127.05005601081567, 37.567577612590846], [127.02547266349976, 37.568943552237734], [127.02527254528003, 37.57524616245249]]], &quot;type&quot;: &quot;Polygon&quot;}, &quot;id&quot;: &quot;\\ub3d9\\ub300\\ubb38\\uad6c&quot;, &quot;properties&quot;: {&quot;base_year&quot;: &quot;2013&quot;, &quot;code&quot;: &quot;11060&quot;, &quot;name&quot;: &quot;\\ub3d9\\ub300\\ubb38\\uad6c&quot;, &quot;name_eng&quot;: &quot;Dongdaemun-gu&quot;}, &quot;type&quot;: &quot;Feature&quot;}, {&quot;geometry&quot;: {&quot;coordinates&quot;: [[[127.08068541280403, 37.56906425519017], [127.10304174249214, 37.57076342290955], [127.11519584981606, 37.557533180704915], [127.1116764203608, 37.540669955324965], [127.10087519791962, 37.524841220167055], [127.0690698130372, 37.522279423505026], [127.05867359288398, 37.52629974922568], [127.07421053024362, 37.55724769712085], [127.08068541280403, 37.56906425519017]]], &quot;type&quot;: &quot;Polygon&quot;}, &quot;id&quot;: &quot;\\uad11\\uc9c4\\uad6c&quot;, &quot;properties&quot;: {&quot;base_year&quot;: &quot;2013&quot;, &quot;code&quot;: &quot;11050&quot;, &quot;name&quot;: &quot;\\uad11\\uc9c4\\uad6c&quot;, &quot;name_eng&quot;: &quot;Gwangjin-gu&quot;}, &quot;type&quot;: &quot;Feature&quot;}, {&quot;geometry&quot;: {&quot;coordinates&quot;: [[[127.02547266349976, 37.568943552237734], [127.05005601081567, 37.567577612590846], [127.07421053024362, 37.55724769712085], [127.05867359288398, 37.52629974922568], [127.02302831890559, 37.53231899582663], [127.01070894177482, 37.54118048964762], [127.02547266349976, 37.568943552237734]]], &quot;type&quot;: &quot;Polygon&quot;}, &quot;id&quot;: &quot;\\uc131\\ub3d9\\uad6c&quot;, &quot;properties&quot;: {&quot;base_year&quot;: &quot;2013&quot;, &quot;code&quot;: &quot;11040&quot;, &quot;name&quot;: &quot;\\uc131\\ub3d9\\uad6c&quot;, &quot;name_eng&quot;: &quot;Seongdong-gu&quot;}, &quot;type&quot;: &quot;Feature&quot;}, {&quot;geometry&quot;: {&quot;coordinates&quot;: [[[127.01070894177482, 37.54118048964762], [127.02302831890559, 37.53231899582663], [127.01397119667513, 37.52503988289669], [126.98223807916081, 37.509314966770326], [126.95249990298159, 37.51722500741813], [126.94566733083212, 37.526617542453366], [126.96448570553055, 37.548705692021635], [126.98752996903328, 37.55094818807139], [127.01070894177482, 37.54118048964762]]], &quot;type&quot;: &quot;Polygon&quot;}, &quot;id&quot;: &quot;\\uc6a9\\uc0b0\\uad6c&quot;, &quot;properties&quot;: {&quot;base_year&quot;: &quot;2013&quot;, &quot;code&quot;: &quot;11030&quot;, &quot;name&quot;: &quot;\\uc6a9\\uc0b0\\uad6c&quot;, &quot;name_eng&quot;: &quot;Yongsan-gu&quot;}, &quot;type&quot;: &quot;Feature&quot;}, {&quot;geometry&quot;: {&quot;coordinates&quot;: [[[127.02547266349976, 37.568943552237734], [127.01070894177482, 37.54118048964762], [126.98752996903328, 37.55094818807139], [126.96448570553055, 37.548705692021635], [126.96358226710812, 37.55605635475154], [126.96873633279075, 37.56313604690827], [127.02547266349976, 37.568943552237734]]], &quot;type&quot;: &quot;Polygon&quot;}, &quot;id&quot;: &quot;\\uc911\\uad6c&quot;, &quot;properties&quot;: {&quot;base_year&quot;: &quot;2013&quot;, &quot;code&quot;: &quot;11020&quot;, &quot;name&quot;: &quot;\\uc911\\uad6c&quot;, &quot;name_eng&quot;: &quot;Jung-gu&quot;}, &quot;type&quot;: &quot;Feature&quot;}, {&quot;geometry&quot;: {&quot;coordinates&quot;: [[[126.9738864128702, 37.62949634786888], [126.977175406416, 37.62859715400388], [126.98879865992384, 37.6118927319756], [126.99348293358314, 37.588565457216156], [127.02527254528003, 37.57524616245249], [127.02547266349976, 37.568943552237734], [126.96873633279075, 37.56313604690827], [126.95565425846463, 37.576080790881456], [126.9524752030572, 37.60508692737045], [126.95427017006129, 37.622033431339425], [126.9738864128702, 37.62949634786888]]], &quot;type&quot;: &quot;Polygon&quot;}, &quot;id&quot;: &quot;\\uc885\\ub85c\\uad6c&quot;, &quot;properties&quot;: {&quot;base_year&quot;: &quot;2013&quot;, &quot;code&quot;: &quot;11010&quot;, &quot;name&quot;: &quot;\\uc885\\ub85c\\uad6c&quot;, &quot;name_eng&quot;: &quot;Jongno-gu&quot;}, &quot;type&quot;: &quot;Feature&quot;}], &quot;type&quot;: &quot;FeatureCollection&quot;});\n",
       "\n",
       "        \n",
       "    \n",
       "    var color_map_f9f606260a666d1cae32e506bc651f08 = {};\n",
       "\n",
       "    \n",
       "    color_map_f9f606260a666d1cae32e506bc651f08.color = d3.scale.threshold()\n",
       "              .domain([1551.5833333333333, 1552.7398129592518, 1553.8962925851702, 1555.0527722110887, 1556.2092518370073, 1557.3657314629259, 1558.5222110888442, 1559.6786907147628, 1560.8351703406813, 1561.9916499665999, 1563.1481295925182, 1564.3046092184368, 1565.4610888443553, 1566.617568470274, 1567.7740480961922, 1568.9305277221108, 1570.0870073480294, 1571.2434869739477, 1572.3999665998663, 1573.5564462257848, 1574.7129258517034, 1575.8694054776217, 1577.0258851035403, 1578.1823647294589, 1579.3388443553774, 1580.4953239812958, 1581.6518036072143, 1582.808283233133, 1583.9647628590515, 1585.1212424849698, 1586.2777221108884, 1587.434201736807, 1588.5906813627253, 1589.7471609886438, 1590.9036406145624, 1592.060120240481, 1593.2165998663993, 1594.3730794923179, 1595.5295591182364, 1596.686038744155, 1597.8425183700733, 1598.9989979959919, 1600.1554776219104, 1601.311957247829, 1602.4684368737474, 1603.624916499666, 1604.7813961255845, 1605.9378757515028, 1607.0943553774214, 1608.25083500334, 1609.4073146292585, 1610.5637942551768, 1611.7202738810954, 1612.876753507014, 1614.0332331329325, 1615.1897127588509, 1616.3461923847694, 1617.502672010688, 1618.6591516366066, 1619.815631262525, 1620.9721108884435, 1622.128590514362, 1623.2850701402804, 1624.441549766199, 1625.5980293921175, 1626.754509018036, 1627.9109886439544, 1629.067468269873, 1630.2239478957915, 1631.38042752171, 1632.5369071476284, 1633.693386773547, 1634.8498663994656, 1636.0063460253841, 1637.1628256513025, 1638.319305277221, 1639.4757849031396, 1640.632264529058, 1641.7887441549765, 1642.945223780895, 1644.1017034068136, 1645.258183032732, 1646.4146626586505, 1647.571142284569, 1648.7276219104876, 1649.884101536406, 1651.0405811623245, 1652.197060788243, 1653.3535404141617, 1654.51002004008, 1655.6664996659986, 1656.8229792919171, 1657.9794589178355, 1659.135938543754, 1660.2924181696726, 1661.4488977955912, 1662.6053774215095, 1663.761857047428, 1664.9183366733466, 1666.0748162992652, 1667.2312959251835, 1668.387775551102, 1669.5442551770207, 1670.7007348029392, 1671.8572144288576, 1673.0136940547761, 1674.1701736806947, 1675.326653306613, 1676.4831329325316, 1677.6396125584502, 1678.7960921843687, 1679.952571810287, 1681.1090514362056, 1682.2655310621242, 1683.4220106880427, 1684.578490313961, 1685.7349699398796, 1686.8914495657982, 1688.0479291917168, 1689.204408817635, 1690.3608884435537, 1691.5173680694722, 1692.6738476953906, 1693.8303273213091, 1694.9868069472277, 1696.1432865731463, 1697.2997661990646, 1698.4562458249832, 1699.6127254509017, 1700.7692050768203, 1701.9256847027386, 1703.0821643286572, 1704.2386439545758, 1705.3951235804943, 1706.5516032064127, 1707.7080828323312, 1708.8645624582498, 1710.0210420841681, 1711.1775217100867, 1712.3340013360053, 1713.4904809619238, 1714.6469605878422, 1715.8034402137607, 1716.9599198396793, 1718.1163994655979, 1719.2728790915162, 1720.4293587174348, 1721.5858383433533, 1722.7423179692719, 1723.8987975951902, 1725.0552772211088, 1726.2117568470273, 1727.3682364729457, 1728.5247160988642, 1729.6811957247828, 1730.8376753507014, 1731.9941549766197, 1733.1506346025383, 1734.3071142284568, 1735.4635938543754, 1736.6200734802937, 1737.7765531062123, 1738.9330327321309, 1740.0895123580494, 1741.2459919839678, 1742.4024716098863, 1743.558951235805, 1744.7154308617232, 1745.8719104876418, 1747.0283901135604, 1748.184869739479, 1749.3413493653973, 1750.4978289913158, 1751.6543086172344, 1752.810788243153, 1753.9672678690713, 1755.1237474949899, 1756.2802271209084, 1757.436706746827, 1758.5931863727453, 1759.7496659986639, 1760.9061456245825, 1762.0626252505008, 1763.2191048764194, 1764.375584502338, 1765.5320641282565, 1766.6885437541748, 1767.8450233800934, 1769.001503006012, 1770.1579826319305, 1771.3144622578488, 1772.4709418837674, 1773.627421509686, 1774.7839011356045, 1775.9403807615229, 1777.0968603874414, 1778.25334001336, 1779.4098196392783, 1780.566299265197, 1781.7227788911155, 1782.879258517034, 1784.0357381429524, 1785.192217768871, 1786.3486973947895, 1787.505177020708, 1788.6616566466264, 1789.818136272545, 1790.9746158984635, 1792.131095524382, 1793.2875751503004, 1794.444054776219, 1795.6005344021376, 1796.757014028056, 1797.9134936539745, 1799.069973279893, 1800.2264529058116, 1801.3829325317301, 1802.5394121576485, 1803.695891783567, 1804.8523714094856, 1806.008851035404, 1807.1653306613225, 1808.321810287241, 1809.4782899131596, 1810.634769539078, 1811.7912491649965, 1812.947728790915, 1814.1042084168334, 1815.260688042752, 1816.4171676686706, 1817.5736472945891, 1818.7301269205075, 1819.886606546426, 1821.0430861723446, 1822.199565798263, 1823.3560454241815, 1824.5125250501, 1825.6690046760186, 1826.8254843019372, 1827.9819639278555, 1829.138443553774, 1830.2949231796927, 1831.451402805611, 1832.6078824315296, 1833.7643620574481, 1834.9208416833667, 1836.077321309285, 1837.2338009352036, 1838.3902805611222, 1839.5467601870405, 1840.703239812959, 1841.8597194388776, 1843.0161990647962, 1844.1726786907147, 1845.3291583166333, 1846.4856379425516, 1847.6421175684702, 1848.7985971943885, 1849.955076820307, 1851.1115564462257, 1852.2680360721442, 1853.4245156980626, 1854.5809953239811, 1855.7374749498997, 1856.893954575818, 1858.0504342017366, 1859.2069138276552, 1860.3633934535737, 1861.5198730794923, 1862.6763527054109, 1863.8328323313292, 1864.9893119572478, 1866.145791583166, 1867.3022712090847, 1868.4587508350032, 1869.6152304609218, 1870.7717100868401, 1871.9281897127587, 1873.0846693386773, 1874.2411489645956, 1875.3976285905142, 1876.5541082164327, 1877.7105878423513, 1878.8670674682699, 1880.0235470941884, 1881.1800267201068, 1882.3365063460253, 1883.4929859719437, 1884.6494655978622, 1885.8059452237808, 1886.9624248496993, 1888.118904475618, 1889.2753841015362, 1890.4318637274548, 1891.5883433533731, 1892.7448229792917, 1893.9013026052103, 1895.0577822311288, 1896.2142618570474, 1897.370741482966, 1898.5272211088843, 1899.6837007348029, 1900.8401803607212, 1901.9966599866398, 1903.1531396125583, 1904.309619238477, 1905.4660988643955, 1906.6225784903138, 1907.7790581162324, 1908.9355377421507, 1910.0920173680693, 1911.2484969939878, 1912.4049766199064, 1913.561456245825, 1914.7179358717435, 1915.8744154976619, 1917.0308951235804, 1918.187374749499, 1919.3438543754173, 1920.500334001336, 1921.6568136272545, 1922.813293253173, 1923.9697728790914, 1925.12625250501, 1926.2827321309283, 1927.4392117568468, 1928.5956913827654, 1929.752171008684, 1930.9086506346025, 1932.0651302605208, 1933.2216098864394, 1934.378089512358, 1935.5345691382763, 1936.6910487641949, 1937.8475283901134, 1939.004008016032, 1940.1604876419506, 1941.316967267869, 1942.4734468937875, 1943.6299265197058, 1944.7864061456244, 1945.942885771543, 1947.0993653974615, 1948.25584502338, 1949.4123246492984, 1950.568804275217, 1951.7252839011355, 1952.8817635270539, 1954.0382431529724, 1955.194722778891, 1956.3512024048096, 1957.5076820307281, 1958.6641616566465, 1959.820641282565, 1960.9771209084836, 1962.133600534402, 1963.2900801603205, 1964.446559786239, 1965.6030394121576, 1966.759519038076, 1967.9159986639945, 1969.072478289913, 1970.2289579158314, 1971.38543754175, 1972.5419171676685, 1973.698396793587, 1974.8548764195057, 1976.011356045424, 1977.1678356713426, 1978.3243152972611, 1979.4807949231795, 1980.637274549098, 1981.7937541750166, 1982.9502338009352, 1984.1067134268535, 1985.263193052772, 1986.4196726786906, 1987.576152304609, 1988.7326319305275, 1989.889111556446, 1991.0455911823647, 1992.2020708082832, 1993.3585504342016, 1994.5150300601201, 1995.6715096860387, 1996.827989311957, 1997.9844689378756, 1999.1409485637942, 2000.2974281897127, 2001.453907815631, 2002.6103874415496, 2003.7668670674682, 2004.9233466933865, 2006.079826319305, 2007.2363059452236, 2008.3927855711422, 2009.5492651970608, 2010.705744822979, 2011.8622244488977, 2013.0187040748162, 2014.1751837007346, 2015.3316633266531, 2016.4881429525717, 2017.6446225784903, 2018.8011022044086, 2019.9575818303272, 2021.1140614562457, 2022.270541082164, 2023.4270207080826, 2024.5835003340012, 2025.7399799599198, 2026.8964595858383, 2028.0529392117567, 2029.2094188376752, 2030.3658984635938, 2031.5223780895121, 2032.6788577154307, 2033.8353373413493, 2034.9918169672678, 2036.1482965931862, 2037.3047762191047, 2038.4612558450233, 2039.6177354709416, 2040.7742150968602, 2041.9306947227788, 2043.0871743486973, 2044.2436539746159, 2045.4001336005342, 2046.5566132264528, 2047.7130928523713, 2048.8695724782897, 2050.0260521042082, 2051.182531730127, 2052.3390113560454, 2053.495490981964, 2054.6519706078825, 2055.8084502338006, 2056.964929859719, 2058.1214094856377, 2059.2778891115563, 2060.434368737475, 2061.5908483633934, 2062.747327989312, 2063.90380761523, 2065.0602872411487, 2066.2167668670672, 2067.373246492986, 2068.5297261189044, 2069.686205744823, 2070.8426853707415, 2071.9991649966596, 2073.155644622578, 2074.3121242484967, 2075.4686038744153, 2076.625083500334, 2077.7815631262524, 2078.938042752171, 2080.0945223780896, 2081.251002004008, 2082.407481629926, 2083.563961255845, 2084.7204408817634, 2085.876920507682, 2087.0334001336005, 2088.189879759519, 2089.3463593854376, 2090.5028390113557, 2091.6593186372743, 2092.815798263193, 2093.9722778891114, 2095.12875751503, 2096.2852371409485, 2097.441716766867, 2098.598196392785, 2099.754676018704, 2100.9111556446223, 2102.067635270541, 2103.2241148964595, 2104.380594522378, 2105.5370741482966, 2106.6935537742147, 2107.8500334001337, 2109.006513026052, 2110.1629926519704, 2111.319472277889, 2112.4759519038075, 2113.632431529726, 2114.7889111556447, 2115.945390781563, 2117.1018704074813, 2118.2583500334, 2119.4148296593185, 2120.571309285237, 2121.7277889111556, 2122.884268537074, 2124.0407481629927, 2125.197227788911, 2126.3537074148294, 2127.510187040748, 2128.6666666666665])\n",
       "              .range([&#x27;#f1eef6ff&#x27;, &#x27;#f1eef6ff&#x27;, &#x27;#f1eef6ff&#x27;, &#x27;#f1eef6ff&#x27;, &#x27;#f1eef6ff&#x27;, &#x27;#f1eef6ff&#x27;, &#x27;#f1eef6ff&#x27;, &#x27;#f1eef6ff&#x27;, &#x27;#f1eef6ff&#x27;, &#x27;#f1eef6ff&#x27;, &#x27;#f1eef6ff&#x27;, &#x27;#f1eef6ff&#x27;, &#x27;#f1eef6ff&#x27;, &#x27;#f1eef6ff&#x27;, &#x27;#f1eef6ff&#x27;, &#x27;#f1eef6ff&#x27;, &#x27;#f1eef6ff&#x27;, &#x27;#f1eef6ff&#x27;, &#x27;#f1eef6ff&#x27;, &#x27;#f1eef6ff&#x27;, &#x27;#f1eef6ff&#x27;, &#x27;#f1eef6ff&#x27;, &#x27;#f1eef6ff&#x27;, &#x27;#f1eef6ff&#x27;, &#x27;#f1eef6ff&#x27;, &#x27;#f1eef6ff&#x27;, &#x27;#f1eef6ff&#x27;, &#x27;#f1eef6ff&#x27;, &#x27;#f1eef6ff&#x27;, &#x27;#f1eef6ff&#x27;, &#x27;#f1eef6ff&#x27;, &#x27;#f1eef6ff&#x27;, &#x27;#f1eef6ff&#x27;, &#x27;#f1eef6ff&#x27;, &#x27;#f1eef6ff&#x27;, &#x27;#f1eef6ff&#x27;, &#x27;#f1eef6ff&#x27;, &#x27;#f1eef6ff&#x27;, &#x27;#f1eef6ff&#x27;, &#x27;#f1eef6ff&#x27;, &#x27;#f1eef6ff&#x27;, &#x27;#f1eef6ff&#x27;, &#x27;#f1eef6ff&#x27;, &#x27;#f1eef6ff&#x27;, &#x27;#f1eef6ff&#x27;, &#x27;#f1eef6ff&#x27;, &#x27;#f1eef6ff&#x27;, &#x27;#f1eef6ff&#x27;, &#x27;#f1eef6ff&#x27;, &#x27;#f1eef6ff&#x27;, &#x27;#f1eef6ff&#x27;, &#x27;#f1eef6ff&#x27;, &#x27;#f1eef6ff&#x27;, &#x27;#f1eef6ff&#x27;, &#x27;#f1eef6ff&#x27;, &#x27;#f1eef6ff&#x27;, &#x27;#f1eef6ff&#x27;, &#x27;#f1eef6ff&#x27;, &#x27;#f1eef6ff&#x27;, &#x27;#f1eef6ff&#x27;, &#x27;#f1eef6ff&#x27;, &#x27;#f1eef6ff&#x27;, &#x27;#f1eef6ff&#x27;, &#x27;#f1eef6ff&#x27;, &#x27;#f1eef6ff&#x27;, &#x27;#f1eef6ff&#x27;, &#x27;#f1eef6ff&#x27;, &#x27;#f1eef6ff&#x27;, &#x27;#f1eef6ff&#x27;, &#x27;#f1eef6ff&#x27;, &#x27;#f1eef6ff&#x27;, &#x27;#f1eef6ff&#x27;, &#x27;#f1eef6ff&#x27;, &#x27;#f1eef6ff&#x27;, &#x27;#f1eef6ff&#x27;, &#x27;#f1eef6ff&#x27;, &#x27;#f1eef6ff&#x27;, &#x27;#f1eef6ff&#x27;, &#x27;#f1eef6ff&#x27;, &#x27;#f1eef6ff&#x27;, &#x27;#f1eef6ff&#x27;, &#x27;#f1eef6ff&#x27;, &#x27;#f1eef6ff&#x27;, &#x27;#f1eef6ff&#x27;, &#x27;#d4b9daff&#x27;, &#x27;#d4b9daff&#x27;, &#x27;#d4b9daff&#x27;, &#x27;#d4b9daff&#x27;, &#x27;#d4b9daff&#x27;, &#x27;#d4b9daff&#x27;, &#x27;#d4b9daff&#x27;, &#x27;#d4b9daff&#x27;, &#x27;#d4b9daff&#x27;, &#x27;#d4b9daff&#x27;, &#x27;#d4b9daff&#x27;, &#x27;#d4b9daff&#x27;, &#x27;#d4b9daff&#x27;, &#x27;#d4b9daff&#x27;, &#x27;#d4b9daff&#x27;, &#x27;#d4b9daff&#x27;, &#x27;#d4b9daff&#x27;, &#x27;#d4b9daff&#x27;, &#x27;#d4b9daff&#x27;, &#x27;#d4b9daff&#x27;, &#x27;#d4b9daff&#x27;, &#x27;#d4b9daff&#x27;, &#x27;#d4b9daff&#x27;, &#x27;#d4b9daff&#x27;, &#x27;#d4b9daff&#x27;, &#x27;#d4b9daff&#x27;, &#x27;#d4b9daff&#x27;, &#x27;#d4b9daff&#x27;, &#x27;#d4b9daff&#x27;, &#x27;#d4b9daff&#x27;, &#x27;#d4b9daff&#x27;, &#x27;#d4b9daff&#x27;, &#x27;#d4b9daff&#x27;, &#x27;#d4b9daff&#x27;, &#x27;#d4b9daff&#x27;, &#x27;#d4b9daff&#x27;, &#x27;#d4b9daff&#x27;, &#x27;#d4b9daff&#x27;, &#x27;#d4b9daff&#x27;, &#x27;#d4b9daff&#x27;, &#x27;#d4b9daff&#x27;, &#x27;#d4b9daff&#x27;, &#x27;#d4b9daff&#x27;, &#x27;#d4b9daff&#x27;, &#x27;#d4b9daff&#x27;, &#x27;#d4b9daff&#x27;, &#x27;#d4b9daff&#x27;, &#x27;#d4b9daff&#x27;, &#x27;#d4b9daff&#x27;, &#x27;#d4b9daff&#x27;, &#x27;#d4b9daff&#x27;, &#x27;#d4b9daff&#x27;, &#x27;#d4b9daff&#x27;, &#x27;#d4b9daff&#x27;, &#x27;#d4b9daff&#x27;, &#x27;#d4b9daff&#x27;, &#x27;#d4b9daff&#x27;, &#x27;#d4b9daff&#x27;, &#x27;#d4b9daff&#x27;, &#x27;#d4b9daff&#x27;, &#x27;#d4b9daff&#x27;, &#x27;#d4b9daff&#x27;, &#x27;#d4b9daff&#x27;, &#x27;#d4b9daff&#x27;, &#x27;#d4b9daff&#x27;, &#x27;#d4b9daff&#x27;, &#x27;#d4b9daff&#x27;, &#x27;#d4b9daff&#x27;, &#x27;#d4b9daff&#x27;, &#x27;#d4b9daff&#x27;, &#x27;#d4b9daff&#x27;, &#x27;#d4b9daff&#x27;, &#x27;#d4b9daff&#x27;, &#x27;#d4b9daff&#x27;, &#x27;#d4b9daff&#x27;, &#x27;#d4b9daff&#x27;, &#x27;#d4b9daff&#x27;, &#x27;#d4b9daff&#x27;, &#x27;#d4b9daff&#x27;, &#x27;#d4b9daff&#x27;, &#x27;#d4b9daff&#x27;, &#x27;#d4b9daff&#x27;, &#x27;#d4b9daff&#x27;, &#x27;#c994c7ff&#x27;, &#x27;#c994c7ff&#x27;, &#x27;#c994c7ff&#x27;, &#x27;#c994c7ff&#x27;, &#x27;#c994c7ff&#x27;, &#x27;#c994c7ff&#x27;, &#x27;#c994c7ff&#x27;, &#x27;#c994c7ff&#x27;, &#x27;#c994c7ff&#x27;, &#x27;#c994c7ff&#x27;, &#x27;#c994c7ff&#x27;, &#x27;#c994c7ff&#x27;, &#x27;#c994c7ff&#x27;, &#x27;#c994c7ff&#x27;, &#x27;#c994c7ff&#x27;, &#x27;#c994c7ff&#x27;, &#x27;#c994c7ff&#x27;, &#x27;#c994c7ff&#x27;, &#x27;#c994c7ff&#x27;, &#x27;#c994c7ff&#x27;, &#x27;#c994c7ff&#x27;, &#x27;#c994c7ff&#x27;, &#x27;#c994c7ff&#x27;, &#x27;#c994c7ff&#x27;, &#x27;#c994c7ff&#x27;, &#x27;#c994c7ff&#x27;, &#x27;#c994c7ff&#x27;, &#x27;#c994c7ff&#x27;, &#x27;#c994c7ff&#x27;, &#x27;#c994c7ff&#x27;, &#x27;#c994c7ff&#x27;, &#x27;#c994c7ff&#x27;, &#x27;#c994c7ff&#x27;, &#x27;#c994c7ff&#x27;, &#x27;#c994c7ff&#x27;, &#x27;#c994c7ff&#x27;, &#x27;#c994c7ff&#x27;, &#x27;#c994c7ff&#x27;, &#x27;#c994c7ff&#x27;, &#x27;#c994c7ff&#x27;, &#x27;#c994c7ff&#x27;, &#x27;#c994c7ff&#x27;, &#x27;#c994c7ff&#x27;, &#x27;#c994c7ff&#x27;, &#x27;#c994c7ff&#x27;, &#x27;#c994c7ff&#x27;, &#x27;#c994c7ff&#x27;, &#x27;#c994c7ff&#x27;, &#x27;#c994c7ff&#x27;, &#x27;#c994c7ff&#x27;, &#x27;#c994c7ff&#x27;, &#x27;#c994c7ff&#x27;, &#x27;#c994c7ff&#x27;, &#x27;#c994c7ff&#x27;, &#x27;#c994c7ff&#x27;, &#x27;#c994c7ff&#x27;, &#x27;#c994c7ff&#x27;, &#x27;#c994c7ff&#x27;, &#x27;#c994c7ff&#x27;, &#x27;#c994c7ff&#x27;, &#x27;#c994c7ff&#x27;, &#x27;#c994c7ff&#x27;, &#x27;#c994c7ff&#x27;, &#x27;#c994c7ff&#x27;, &#x27;#c994c7ff&#x27;, &#x27;#c994c7ff&#x27;, &#x27;#c994c7ff&#x27;, &#x27;#c994c7ff&#x27;, &#x27;#c994c7ff&#x27;, &#x27;#c994c7ff&#x27;, &#x27;#c994c7ff&#x27;, &#x27;#c994c7ff&#x27;, &#x27;#c994c7ff&#x27;, &#x27;#c994c7ff&#x27;, &#x27;#c994c7ff&#x27;, &#x27;#c994c7ff&#x27;, &#x27;#c994c7ff&#x27;, &#x27;#c994c7ff&#x27;, &#x27;#c994c7ff&#x27;, &#x27;#c994c7ff&#x27;, &#x27;#c994c7ff&#x27;, &#x27;#c994c7ff&#x27;, &#x27;#c994c7ff&#x27;, &#x27;#df65b0ff&#x27;, &#x27;#df65b0ff&#x27;, &#x27;#df65b0ff&#x27;, &#x27;#df65b0ff&#x27;, &#x27;#df65b0ff&#x27;, &#x27;#df65b0ff&#x27;, &#x27;#df65b0ff&#x27;, &#x27;#df65b0ff&#x27;, &#x27;#df65b0ff&#x27;, &#x27;#df65b0ff&#x27;, &#x27;#df65b0ff&#x27;, &#x27;#df65b0ff&#x27;, &#x27;#df65b0ff&#x27;, &#x27;#df65b0ff&#x27;, &#x27;#df65b0ff&#x27;, &#x27;#df65b0ff&#x27;, &#x27;#df65b0ff&#x27;, &#x27;#df65b0ff&#x27;, &#x27;#df65b0ff&#x27;, &#x27;#df65b0ff&#x27;, &#x27;#df65b0ff&#x27;, &#x27;#df65b0ff&#x27;, &#x27;#df65b0ff&#x27;, &#x27;#df65b0ff&#x27;, &#x27;#df65b0ff&#x27;, &#x27;#df65b0ff&#x27;, &#x27;#df65b0ff&#x27;, &#x27;#df65b0ff&#x27;, &#x27;#df65b0ff&#x27;, &#x27;#df65b0ff&#x27;, &#x27;#df65b0ff&#x27;, &#x27;#df65b0ff&#x27;, &#x27;#df65b0ff&#x27;, &#x27;#df65b0ff&#x27;, &#x27;#df65b0ff&#x27;, &#x27;#df65b0ff&#x27;, &#x27;#df65b0ff&#x27;, &#x27;#df65b0ff&#x27;, &#x27;#df65b0ff&#x27;, &#x27;#df65b0ff&#x27;, &#x27;#df65b0ff&#x27;, &#x27;#df65b0ff&#x27;, &#x27;#df65b0ff&#x27;, &#x27;#df65b0ff&#x27;, &#x27;#df65b0ff&#x27;, &#x27;#df65b0ff&#x27;, &#x27;#df65b0ff&#x27;, &#x27;#df65b0ff&#x27;, &#x27;#df65b0ff&#x27;, &#x27;#df65b0ff&#x27;, &#x27;#df65b0ff&#x27;, &#x27;#df65b0ff&#x27;, &#x27;#df65b0ff&#x27;, &#x27;#df65b0ff&#x27;, &#x27;#df65b0ff&#x27;, &#x27;#df65b0ff&#x27;, &#x27;#df65b0ff&#x27;, &#x27;#df65b0ff&#x27;, &#x27;#df65b0ff&#x27;, &#x27;#df65b0ff&#x27;, &#x27;#df65b0ff&#x27;, &#x27;#df65b0ff&#x27;, &#x27;#df65b0ff&#x27;, &#x27;#df65b0ff&#x27;, &#x27;#df65b0ff&#x27;, &#x27;#df65b0ff&#x27;, &#x27;#df65b0ff&#x27;, &#x27;#df65b0ff&#x27;, &#x27;#df65b0ff&#x27;, &#x27;#df65b0ff&#x27;, &#x27;#df65b0ff&#x27;, &#x27;#df65b0ff&#x27;, &#x27;#df65b0ff&#x27;, &#x27;#df65b0ff&#x27;, &#x27;#df65b0ff&#x27;, &#x27;#df65b0ff&#x27;, &#x27;#df65b0ff&#x27;, &#x27;#df65b0ff&#x27;, &#x27;#df65b0ff&#x27;, &#x27;#df65b0ff&#x27;, &#x27;#df65b0ff&#x27;, &#x27;#df65b0ff&#x27;, &#x27;#df65b0ff&#x27;, &#x27;#dd1c77ff&#x27;, &#x27;#dd1c77ff&#x27;, &#x27;#dd1c77ff&#x27;, &#x27;#dd1c77ff&#x27;, &#x27;#dd1c77ff&#x27;, &#x27;#dd1c77ff&#x27;, &#x27;#dd1c77ff&#x27;, &#x27;#dd1c77ff&#x27;, &#x27;#dd1c77ff&#x27;, &#x27;#dd1c77ff&#x27;, &#x27;#dd1c77ff&#x27;, &#x27;#dd1c77ff&#x27;, &#x27;#dd1c77ff&#x27;, &#x27;#dd1c77ff&#x27;, &#x27;#dd1c77ff&#x27;, &#x27;#dd1c77ff&#x27;, &#x27;#dd1c77ff&#x27;, &#x27;#dd1c77ff&#x27;, &#x27;#dd1c77ff&#x27;, &#x27;#dd1c77ff&#x27;, &#x27;#dd1c77ff&#x27;, &#x27;#dd1c77ff&#x27;, &#x27;#dd1c77ff&#x27;, &#x27;#dd1c77ff&#x27;, &#x27;#dd1c77ff&#x27;, &#x27;#dd1c77ff&#x27;, &#x27;#dd1c77ff&#x27;, &#x27;#dd1c77ff&#x27;, &#x27;#dd1c77ff&#x27;, &#x27;#dd1c77ff&#x27;, &#x27;#dd1c77ff&#x27;, &#x27;#dd1c77ff&#x27;, &#x27;#dd1c77ff&#x27;, &#x27;#dd1c77ff&#x27;, &#x27;#dd1c77ff&#x27;, &#x27;#dd1c77ff&#x27;, &#x27;#dd1c77ff&#x27;, &#x27;#dd1c77ff&#x27;, &#x27;#dd1c77ff&#x27;, &#x27;#dd1c77ff&#x27;, &#x27;#dd1c77ff&#x27;, &#x27;#dd1c77ff&#x27;, &#x27;#dd1c77ff&#x27;, &#x27;#dd1c77ff&#x27;, &#x27;#dd1c77ff&#x27;, &#x27;#dd1c77ff&#x27;, &#x27;#dd1c77ff&#x27;, &#x27;#dd1c77ff&#x27;, &#x27;#dd1c77ff&#x27;, &#x27;#dd1c77ff&#x27;, &#x27;#dd1c77ff&#x27;, &#x27;#dd1c77ff&#x27;, &#x27;#dd1c77ff&#x27;, &#x27;#dd1c77ff&#x27;, &#x27;#dd1c77ff&#x27;, &#x27;#dd1c77ff&#x27;, &#x27;#dd1c77ff&#x27;, &#x27;#dd1c77ff&#x27;, &#x27;#dd1c77ff&#x27;, &#x27;#dd1c77ff&#x27;, &#x27;#dd1c77ff&#x27;, &#x27;#dd1c77ff&#x27;, &#x27;#dd1c77ff&#x27;, &#x27;#dd1c77ff&#x27;, &#x27;#dd1c77ff&#x27;, &#x27;#dd1c77ff&#x27;, &#x27;#dd1c77ff&#x27;, &#x27;#dd1c77ff&#x27;, &#x27;#dd1c77ff&#x27;, &#x27;#dd1c77ff&#x27;, &#x27;#dd1c77ff&#x27;, &#x27;#dd1c77ff&#x27;, &#x27;#dd1c77ff&#x27;, &#x27;#dd1c77ff&#x27;, &#x27;#dd1c77ff&#x27;, &#x27;#dd1c77ff&#x27;, &#x27;#dd1c77ff&#x27;, &#x27;#dd1c77ff&#x27;, &#x27;#dd1c77ff&#x27;, &#x27;#dd1c77ff&#x27;, &#x27;#dd1c77ff&#x27;, &#x27;#dd1c77ff&#x27;, &#x27;#dd1c77ff&#x27;, &#x27;#980043ff&#x27;, &#x27;#980043ff&#x27;, &#x27;#980043ff&#x27;, &#x27;#980043ff&#x27;, &#x27;#980043ff&#x27;, &#x27;#980043ff&#x27;, &#x27;#980043ff&#x27;, &#x27;#980043ff&#x27;, &#x27;#980043ff&#x27;, &#x27;#980043ff&#x27;, &#x27;#980043ff&#x27;, &#x27;#980043ff&#x27;, &#x27;#980043ff&#x27;, &#x27;#980043ff&#x27;, &#x27;#980043ff&#x27;, &#x27;#980043ff&#x27;, &#x27;#980043ff&#x27;, &#x27;#980043ff&#x27;, &#x27;#980043ff&#x27;, &#x27;#980043ff&#x27;, &#x27;#980043ff&#x27;, &#x27;#980043ff&#x27;, &#x27;#980043ff&#x27;, &#x27;#980043ff&#x27;, &#x27;#980043ff&#x27;, &#x27;#980043ff&#x27;, &#x27;#980043ff&#x27;, &#x27;#980043ff&#x27;, &#x27;#980043ff&#x27;, &#x27;#980043ff&#x27;, &#x27;#980043ff&#x27;, &#x27;#980043ff&#x27;, &#x27;#980043ff&#x27;, &#x27;#980043ff&#x27;, &#x27;#980043ff&#x27;, &#x27;#980043ff&#x27;, &#x27;#980043ff&#x27;, &#x27;#980043ff&#x27;, &#x27;#980043ff&#x27;, &#x27;#980043ff&#x27;, &#x27;#980043ff&#x27;, &#x27;#980043ff&#x27;, &#x27;#980043ff&#x27;, &#x27;#980043ff&#x27;, &#x27;#980043ff&#x27;, &#x27;#980043ff&#x27;, &#x27;#980043ff&#x27;, &#x27;#980043ff&#x27;, &#x27;#980043ff&#x27;, &#x27;#980043ff&#x27;, &#x27;#980043ff&#x27;, &#x27;#980043ff&#x27;, &#x27;#980043ff&#x27;, &#x27;#980043ff&#x27;, &#x27;#980043ff&#x27;, &#x27;#980043ff&#x27;, &#x27;#980043ff&#x27;, &#x27;#980043ff&#x27;, &#x27;#980043ff&#x27;, &#x27;#980043ff&#x27;, &#x27;#980043ff&#x27;, &#x27;#980043ff&#x27;, &#x27;#980043ff&#x27;, &#x27;#980043ff&#x27;, &#x27;#980043ff&#x27;, &#x27;#980043ff&#x27;, &#x27;#980043ff&#x27;, &#x27;#980043ff&#x27;, &#x27;#980043ff&#x27;, &#x27;#980043ff&#x27;, &#x27;#980043ff&#x27;, &#x27;#980043ff&#x27;, &#x27;#980043ff&#x27;, &#x27;#980043ff&#x27;, &#x27;#980043ff&#x27;, &#x27;#980043ff&#x27;, &#x27;#980043ff&#x27;, &#x27;#980043ff&#x27;, &#x27;#980043ff&#x27;, &#x27;#980043ff&#x27;, &#x27;#980043ff&#x27;, &#x27;#980043ff&#x27;, &#x27;#980043ff&#x27;, &#x27;#980043ff&#x27;]);\n",
       "    \n",
       "\n",
       "    color_map_f9f606260a666d1cae32e506bc651f08.x = d3.scale.linear()\n",
       "              .domain([1551.5833333333333, 2128.6666666666665])\n",
       "              .range([0, 450 - 50]);\n",
       "\n",
       "    color_map_f9f606260a666d1cae32e506bc651f08.legend = L.control({position: &#x27;topright&#x27;});\n",
       "    color_map_f9f606260a666d1cae32e506bc651f08.legend.onAdd = function (map) {var div = L.DomUtil.create(&#x27;div&#x27;, &#x27;legend&#x27;); return div};\n",
       "    color_map_f9f606260a666d1cae32e506bc651f08.legend.addTo(map_6a8498e5fae92da3f676bd0a34ecac0e);\n",
       "\n",
       "    color_map_f9f606260a666d1cae32e506bc651f08.xAxis = d3.svg.axis()\n",
       "        .scale(color_map_f9f606260a666d1cae32e506bc651f08.x)\n",
       "        .orient(&quot;top&quot;)\n",
       "        .tickSize(1)\n",
       "        .tickValues([1551.5833333333333, 1647.7638888888887, 1743.9444444444443, 1840.125, 1936.3055555555554, 2032.4861111111109, 2128.6666666666665]);\n",
       "\n",
       "    color_map_f9f606260a666d1cae32e506bc651f08.svg = d3.select(&quot;.legend.leaflet-control&quot;).append(&quot;svg&quot;)\n",
       "        .attr(&quot;id&quot;, &#x27;legend&#x27;)\n",
       "        .attr(&quot;width&quot;, 450)\n",
       "        .attr(&quot;height&quot;, 40);\n",
       "\n",
       "    color_map_f9f606260a666d1cae32e506bc651f08.g = color_map_f9f606260a666d1cae32e506bc651f08.svg.append(&quot;g&quot;)\n",
       "        .attr(&quot;class&quot;, &quot;key&quot;)\n",
       "        .attr(&quot;transform&quot;, &quot;translate(25,16)&quot;);\n",
       "\n",
       "    color_map_f9f606260a666d1cae32e506bc651f08.g.selectAll(&quot;rect&quot;)\n",
       "        .data(color_map_f9f606260a666d1cae32e506bc651f08.color.range().map(function(d, i) {\n",
       "          return {\n",
       "            x0: i ? color_map_f9f606260a666d1cae32e506bc651f08.x(color_map_f9f606260a666d1cae32e506bc651f08.color.domain()[i - 1]) : color_map_f9f606260a666d1cae32e506bc651f08.x.range()[0],\n",
       "            x1: i &lt; color_map_f9f606260a666d1cae32e506bc651f08.color.domain().length ? color_map_f9f606260a666d1cae32e506bc651f08.x(color_map_f9f606260a666d1cae32e506bc651f08.color.domain()[i]) : color_map_f9f606260a666d1cae32e506bc651f08.x.range()[1],\n",
       "            z: d\n",
       "          };\n",
       "        }))\n",
       "      .enter().append(&quot;rect&quot;)\n",
       "        .attr(&quot;height&quot;, 40 - 30)\n",
       "        .attr(&quot;x&quot;, function(d) { return d.x0; })\n",
       "        .attr(&quot;width&quot;, function(d) { return d.x1 - d.x0; })\n",
       "        .style(&quot;fill&quot;, function(d) { return d.z; });\n",
       "\n",
       "    color_map_f9f606260a666d1cae32e506bc651f08.g.call(color_map_f9f606260a666d1cae32e506bc651f08.xAxis).append(&quot;text&quot;)\n",
       "        .attr(&quot;class&quot;, &quot;caption&quot;)\n",
       "        .attr(&quot;y&quot;, 21)\n",
       "        .text(&quot;&quot;);\n",
       "&lt;/script&gt;\n",
       "&lt;/html&gt;\" style=\"position:absolute;width:100%;height:100%;left:0;top:0;border:none !important;\" allowfullscreen webkitallowfullscreen mozallowfullscreen></iframe></div></div>"
      ],
      "text/plain": [
       "<folium.folium.Map at 0x231916d6c40>"
      ]
     },
     "execution_count": 238,
     "metadata": {},
     "output_type": "execute_result"
    }
   ],
   "source": [
    "geo_path = \"../data/02. skorea_municipalities_geo_simple.json\"\n",
    "geo_str = json.load(open(geo_path, encoding='utf-8'))\n",
    "\n",
    "my_map = folium.Map(location=[37.5502, 126.982], zoom_start=10.5)\n",
    "my_map.choropleth( # 지도에 색상 표시\n",
    "    geo_data = geo_str, # json 파일\n",
    "    data = gu_data, # 데이터프레임\n",
    "    columns = [gu_data.index, '가격'], # 컬럼명\n",
    "    key_on = 'feature.id', # json 파일의 id\n",
    "    fill_color = 'PuRd' # 색상\n",
    ")\n",
    "my_map"
   ]
  },
  {
   "cell_type": "code",
   "execution_count": null,
   "metadata": {},
   "outputs": [],
   "source": []
  }
 ],
 "metadata": {
  "kernelspec": {
   "display_name": "ds_study",
   "language": "python",
   "name": "python3"
  },
  "language_info": {
   "codemirror_mode": {
    "name": "ipython",
    "version": 3
   },
   "file_extension": ".py",
   "mimetype": "text/x-python",
   "name": "python",
   "nbconvert_exporter": "python",
   "pygments_lexer": "ipython3",
   "version": "3.8.18"
  }
 },
 "nbformat": 4,
 "nbformat_minor": 2
}
