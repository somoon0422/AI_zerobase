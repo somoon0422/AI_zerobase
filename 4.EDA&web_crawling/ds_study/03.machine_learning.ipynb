{
 "cells": [
  {
   "cell_type": "code",
   "execution_count": 1,
   "metadata": {},
   "outputs": [
    {
     "name": "stdout",
     "output_type": "stream",
     "text": [
      "Collecting plotly_express\n",
      "  Downloading plotly_express-0.4.1-py2.py3-none-any.whl (2.9 kB)\n",
      "Requirement already satisfied: pandas>=0.20.0 in c:\\users\\kimsh-dt01\\miniconda3\\envs\\ds_study\\lib\\site-packages (from plotly_express) (2.0.3)\n",
      "Collecting plotly>=4.1.0 (from plotly_express)\n",
      "  Downloading plotly-5.18.0-py3-none-any.whl.metadata (7.0 kB)\n",
      "Collecting statsmodels>=0.9.0 (from plotly_express)\n",
      "  Downloading statsmodels-0.14.1-cp38-cp38-win_amd64.whl.metadata (9.8 kB)\n",
      "Requirement already satisfied: scipy>=0.18 in c:\\users\\kimsh-dt01\\miniconda3\\envs\\ds_study\\lib\\site-packages (from plotly_express) (1.10.1)\n",
      "Collecting patsy>=0.5 (from plotly_express)\n",
      "  Downloading patsy-0.5.6-py2.py3-none-any.whl.metadata (3.5 kB)\n",
      "Requirement already satisfied: numpy>=1.11 in c:\\users\\kimsh-dt01\\miniconda3\\envs\\ds_study\\lib\\site-packages (from plotly_express) (1.24.3)\n",
      "Requirement already satisfied: python-dateutil>=2.8.2 in c:\\users\\kimsh-dt01\\miniconda3\\envs\\ds_study\\lib\\site-packages (from pandas>=0.20.0->plotly_express) (2.8.2)\n",
      "Requirement already satisfied: pytz>=2020.1 in c:\\users\\kimsh-dt01\\miniconda3\\envs\\ds_study\\lib\\site-packages (from pandas>=0.20.0->plotly_express) (2023.3.post1)\n",
      "Requirement already satisfied: tzdata>=2022.1 in c:\\users\\kimsh-dt01\\miniconda3\\envs\\ds_study\\lib\\site-packages (from pandas>=0.20.0->plotly_express) (2023.3)\n",
      "Requirement already satisfied: six in c:\\users\\kimsh-dt01\\miniconda3\\envs\\ds_study\\lib\\site-packages (from patsy>=0.5->plotly_express) (1.16.0)\n",
      "Collecting tenacity>=6.2.0 (from plotly>=4.1.0->plotly_express)\n",
      "  Downloading tenacity-8.2.3-py3-none-any.whl.metadata (1.0 kB)\n",
      "Requirement already satisfied: packaging in c:\\users\\kimsh-dt01\\miniconda3\\envs\\ds_study\\lib\\site-packages (from plotly>=4.1.0->plotly_express) (23.1)\n",
      "Downloading patsy-0.5.6-py2.py3-none-any.whl (233 kB)\n",
      "   ---------------------------------------- 0.0/233.9 kB ? eta -:--:--\n",
      "   ------ -------------------------------- 41.0/233.9 kB 653.6 kB/s eta 0:00:01\n",
      "   ---------------------------- ----------- 163.8/233.9 kB 1.6 MB/s eta 0:00:01\n",
      "   ---------------------------------------- 233.9/233.9 kB 2.0 MB/s eta 0:00:00\n",
      "Downloading plotly-5.18.0-py3-none-any.whl (15.6 MB)\n",
      "   ---------------------------------------- 0.0/15.6 MB ? eta -:--:--\n",
      "    --------------------------------------- 0.3/15.6 MB 8.9 MB/s eta 0:00:02\n",
      "   -- ------------------------------------- 1.0/15.6 MB 11.0 MB/s eta 0:00:02\n",
      "   ----- ---------------------------------- 2.2/15.6 MB 15.6 MB/s eta 0:00:01\n",
      "   ----------- ---------------------------- 4.7/15.6 MB 25.0 MB/s eta 0:00:01\n",
      "   --------------- ------------------------ 6.2/15.6 MB 30.7 MB/s eta 0:00:01\n",
      "   --------------- ------------------------ 6.2/15.6 MB 30.7 MB/s eta 0:00:01\n",
      "   ---------------- ----------------------- 6.3/15.6 MB 21.3 MB/s eta 0:00:01\n",
      "   ----------------- ---------------------- 6.7/15.6 MB 17.8 MB/s eta 0:00:01\n",
      "   ----------------- ---------------------- 6.9/15.6 MB 16.9 MB/s eta 0:00:01\n",
      "   ------------------ --------------------- 7.1/15.6 MB 15.6 MB/s eta 0:00:01\n",
      "   ------------------ --------------------- 7.3/15.6 MB 15.1 MB/s eta 0:00:01\n",
      "   -------------------- ------------------- 8.0/15.6 MB 14.2 MB/s eta 0:00:01\n",
      "   --------------------- ------------------ 8.4/15.6 MB 14.1 MB/s eta 0:00:01\n",
      "   ---------------------- ----------------- 8.9/15.6 MB 13.8 MB/s eta 0:00:01\n",
      "   ------------------------ --------------- 9.5/15.6 MB 13.4 MB/s eta 0:00:01\n",
      "   -------------------------- ------------- 10.5/15.6 MB 13.9 MB/s eta 0:00:01\n",
      "   ------------------------------ --------- 11.8/15.6 MB 15.2 MB/s eta 0:00:01\n",
      "   -------------------------------- ------- 12.6/15.6 MB 15.2 MB/s eta 0:00:01\n",
      "   --------------------------------- ------ 13.1/15.6 MB 14.2 MB/s eta 0:00:01\n",
      "   -------------------------------------- - 15.1/15.6 MB 13.6 MB/s eta 0:00:01\n",
      "   ---------------------------------------- 15.6/15.6 MB 13.6 MB/s eta 0:00:00\n",
      "Downloading statsmodels-0.14.1-cp38-cp38-win_amd64.whl (10.0 MB)\n",
      "   ---------------------------------------- 0.0/10.0 MB ? eta -:--:--\n",
      "   -------------- ------------------------- 3.6/10.0 MB 77.3 MB/s eta 0:00:01\n",
      "   -------------------------- ------------- 6.5/10.0 MB 70.1 MB/s eta 0:00:01\n",
      "   -------------------------- ------------- 6.7/10.0 MB 48.1 MB/s eta 0:00:01\n",
      "   ---------------------------------------  10.0/10.0 MB 58.2 MB/s eta 0:00:01\n",
      "   ---------------------------------------- 10.0/10.0 MB 53.6 MB/s eta 0:00:00\n",
      "Downloading tenacity-8.2.3-py3-none-any.whl (24 kB)\n",
      "Installing collected packages: tenacity, patsy, plotly, statsmodels, plotly_express\n",
      "Successfully installed patsy-0.5.6 plotly-5.18.0 plotly_express-0.4.1 statsmodels-0.14.1 tenacity-8.2.3\n",
      "Note: you may need to restart the kernel to use updated packages.\n"
     ]
    }
   ],
   "source": [
    "pip install plotly_express"
   ]
  },
  {
   "cell_type": "code",
   "execution_count": 3,
   "metadata": {},
   "outputs": [
    {
     "data": {
      "text/html": [
       "<div>\n",
       "<style scoped>\n",
       "    .dataframe tbody tr th:only-of-type {\n",
       "        vertical-align: middle;\n",
       "    }\n",
       "\n",
       "    .dataframe tbody tr th {\n",
       "        vertical-align: top;\n",
       "    }\n",
       "\n",
       "    .dataframe thead th {\n",
       "        text-align: right;\n",
       "    }\n",
       "</style>\n",
       "<table border=\"1\" class=\"dataframe\">\n",
       "  <thead>\n",
       "    <tr style=\"text-align: right;\">\n",
       "      <th></th>\n",
       "      <th>pclass</th>\n",
       "      <th>survived</th>\n",
       "      <th>name</th>\n",
       "      <th>sex</th>\n",
       "      <th>age</th>\n",
       "      <th>sibsp</th>\n",
       "      <th>parch</th>\n",
       "      <th>ticket</th>\n",
       "      <th>fare</th>\n",
       "      <th>cabin</th>\n",
       "      <th>embarked</th>\n",
       "      <th>boat</th>\n",
       "      <th>body</th>\n",
       "      <th>home.dest</th>\n",
       "    </tr>\n",
       "  </thead>\n",
       "  <tbody>\n",
       "    <tr>\n",
       "      <th>0</th>\n",
       "      <td>1</td>\n",
       "      <td>1</td>\n",
       "      <td>Allen, Miss. Elisabeth Walton</td>\n",
       "      <td>female</td>\n",
       "      <td>29.0000</td>\n",
       "      <td>0</td>\n",
       "      <td>0</td>\n",
       "      <td>24160</td>\n",
       "      <td>211.3375</td>\n",
       "      <td>B5</td>\n",
       "      <td>S</td>\n",
       "      <td>2</td>\n",
       "      <td>NaN</td>\n",
       "      <td>St Louis, MO</td>\n",
       "    </tr>\n",
       "    <tr>\n",
       "      <th>1</th>\n",
       "      <td>1</td>\n",
       "      <td>1</td>\n",
       "      <td>Allison, Master. Hudson Trevor</td>\n",
       "      <td>male</td>\n",
       "      <td>0.9167</td>\n",
       "      <td>1</td>\n",
       "      <td>2</td>\n",
       "      <td>113781</td>\n",
       "      <td>151.5500</td>\n",
       "      <td>C22 C26</td>\n",
       "      <td>S</td>\n",
       "      <td>11</td>\n",
       "      <td>NaN</td>\n",
       "      <td>Montreal, PQ / Chesterville, ON</td>\n",
       "    </tr>\n",
       "    <tr>\n",
       "      <th>2</th>\n",
       "      <td>1</td>\n",
       "      <td>0</td>\n",
       "      <td>Allison, Miss. Helen Loraine</td>\n",
       "      <td>female</td>\n",
       "      <td>2.0000</td>\n",
       "      <td>1</td>\n",
       "      <td>2</td>\n",
       "      <td>113781</td>\n",
       "      <td>151.5500</td>\n",
       "      <td>C22 C26</td>\n",
       "      <td>S</td>\n",
       "      <td>NaN</td>\n",
       "      <td>NaN</td>\n",
       "      <td>Montreal, PQ / Chesterville, ON</td>\n",
       "    </tr>\n",
       "    <tr>\n",
       "      <th>3</th>\n",
       "      <td>1</td>\n",
       "      <td>0</td>\n",
       "      <td>Allison, Mr. Hudson Joshua Creighton</td>\n",
       "      <td>male</td>\n",
       "      <td>30.0000</td>\n",
       "      <td>1</td>\n",
       "      <td>2</td>\n",
       "      <td>113781</td>\n",
       "      <td>151.5500</td>\n",
       "      <td>C22 C26</td>\n",
       "      <td>S</td>\n",
       "      <td>NaN</td>\n",
       "      <td>135.0</td>\n",
       "      <td>Montreal, PQ / Chesterville, ON</td>\n",
       "    </tr>\n",
       "    <tr>\n",
       "      <th>4</th>\n",
       "      <td>1</td>\n",
       "      <td>0</td>\n",
       "      <td>Allison, Mrs. Hudson J C (Bessie Waldo Daniels)</td>\n",
       "      <td>female</td>\n",
       "      <td>25.0000</td>\n",
       "      <td>1</td>\n",
       "      <td>2</td>\n",
       "      <td>113781</td>\n",
       "      <td>151.5500</td>\n",
       "      <td>C22 C26</td>\n",
       "      <td>S</td>\n",
       "      <td>NaN</td>\n",
       "      <td>NaN</td>\n",
       "      <td>Montreal, PQ / Chesterville, ON</td>\n",
       "    </tr>\n",
       "  </tbody>\n",
       "</table>\n",
       "</div>"
      ],
      "text/plain": [
       "   pclass  survived                                             name     sex  \\\n",
       "0       1         1                    Allen, Miss. Elisabeth Walton  female   \n",
       "1       1         1                   Allison, Master. Hudson Trevor    male   \n",
       "2       1         0                     Allison, Miss. Helen Loraine  female   \n",
       "3       1         0             Allison, Mr. Hudson Joshua Creighton    male   \n",
       "4       1         0  Allison, Mrs. Hudson J C (Bessie Waldo Daniels)  female   \n",
       "\n",
       "       age  sibsp  parch  ticket      fare    cabin embarked boat   body  \\\n",
       "0  29.0000      0      0   24160  211.3375       B5        S    2    NaN   \n",
       "1   0.9167      1      2  113781  151.5500  C22 C26        S   11    NaN   \n",
       "2   2.0000      1      2  113781  151.5500  C22 C26        S  NaN    NaN   \n",
       "3  30.0000      1      2  113781  151.5500  C22 C26        S  NaN  135.0   \n",
       "4  25.0000      1      2  113781  151.5500  C22 C26        S  NaN    NaN   \n",
       "\n",
       "                         home.dest  \n",
       "0                     St Louis, MO  \n",
       "1  Montreal, PQ / Chesterville, ON  \n",
       "2  Montreal, PQ / Chesterville, ON  \n",
       "3  Montreal, PQ / Chesterville, ON  \n",
       "4  Montreal, PQ / Chesterville, ON  "
      ]
     },
     "execution_count": 3,
     "metadata": {},
     "output_type": "execute_result"
    }
   ],
   "source": [
    "import pandas as pd\n",
    "\n",
    "titanic_url = 'https://raw.githubusercontent.com/PinkWink/ML_tutorial/master/dataset/titanic.xls'\n",
    "\n",
    "titanic = pd.read_excel(titanic_url)\n",
    "titanic.head()\n",
    "\n"
   ]
  },
  {
   "cell_type": "code",
   "execution_count": 4,
   "metadata": {},
   "outputs": [],
   "source": [
    "import matplotlib.pyplot as plt\n",
    "import seaborn as sns"
   ]
  },
  {
   "cell_type": "code",
   "execution_count": 5,
   "metadata": {},
   "outputs": [
    {
     "data": {
      "text/plain": [
       "survived\n",
       "0    809\n",
       "1    500\n",
       "Name: count, dtype: int64"
      ]
     },
     "execution_count": 5,
     "metadata": {},
     "output_type": "execute_result"
    }
   ],
   "source": [
    "titanic['survived'].value_counts()"
   ]
  },
  {
   "cell_type": "code",
   "execution_count": 11,
   "metadata": {},
   "outputs": [
    {
     "data": {
      "text/plain": [
       "<Axes: ylabel='count'>"
      ]
     },
     "execution_count": 11,
     "metadata": {},
     "output_type": "execute_result"
    },
    {
     "data": {
      "image/png": "[encoded data removed]",
      "text/plain": [
       "<Figure size 640x480 with 1 Axes>"
      ]
     },
     "metadata": {},
     "output_type": "display_data"
    }
   ],
   "source": [
    "titanic['survived'].value_counts().plot.pie(autopct='%1.2f%%')"
   ]
  },
  {
   "cell_type": "code",
   "execution_count": 13,
   "metadata": {},
   "outputs": [
    {
     "data": {
      "text/plain": [
       "<Axes: ylabel='count'>"
      ]
     },
     "execution_count": 13,
     "metadata": {},
     "output_type": "execute_result"
    },
    {
     "data": {
      "image/png": "[encoded data removed]",
      "text/plain": [
       "<Figure size 640x480 with 1 Axes>"
      ]
     },
     "metadata": {},
     "output_type": "display_data"
    }
   ],
   "source": [
    "titanic['survived'].value_counts().plot.pie(autopct='%1.2f%%', shadow=True, explode=[0, 0.05])"
   ]
  },
  {
   "cell_type": "code",
   "execution_count": 20,
   "metadata": {},
   "outputs": [
    {
     "data": {
      "image/png": "[encoded data removed]",
      "text/plain": [
       "<Figure size 1800x800 with 2 Axes>"
      ]
     },
     "metadata": {},
     "output_type": "display_data"
    }
   ],
   "source": [
    "f, ax = plt.subplots(1,2, figsize=(18,8)) # 1행 2열의 그래프를 만들고, 전체 그래프의 크기를 가로 18인치, 세로 8인치로 설정"
   ]
  },
  {
   "cell_type": "code",
   "execution_count": 28,
   "metadata": {},
   "outputs": [
    {
     "data": {
      "image/png": "[encoded data removed]",
      "text/plain": [
       "<Figure size 1800x800 with 2 Axes>"
      ]
     },
     "metadata": {},
     "output_type": "display_data"
    }
   ],
   "source": [
    "f, ax = plt.subplots(1,2, figsize=(18,8)) # 1행 2열의 그래프를 만들고, 전체 그래프의 크기를 가로 18인치, 세로 8인치로 설정\n",
    "\n",
    "titanic['survived'].value_counts().plot.pie(ax=ax[0], autopct='%1.2f%%', shadow=True, explode=[0, 0.05])\n",
    "ax[0].set_title('Pie plot - survived')\n",
    "ax[0].set_ylabel('')\n",
    "\n",
    "sns.countplot(x='survived', data=titanic, ax=ax[1])\n",
    "ax[1].set_title('Count plot - survived')\n",
    "\n",
    "plt.show()"
   ]
  },
  {
   "cell_type": "code",
   "execution_count": 31,
   "metadata": {},
   "outputs": [
    {
     "data": {
      "image/png": "[encoded data removed]",
      "text/plain": [
       "<Figure size 1800x800 with 2 Axes>"
      ]
     },
     "metadata": {},
     "output_type": "display_data"
    }
   ],
   "source": [
    "# 성별에 따른 생존 현황\n",
    "\n",
    "\n",
    "f, ax = plt.subplots(1,2, figsize=(18,8)) # 1행 2열의 그래프를 만들고, 전체 그래프의 크기를 가로 18인치, 세로 8인치로 설정\n",
    "\n",
    "sns.countplot(x='sex', data=titanic, ax=ax[0])\n",
    "ax[0].set_title('Count of passengers of sex')\n",
    "ax[0].set_ylabel('')\n",
    "\n",
    "sns.countplot(x='sex', data=titanic, hue='survived' ,ax=ax[1])\n",
    "ax[1].set_title('sex : survived')\n",
    "\n",
    "plt.show()"
   ]
  },
  {
   "cell_type": "code",
   "execution_count": 32,
   "metadata": {},
   "outputs": [
    {
     "data": {
      "text/html": [
       "<div>\n",
       "<style scoped>\n",
       "    .dataframe tbody tr th:only-of-type {\n",
       "        vertical-align: middle;\n",
       "    }\n",
       "\n",
       "    .dataframe tbody tr th {\n",
       "        vertical-align: top;\n",
       "    }\n",
       "\n",
       "    .dataframe thead th {\n",
       "        text-align: right;\n",
       "    }\n",
       "</style>\n",
       "<table border=\"1\" class=\"dataframe\">\n",
       "  <thead>\n",
       "    <tr style=\"text-align: right;\">\n",
       "      <th>survived</th>\n",
       "      <th>0</th>\n",
       "      <th>1</th>\n",
       "      <th>All</th>\n",
       "    </tr>\n",
       "    <tr>\n",
       "      <th>pclass</th>\n",
       "      <th></th>\n",
       "      <th></th>\n",
       "      <th></th>\n",
       "    </tr>\n",
       "  </thead>\n",
       "  <tbody>\n",
       "    <tr>\n",
       "      <th>1</th>\n",
       "      <td>123</td>\n",
       "      <td>200</td>\n",
       "      <td>323</td>\n",
       "    </tr>\n",
       "    <tr>\n",
       "      <th>2</th>\n",
       "      <td>158</td>\n",
       "      <td>119</td>\n",
       "      <td>277</td>\n",
       "    </tr>\n",
       "    <tr>\n",
       "      <th>3</th>\n",
       "      <td>528</td>\n",
       "      <td>181</td>\n",
       "      <td>709</td>\n",
       "    </tr>\n",
       "    <tr>\n",
       "      <th>All</th>\n",
       "      <td>809</td>\n",
       "      <td>500</td>\n",
       "      <td>1309</td>\n",
       "    </tr>\n",
       "  </tbody>\n",
       "</table>\n",
       "</div>"
      ],
      "text/plain": [
       "survived    0    1   All\n",
       "pclass                  \n",
       "1         123  200   323\n",
       "2         158  119   277\n",
       "3         528  181   709\n",
       "All       809  500  1309"
      ]
     },
     "execution_count": 32,
     "metadata": {},
     "output_type": "execute_result"
    }
   ],
   "source": [
    "pd.crosstab(titanic['pclass'], titanic['survived'], margins=True)"
   ]
  },
  {
   "cell_type": "code",
   "execution_count": 35,
   "metadata": {},
   "outputs": [
    {
     "name": "stderr",
     "output_type": "stream",
     "text": [
      "c:\\Users\\kimsh-dt01\\miniconda3\\envs\\ds_study\\lib\\site-packages\\seaborn\\axisgrid.py:118: UserWarning: The figure layout has changed to tight\n",
      "  self._figure.tight_layout(*args, **kwargs)\n"
     ]
    },
    {
     "data": {
      "text/plain": [
       "<seaborn.axisgrid.FacetGrid at 0x1bb392cbcd0>"
      ]
     },
     "execution_count": 35,
     "metadata": {},
     "output_type": "execute_result"
    },
    {
     "data": {
      "image/png": "[encoded data removed]",
      "text/plain": [
       "<Figure size 1611.11x1200 with 6 Axes>"
      ]
     },
     "metadata": {},
     "output_type": "display_data"
    }
   ],
   "source": [
    "grid = sns.FacetGrid(titanic, row='pclass', col='sex', height=4, aspect=2)\n",
    "grid.map(plt.hist, 'age', alpha=0.8, bins=20)\n",
    "grid.add_legend()\n"
   ]
  },
  {
   "cell_type": "code",
   "execution_count": 36,
   "metadata": {},
   "outputs": [],
   "source": [
    "import plotly_express as px\n",
    "\n"
   ]
  },
  {
   "cell_type": "code",
   "execution_count": 38,
   "metadata": {},
   "outputs": [
    {
     "data": {
      "application/vnd.plotly.v1+json": {
       "config": {
        "plotlyServerURL": "https://plot.ly"
       },
       "data": [
        {
         "alignmentgroup": "True",
         "bingroup": "x",
         "hovertemplate": "age=%{x}<br>count=%{y}<extra></extra>",
         "legendgroup": "",
         "marker": {
          "color": "#636efa",
          "pattern": {
           "shape": ""
          }
         },
         "name": "",
         "offsetgroup": "",
         "orientation": "v",
         "showlegend": false,
         "type": "histogram",
         "x": [
          29,
          0.9167,
          2,
          30,
          25,
          48,
          63,
          39,
          53,
          71,
          47,
          18,
          24,
          26,
          80,
          null,
          24,
          50,
          32,
          36,
          37,
          47,
          26,
          42,
          29,
          25,
          25,
          19,
          35,
          28,
          45,
          40,
          30,
          58,
          42,
          45,
          22,
          null,
          41,
          48,
          null,
          44,
          59,
          60,
          41,
          45,
          null,
          42,
          53,
          36,
          58,
          33,
          28,
          17,
          11,
          14,
          36,
          36,
          49,
          null,
          36,
          76,
          46,
          47,
          27,
          33,
          36,
          30,
          45,
          null,
          null,
          27,
          26,
          22,
          null,
          47,
          39,
          37,
          64,
          55,
          null,
          70,
          36,
          64,
          39,
          38,
          51,
          27,
          33,
          31,
          27,
          31,
          17,
          53,
          4,
          54,
          50,
          27,
          48,
          48,
          49,
          39,
          23,
          38,
          54,
          36,
          null,
          null,
          null,
          36,
          30,
          24,
          28,
          23,
          19,
          64,
          60,
          30,
          null,
          50,
          43,
          null,
          22,
          60,
          48,
          null,
          37,
          35,
          47,
          35,
          22,
          45,
          24,
          49,
          null,
          71,
          53,
          19,
          38,
          58,
          23,
          45,
          46,
          25,
          25,
          48,
          49,
          null,
          45,
          35,
          40,
          27,
          null,
          24,
          55,
          52,
          42,
          null,
          55,
          16,
          44,
          51,
          42,
          35,
          35,
          38,
          null,
          35,
          38,
          50,
          49,
          46,
          50,
          32.5,
          58,
          41,
          null,
          42,
          45,
          null,
          39,
          49,
          30,
          35,
          null,
          42,
          55,
          16,
          51,
          29,
          21,
          30,
          58,
          15,
          30,
          16,
          null,
          19,
          18,
          24,
          46,
          54,
          36,
          28,
          null,
          65,
          44,
          33,
          37,
          30,
          55,
          47,
          37,
          31,
          23,
          58,
          19,
          64,
          39,
          null,
          22,
          65,
          28.5,
          null,
          45.5,
          23,
          29,
          22,
          18,
          17,
          30,
          52,
          47,
          56,
          38,
          null,
          22,
          null,
          43,
          31,
          45,
          null,
          33,
          46,
          36,
          33,
          55,
          54,
          33,
          13,
          18,
          21,
          61,
          48,
          null,
          24,
          null,
          35,
          30,
          34,
          40,
          35,
          50,
          39,
          56,
          28,
          56,
          56,
          24,
          null,
          18,
          24,
          23,
          6,
          45,
          40,
          57,
          null,
          32,
          62,
          54,
          43,
          52,
          null,
          62,
          67,
          63,
          61,
          48,
          18,
          52,
          39,
          48,
          null,
          49,
          17,
          39,
          null,
          31,
          40,
          61,
          47,
          35,
          64,
          60,
          60,
          54,
          21,
          55,
          31,
          57,
          45,
          50,
          27,
          50,
          21,
          51,
          21,
          null,
          31,
          null,
          62,
          36,
          30,
          28,
          30,
          18,
          25,
          34,
          36,
          57,
          18,
          23,
          36,
          28,
          51,
          32,
          19,
          28,
          1,
          4,
          12,
          36,
          34,
          19,
          23,
          26,
          42,
          27,
          24,
          15,
          60,
          40,
          20,
          25,
          36,
          25,
          42,
          42,
          0.8333,
          26,
          22,
          35,
          null,
          19,
          44,
          54,
          52,
          37,
          29,
          25,
          45,
          29,
          28,
          29,
          28,
          24,
          8,
          31,
          31,
          22,
          30,
          null,
          21,
          null,
          8,
          18,
          48,
          28,
          32,
          17,
          29,
          24,
          25,
          18,
          18,
          34,
          54,
          8,
          42,
          34,
          27,
          30,
          23,
          21,
          18,
          40,
          29,
          18,
          36,
          null,
          38,
          35,
          38,
          34,
          34,
          16,
          26,
          47,
          21,
          21,
          24,
          24,
          34,
          30,
          52,
          30,
          0.6667,
          24,
          44,
          6,
          28,
          62,
          30,
          7,
          43,
          45,
          24,
          24,
          49,
          48,
          55,
          24,
          32,
          21,
          18,
          20,
          23,
          36,
          54,
          50,
          44,
          29,
          21,
          42,
          63,
          60,
          33,
          17,
          42,
          24,
          47,
          24,
          22,
          32,
          23,
          34,
          24,
          22,
          null,
          35,
          45,
          57,
          null,
          31,
          26,
          30,
          null,
          1,
          3,
          25,
          22,
          17,
          null,
          34,
          36,
          24,
          61,
          50,
          42,
          57,
          null,
          1,
          31,
          24,
          null,
          30,
          40,
          32,
          30,
          46,
          13,
          41,
          19,
          39,
          48,
          70,
          27,
          54,
          39,
          16,
          62,
          32.5,
          14,
          2,
          3,
          36.5,
          26,
          19,
          28,
          20,
          29,
          39,
          22,
          null,
          23,
          29,
          28,
          null,
          50,
          19,
          null,
          41,
          21,
          19,
          43,
          32,
          34,
          30,
          27,
          2,
          8,
          33,
          36,
          34,
          30,
          28,
          23,
          0.8333,
          3,
          24,
          50,
          19,
          21,
          26,
          25,
          27,
          25,
          18,
          20,
          30,
          59,
          30,
          35,
          40,
          25,
          41,
          25,
          18.5,
          14,
          50,
          23,
          28,
          27,
          29,
          27,
          40,
          31,
          30,
          23,
          31,
          null,
          12,
          40,
          32.5,
          27,
          29,
          2,
          4,
          29,
          0.9167,
          5,
          36,
          33,
          66,
          null,
          31,
          null,
          26,
          24,
          42,
          13,
          16,
          35,
          16,
          25,
          20,
          18,
          30,
          26,
          40,
          0.8333,
          18,
          26,
          26,
          20,
          24,
          25,
          35,
          18,
          32,
          19,
          4,
          6,
          2,
          17,
          38,
          9,
          11,
          39,
          27,
          26,
          39,
          20,
          26,
          25,
          18,
          24,
          35,
          5,
          9,
          3,
          13,
          5,
          40,
          23,
          38,
          45,
          21,
          23,
          17,
          30,
          23,
          13,
          20,
          32,
          33,
          0.75,
          0.75,
          5,
          24,
          18,
          40,
          26,
          20,
          18,
          45,
          27,
          22,
          19,
          26,
          22,
          null,
          20,
          32,
          21,
          18,
          26,
          6,
          9,
          null,
          null,
          null,
          40,
          32,
          21,
          22,
          20,
          29,
          22,
          22,
          35,
          18.5,
          21,
          19,
          18,
          21,
          30,
          18,
          38,
          17,
          17,
          21,
          21,
          21,
          null,
          null,
          28,
          24,
          16,
          37,
          28,
          24,
          21,
          32,
          29,
          26,
          18,
          20,
          18,
          24,
          36,
          24,
          31,
          31,
          22,
          30,
          70.5,
          43,
          35,
          27,
          19,
          30,
          9,
          3,
          36,
          59,
          19,
          17,
          44,
          17,
          22.5,
          45,
          22,
          19,
          30,
          29,
          0.3333,
          34,
          28,
          27,
          25,
          24,
          22,
          21,
          17,
          null,
          null,
          36.5,
          36,
          30,
          16,
          1,
          0.1667,
          26,
          33,
          25,
          null,
          null,
          22,
          36,
          19,
          17,
          42,
          43,
          null,
          32,
          19,
          30,
          24,
          23,
          33,
          65,
          24,
          23,
          22,
          18,
          16,
          45,
          null,
          39,
          17,
          15,
          47,
          5,
          null,
          40.5,
          40.5,
          null,
          18,
          null,
          null,
          null,
          26,
          null,
          null,
          21,
          9,
          null,
          18,
          16,
          48,
          null,
          null,
          25,
          null,
          null,
          22,
          16,
          null,
          9,
          33,
          41,
          31,
          38,
          9,
          1,
          11,
          10,
          16,
          14,
          40,
          43,
          51,
          32,
          null,
          20,
          37,
          28,
          19,
          24,
          17,
          null,
          null,
          28,
          24,
          20,
          23.5,
          41,
          26,
          21,
          45,
          null,
          25,
          null,
          11,
          null,
          27,
          null,
          18,
          26,
          23,
          22,
          28,
          28,
          null,
          2,
          22,
          43,
          28,
          27,
          null,
          null,
          42,
          null,
          30,
          null,
          27,
          25,
          null,
          29,
          21,
          null,
          20,
          48,
          17,
          null,
          null,
          34,
          26,
          22,
          33,
          31,
          29,
          4,
          1,
          49,
          33,
          19,
          27,
          null,
          null,
          null,
          null,
          23,
          32,
          27,
          20,
          21,
          32,
          17,
          21,
          30,
          21,
          33,
          22,
          4,
          39,
          null,
          18.5,
          null,
          null,
          null,
          null,
          34.5,
          44,
          null,
          null,
          null,
          null,
          null,
          null,
          22,
          26,
          4,
          29,
          26,
          1,
          18,
          36,
          null,
          25,
          null,
          37,
          null,
          null,
          null,
          22,
          null,
          26,
          29,
          29,
          22,
          22,
          null,
          null,
          null,
          null,
          null,
          32,
          34.5,
          null,
          null,
          36,
          39,
          24,
          25,
          45,
          36,
          30,
          20,
          null,
          28,
          null,
          30,
          26,
          null,
          20.5,
          27,
          51,
          23,
          32,
          null,
          null,
          null,
          24,
          22,
          null,
          null,
          null,
          29,
          null,
          30.5,
          null,
          null,
          35,
          33,
          null,
          null,
          null,
          null,
          null,
          null,
          null,
          null,
          null,
          null,
          15,
          35,
          null,
          24,
          19,
          null,
          null,
          null,
          55.5,
          null,
          21,
          null,
          24,
          21,
          28,
          null,
          null,
          25,
          6,
          27,
          null,
          null,
          null,
          null,
          34,
          null,
          null,
          null,
          null,
          null,
          null,
          null,
          null,
          24,
          null,
          null,
          null,
          null,
          18,
          22,
          15,
          1,
          20,
          19,
          33,
          null,
          null,
          null,
          null,
          12,
          14,
          29,
          28,
          18,
          26,
          21,
          41,
          39,
          21,
          28.5,
          22,
          61,
          null,
          null,
          null,
          null,
          null,
          null,
          23,
          null,
          null,
          null,
          22,
          null,
          null,
          9,
          28,
          42,
          null,
          31,
          28,
          32,
          20,
          23,
          20,
          20,
          16,
          31,
          null,
          2,
          6,
          3,
          8,
          29,
          1,
          7,
          2,
          16,
          14,
          41,
          21,
          19,
          null,
          32,
          0.75,
          3,
          26,
          null,
          null,
          null,
          21,
          25,
          22,
          25,
          null,
          null,
          null,
          null,
          24,
          28,
          19,
          null,
          25,
          18,
          32,
          null,
          17,
          24,
          null,
          null,
          null,
          null,
          38,
          21,
          10,
          4,
          7,
          2,
          8,
          39,
          22,
          35,
          null,
          null,
          null,
          50,
          47,
          null,
          null,
          2,
          18,
          41,
          null,
          50,
          16,
          null,
          null,
          null,
          25,
          null,
          null,
          null,
          38.5,
          null,
          14.5,
          null,
          null,
          null,
          null,
          null,
          null,
          null,
          null,
          null,
          24,
          21,
          39,
          null,
          null,
          null,
          1,
          24,
          4,
          25,
          20,
          24.5,
          null,
          null,
          null,
          29,
          null,
          null,
          null,
          null,
          22,
          null,
          40,
          21,
          18,
          4,
          10,
          9,
          2,
          40,
          45,
          null,
          null,
          null,
          null,
          null,
          19,
          30,
          null,
          32,
          null,
          33,
          23,
          21,
          60.5,
          19,
          22,
          31,
          27,
          2,
          29,
          16,
          44,
          25,
          74,
          14,
          24,
          25,
          34,
          0.4167,
          null,
          null,
          null,
          16,
          null,
          null,
          null,
          32,
          null,
          null,
          30.5,
          44,
          null,
          25,
          null,
          7,
          9,
          29,
          36,
          18,
          63,
          null,
          11.5,
          40.5,
          10,
          36,
          30,
          null,
          33,
          28,
          28,
          47,
          18,
          31,
          16,
          31,
          22,
          20,
          14,
          22,
          22,
          null,
          null,
          null,
          32.5,
          38,
          51,
          18,
          21,
          47,
          null,
          null,
          null,
          28.5,
          21,
          27,
          null,
          36,
          27,
          15,
          45.5,
          null,
          null,
          14.5,
          null,
          26.5,
          27,
          29
         ],
         "xaxis": "x",
         "yaxis": "y"
        }
       ],
       "layout": {
        "barmode": "relative",
        "legend": {
         "tracegroupgap": 0
        },
        "margin": {
         "t": 60
        },
        "template": {
         "data": {
          "bar": [
           {
            "error_x": {
             "color": "#2a3f5f"
            },
            "error_y": {
             "color": "#2a3f5f"
            },
            "marker": {
             "line": {
              "color": "#E5ECF6",
              "width": 0.5
             },
             "pattern": {
              "fillmode": "overlay",
              "size": 10,
              "solidity": 0.2
             }
            },
            "type": "bar"
           }
          ],
          "barpolar": [
           {
            "marker": {
             "line": {
              "color": "#E5ECF6",
              "width": 0.5
             },
             "pattern": {
              "fillmode": "overlay",
              "size": 10,
              "solidity": 0.2
             }
            },
            "type": "barpolar"
           }
          ],
          "carpet": [
           {
            "aaxis": {
             "endlinecolor": "#2a3f5f",
             "gridcolor": "white",
             "linecolor": "white",
             "minorgridcolor": "white",
             "startlinecolor": "#2a3f5f"
            },
            "baxis": {
             "endlinecolor": "#2a3f5f",
             "gridcolor": "white",
             "linecolor": "white",
             "minorgridcolor": "white",
             "startlinecolor": "#2a3f5f"
            },
            "type": "carpet"
           }
          ],
          "choropleth": [
           {
            "colorbar": {
             "outlinewidth": 0,
             "ticks": ""
            },
            "type": "choropleth"
           }
          ],
          "contour": [
           {
            "colorbar": {
             "outlinewidth": 0,
             "ticks": ""
            },
            "colorscale": [
             [
              0,
              "#0d0887"
             ],
             [
              0.1111111111111111,
              "#46039f"
             ],
             [
              0.2222222222222222,
              "#7201a8"
             ],
             [
              0.3333333333333333,
              "#9c179e"
             ],
             [
              0.4444444444444444,
              "#bd3786"
             ],
             [
              0.5555555555555556,
              "#d8576b"
             ],
             [
              0.6666666666666666,
              "#ed7953"
             ],
             [
              0.7777777777777778,
              "#fb9f3a"
             ],
             [
              0.8888888888888888,
              "#fdca26"
             ],
             [
              1,
              "#f0f921"
             ]
            ],
            "type": "contour"
           }
          ],
          "contourcarpet": [
           {
            "colorbar": {
             "outlinewidth": 0,
             "ticks": ""
            },
            "type": "contourcarpet"
           }
          ],
          "heatmap": [
           {
            "colorbar": {
             "outlinewidth": 0,
             "ticks": ""
            },
            "colorscale": [
             [
              0,
              "#0d0887"
             ],
             [
              0.1111111111111111,
              "#46039f"
             ],
             [
              0.2222222222222222,
              "#7201a8"
             ],
             [
              0.3333333333333333,
              "#9c179e"
             ],
             [
              0.4444444444444444,
              "#bd3786"
             ],
             [
              0.5555555555555556,
              "#d8576b"
             ],
             [
              0.6666666666666666,
              "#ed7953"
             ],
             [
              0.7777777777777778,
              "#fb9f3a"
             ],
             [
              0.8888888888888888,
              "#fdca26"
             ],
             [
              1,
              "#f0f921"
             ]
            ],
            "type": "heatmap"
           }
          ],
          "heatmapgl": [
           {
            "colorbar": {
             "outlinewidth": 0,
             "ticks": ""
            },
            "colorscale": [
             [
              0,
              "#0d0887"
             ],
             [
              0.1111111111111111,
              "#46039f"
             ],
             [
              0.2222222222222222,
              "#7201a8"
             ],
             [
              0.3333333333333333,
              "#9c179e"
             ],
             [
              0.4444444444444444,
              "#bd3786"
             ],
             [
              0.5555555555555556,
              "#d8576b"
             ],
             [
              0.6666666666666666,
              "#ed7953"
             ],
             [
              0.7777777777777778,
              "#fb9f3a"
             ],
             [
              0.8888888888888888,
              "#fdca26"
             ],
             [
              1,
              "#f0f921"
             ]
            ],
            "type": "heatmapgl"
           }
          ],
          "histogram": [
           {
            "marker": {
             "pattern": {
              "fillmode": "overlay",
              "size": 10,
              "solidity": 0.2
             }
            },
            "type": "histogram"
           }
          ],
          "histogram2d": [
           {
            "colorbar": {
             "outlinewidth": 0,
             "ticks": ""
            },
            "colorscale": [
             [
              0,
              "#0d0887"
             ],
             [
              0.1111111111111111,
              "#46039f"
             ],
             [
              0.2222222222222222,
              "#7201a8"
             ],
             [
              0.3333333333333333,
              "#9c179e"
             ],
             [
              0.4444444444444444,
              "#bd3786"
             ],
             [
              0.5555555555555556,
              "#d8576b"
             ],
             [
              0.6666666666666666,
              "#ed7953"
             ],
             [
              0.7777777777777778,
              "#fb9f3a"
             ],
             [
              0.8888888888888888,
              "#fdca26"
             ],
             [
              1,
              "#f0f921"
             ]
            ],
            "type": "histogram2d"
           }
          ],
          "histogram2dcontour": [
           {
            "colorbar": {
             "outlinewidth": 0,
             "ticks": ""
            },
            "colorscale": [
             [
              0,
              "#0d0887"
             ],
             [
              0.1111111111111111,
              "#46039f"
             ],
             [
              0.2222222222222222,
              "#7201a8"
             ],
             [
              0.3333333333333333,
              "#9c179e"
             ],
             [
              0.4444444444444444,
              "#bd3786"
             ],
             [
              0.5555555555555556,
              "#d8576b"
             ],
             [
              0.6666666666666666,
              "#ed7953"
             ],
             [
              0.7777777777777778,
              "#fb9f3a"
             ],
             [
              0.8888888888888888,
              "#fdca26"
             ],
             [
              1,
              "#f0f921"
             ]
            ],
            "type": "histogram2dcontour"
           }
          ],
          "mesh3d": [
           {
            "colorbar": {
             "outlinewidth": 0,
             "ticks": ""
            },
            "type": "mesh3d"
           }
          ],
          "parcoords": [
           {
            "line": {
             "colorbar": {
              "outlinewidth": 0,
              "ticks": ""
             }
            },
            "type": "parcoords"
           }
          ],
          "pie": [
           {
            "automargin": true,
            "type": "pie"
           }
          ],
          "scatter": [
           {
            "fillpattern": {
             "fillmode": "overlay",
             "size": 10,
             "solidity": 0.2
            },
            "type": "scatter"
           }
          ],
          "scatter3d": [
           {
            "line": {
             "colorbar": {
              "outlinewidth": 0,
              "ticks": ""
             }
            },
            "marker": {
             "colorbar": {
              "outlinewidth": 0,
              "ticks": ""
             }
            },
            "type": "scatter3d"
           }
          ],
          "scattercarpet": [
           {
            "marker": {
             "colorbar": {
              "outlinewidth": 0,
              "ticks": ""
             }
            },
            "type": "scattercarpet"
           }
          ],
          "scattergeo": [
           {
            "marker": {
             "colorbar": {
              "outlinewidth": 0,
              "ticks": ""
             }
            },
            "type": "scattergeo"
           }
          ],
          "scattergl": [
           {
            "marker": {
             "colorbar": {
              "outlinewidth": 0,
              "ticks": ""
             }
            },
            "type": "scattergl"
           }
          ],
          "scattermapbox": [
           {
            "marker": {
             "colorbar": {
              "outlinewidth": 0,
              "ticks": ""
             }
            },
            "type": "scattermapbox"
           }
          ],
          "scatterpolar": [
           {
            "marker": {
             "colorbar": {
              "outlinewidth": 0,
              "ticks": ""
             }
            },
            "type": "scatterpolar"
           }
          ],
          "scatterpolargl": [
           {
            "marker": {
             "colorbar": {
              "outlinewidth": 0,
              "ticks": ""
             }
            },
            "type": "scatterpolargl"
           }
          ],
          "scatterternary": [
           {
            "marker": {
             "colorbar": {
              "outlinewidth": 0,
              "ticks": ""
             }
            },
            "type": "scatterternary"
           }
          ],
          "surface": [
           {
            "colorbar": {
             "outlinewidth": 0,
             "ticks": ""
            },
            "colorscale": [
             [
              0,
              "#0d0887"
             ],
             [
              0.1111111111111111,
              "#46039f"
             ],
             [
              0.2222222222222222,
              "#7201a8"
             ],
             [
              0.3333333333333333,
              "#9c179e"
             ],
             [
              0.4444444444444444,
              "#bd3786"
             ],
             [
              0.5555555555555556,
              "#d8576b"
             ],
             [
              0.6666666666666666,
              "#ed7953"
             ],
             [
              0.7777777777777778,
              "#fb9f3a"
             ],
             [
              0.8888888888888888,
              "#fdca26"
             ],
             [
              1,
              "#f0f921"
             ]
            ],
            "type": "surface"
           }
          ],
          "table": [
           {
            "cells": {
             "fill": {
              "color": "#EBF0F8"
             },
             "line": {
              "color": "white"
             }
            },
            "header": {
             "fill": {
              "color": "#C8D4E3"
             },
             "line": {
              "color": "white"
             }
            },
            "type": "table"
           }
          ]
         },
         "layout": {
          "annotationdefaults": {
           "arrowcolor": "#2a3f5f",
           "arrowhead": 0,
           "arrowwidth": 1
          },
          "autotypenumbers": "strict",
          "coloraxis": {
           "colorbar": {
            "outlinewidth": 0,
            "ticks": ""
           }
          },
          "colorscale": {
           "diverging": [
            [
             0,
             "#8e0152"
            ],
            [
             0.1,
             "#c51b7d"
            ],
            [
             0.2,
             "#de77ae"
            ],
            [
             0.3,
             "#f1b6da"
            ],
            [
             0.4,
             "#fde0ef"
            ],
            [
             0.5,
             "#f7f7f7"
            ],
            [
             0.6,
             "#e6f5d0"
            ],
            [
             0.7,
             "#b8e186"
            ],
            [
             0.8,
             "#7fbc41"
            ],
            [
             0.9,
             "#4d9221"
            ],
            [
             1,
             "#276419"
            ]
           ],
           "sequential": [
            [
             0,
             "#0d0887"
            ],
            [
             0.1111111111111111,
             "#46039f"
            ],
            [
             0.2222222222222222,
             "#7201a8"
            ],
            [
             0.3333333333333333,
             "#9c179e"
            ],
            [
             0.4444444444444444,
             "#bd3786"
            ],
            [
             0.5555555555555556,
             "#d8576b"
            ],
            [
             0.6666666666666666,
             "#ed7953"
            ],
            [
             0.7777777777777778,
             "#fb9f3a"
            ],
            [
             0.8888888888888888,
             "#fdca26"
            ],
            [
             1,
             "#f0f921"
            ]
           ],
           "sequentialminus": [
            [
             0,
             "#0d0887"
            ],
            [
             0.1111111111111111,
             "#46039f"
            ],
            [
             0.2222222222222222,
             "#7201a8"
            ],
            [
             0.3333333333333333,
             "#9c179e"
            ],
            [
             0.4444444444444444,
             "#bd3786"
            ],
            [
             0.5555555555555556,
             "#d8576b"
            ],
            [
             0.6666666666666666,
             "#ed7953"
            ],
            [
             0.7777777777777778,
             "#fb9f3a"
            ],
            [
             0.8888888888888888,
             "#fdca26"
            ],
            [
             1,
             "#f0f921"
            ]
           ]
          },
          "colorway": [
           "#636efa",
           "#EF553B",
           "#00cc96",
           "#ab63fa",
           "#FFA15A",
           "#19d3f3",
           "#FF6692",
           "#B6E880",
           "#FF97FF",
           "#FECB52"
          ],
          "font": {
           "color": "#2a3f5f"
          },
          "geo": {
           "bgcolor": "white",
           "lakecolor": "white",
           "landcolor": "#E5ECF6",
           "showlakes": true,
           "showland": true,
           "subunitcolor": "white"
          },
          "hoverlabel": {
           "align": "left"
          },
          "hovermode": "closest",
          "mapbox": {
           "style": "light"
          },
          "paper_bgcolor": "white",
          "plot_bgcolor": "#E5ECF6",
          "polar": {
           "angularaxis": {
            "gridcolor": "white",
            "linecolor": "white",
            "ticks": ""
           },
           "bgcolor": "#E5ECF6",
           "radialaxis": {
            "gridcolor": "white",
            "linecolor": "white",
            "ticks": ""
           }
          },
          "scene": {
           "xaxis": {
            "backgroundcolor": "#E5ECF6",
            "gridcolor": "white",
            "gridwidth": 2,
            "linecolor": "white",
            "showbackground": true,
            "ticks": "",
            "zerolinecolor": "white"
           },
           "yaxis": {
            "backgroundcolor": "#E5ECF6",
            "gridcolor": "white",
            "gridwidth": 2,
            "linecolor": "white",
            "showbackground": true,
            "ticks": "",
            "zerolinecolor": "white"
           },
           "zaxis": {
            "backgroundcolor": "#E5ECF6",
            "gridcolor": "white",
            "gridwidth": 2,
            "linecolor": "white",
            "showbackground": true,
            "ticks": "",
            "zerolinecolor": "white"
           }
          },
          "shapedefaults": {
           "line": {
            "color": "#2a3f5f"
           }
          },
          "ternary": {
           "aaxis": {
            "gridcolor": "white",
            "linecolor": "white",
            "ticks": ""
           },
           "baxis": {
            "gridcolor": "white",
            "linecolor": "white",
            "ticks": ""
           },
           "bgcolor": "#E5ECF6",
           "caxis": {
            "gridcolor": "white",
            "linecolor": "white",
            "ticks": ""
           }
          },
          "title": {
           "x": 0.05
          },
          "xaxis": {
           "automargin": true,
           "gridcolor": "white",
           "linecolor": "white",
           "ticks": "",
           "title": {
            "standoff": 15
           },
           "zerolinecolor": "white",
           "zerolinewidth": 2
          },
          "yaxis": {
           "automargin": true,
           "gridcolor": "white",
           "linecolor": "white",
           "ticks": "",
           "title": {
            "standoff": 15
           },
           "zerolinecolor": "white",
           "zerolinewidth": 2
          }
         }
        },
        "xaxis": {
         "anchor": "y",
         "domain": [
          0,
          1
         ],
         "title": {
          "text": "age"
         }
        },
        "yaxis": {
         "anchor": "x",
         "domain": [
          0,
          1
         ],
         "title": {
          "text": "count"
         }
        }
       }
      }
     },
     "metadata": {},
     "output_type": "display_data"
    }
   ],
   "source": [
    "fig = px.histogram(titanic, x='age')\n",
    "fig.show()"
   ]
  },
  {
   "cell_type": "code",
   "execution_count": 39,
   "metadata": {},
   "outputs": [
    {
     "name": "stderr",
     "output_type": "stream",
     "text": [
      "c:\\Users\\kimsh-dt01\\miniconda3\\envs\\ds_study\\lib\\site-packages\\seaborn\\axisgrid.py:118: UserWarning:\n",
      "\n",
      "The figure layout has changed to tight\n",
      "\n"
     ]
    },
    {
     "data": {
      "text/plain": [
       "<seaborn.axisgrid.FacetGrid at 0x1bb3d13cf10>"
      ]
     },
     "execution_count": 39,
     "metadata": {},
     "output_type": "execute_result"
    },
    {
     "data": {
      "image/png": "[encoded data removed]",
      "text/plain": [
       "<Figure size 1611.11x1200 with 6 Axes>"
      ]
     },
     "metadata": {},
     "output_type": "display_data"
    }
   ],
   "source": [
    "grid = sns.FacetGrid(titanic, row='pclass', col='survived', height=4, aspect=2)\n",
    "grid.map(plt.hist, 'age', alpha=0.8, bins=20)\n",
    "grid.add_legend()"
   ]
  },
  {
   "cell_type": "code",
   "execution_count": 42,
   "metadata": {},
   "outputs": [
    {
     "data": {
      "text/html": [
       "<div>\n",
       "<style scoped>\n",
       "    .dataframe tbody tr th:only-of-type {\n",
       "        vertical-align: middle;\n",
       "    }\n",
       "\n",
       "    .dataframe tbody tr th {\n",
       "        vertical-align: top;\n",
       "    }\n",
       "\n",
       "    .dataframe thead th {\n",
       "        text-align: right;\n",
       "    }\n",
       "</style>\n",
       "<table border=\"1\" class=\"dataframe\">\n",
       "  <thead>\n",
       "    <tr style=\"text-align: right;\">\n",
       "      <th></th>\n",
       "      <th>pclass</th>\n",
       "      <th>survived</th>\n",
       "      <th>name</th>\n",
       "      <th>sex</th>\n",
       "      <th>age</th>\n",
       "      <th>sibsp</th>\n",
       "      <th>parch</th>\n",
       "      <th>ticket</th>\n",
       "      <th>fare</th>\n",
       "      <th>cabin</th>\n",
       "      <th>embarked</th>\n",
       "      <th>boat</th>\n",
       "      <th>body</th>\n",
       "      <th>home.dest</th>\n",
       "      <th>age_cat</th>\n",
       "    </tr>\n",
       "  </thead>\n",
       "  <tbody>\n",
       "    <tr>\n",
       "      <th>0</th>\n",
       "      <td>1</td>\n",
       "      <td>1</td>\n",
       "      <td>Allen, Miss. Elisabeth Walton</td>\n",
       "      <td>female</td>\n",
       "      <td>29.0000</td>\n",
       "      <td>0</td>\n",
       "      <td>0</td>\n",
       "      <td>24160</td>\n",
       "      <td>211.3375</td>\n",
       "      <td>B5</td>\n",
       "      <td>S</td>\n",
       "      <td>2</td>\n",
       "      <td>NaN</td>\n",
       "      <td>St Louis, MO</td>\n",
       "      <td>young</td>\n",
       "    </tr>\n",
       "    <tr>\n",
       "      <th>1</th>\n",
       "      <td>1</td>\n",
       "      <td>1</td>\n",
       "      <td>Allison, Master. Hudson Trevor</td>\n",
       "      <td>male</td>\n",
       "      <td>0.9167</td>\n",
       "      <td>1</td>\n",
       "      <td>2</td>\n",
       "      <td>113781</td>\n",
       "      <td>151.5500</td>\n",
       "      <td>C22 C26</td>\n",
       "      <td>S</td>\n",
       "      <td>11</td>\n",
       "      <td>NaN</td>\n",
       "      <td>Montreal, PQ / Chesterville, ON</td>\n",
       "      <td>baby</td>\n",
       "    </tr>\n",
       "    <tr>\n",
       "      <th>2</th>\n",
       "      <td>1</td>\n",
       "      <td>0</td>\n",
       "      <td>Allison, Miss. Helen Loraine</td>\n",
       "      <td>female</td>\n",
       "      <td>2.0000</td>\n",
       "      <td>1</td>\n",
       "      <td>2</td>\n",
       "      <td>113781</td>\n",
       "      <td>151.5500</td>\n",
       "      <td>C22 C26</td>\n",
       "      <td>S</td>\n",
       "      <td>NaN</td>\n",
       "      <td>NaN</td>\n",
       "      <td>Montreal, PQ / Chesterville, ON</td>\n",
       "      <td>baby</td>\n",
       "    </tr>\n",
       "    <tr>\n",
       "      <th>3</th>\n",
       "      <td>1</td>\n",
       "      <td>0</td>\n",
       "      <td>Allison, Mr. Hudson Joshua Creighton</td>\n",
       "      <td>male</td>\n",
       "      <td>30.0000</td>\n",
       "      <td>1</td>\n",
       "      <td>2</td>\n",
       "      <td>113781</td>\n",
       "      <td>151.5500</td>\n",
       "      <td>C22 C26</td>\n",
       "      <td>S</td>\n",
       "      <td>NaN</td>\n",
       "      <td>135.0</td>\n",
       "      <td>Montreal, PQ / Chesterville, ON</td>\n",
       "      <td>young</td>\n",
       "    </tr>\n",
       "    <tr>\n",
       "      <th>4</th>\n",
       "      <td>1</td>\n",
       "      <td>0</td>\n",
       "      <td>Allison, Mrs. Hudson J C (Bessie Waldo Daniels)</td>\n",
       "      <td>female</td>\n",
       "      <td>25.0000</td>\n",
       "      <td>1</td>\n",
       "      <td>2</td>\n",
       "      <td>113781</td>\n",
       "      <td>151.5500</td>\n",
       "      <td>C22 C26</td>\n",
       "      <td>S</td>\n",
       "      <td>NaN</td>\n",
       "      <td>NaN</td>\n",
       "      <td>Montreal, PQ / Chesterville, ON</td>\n",
       "      <td>young</td>\n",
       "    </tr>\n",
       "  </tbody>\n",
       "</table>\n",
       "</div>"
      ],
      "text/plain": [
       "   pclass  survived                                             name     sex  \\\n",
       "0       1         1                    Allen, Miss. Elisabeth Walton  female   \n",
       "1       1         1                   Allison, Master. Hudson Trevor    male   \n",
       "2       1         0                     Allison, Miss. Helen Loraine  female   \n",
       "3       1         0             Allison, Mr. Hudson Joshua Creighton    male   \n",
       "4       1         0  Allison, Mrs. Hudson J C (Bessie Waldo Daniels)  female   \n",
       "\n",
       "       age  sibsp  parch  ticket      fare    cabin embarked boat   body  \\\n",
       "0  29.0000      0      0   24160  211.3375       B5        S    2    NaN   \n",
       "1   0.9167      1      2  113781  151.5500  C22 C26        S   11    NaN   \n",
       "2   2.0000      1      2  113781  151.5500  C22 C26        S  NaN    NaN   \n",
       "3  30.0000      1      2  113781  151.5500  C22 C26        S  NaN  135.0   \n",
       "4  25.0000      1      2  113781  151.5500  C22 C26        S  NaN    NaN   \n",
       "\n",
       "                         home.dest age_cat  \n",
       "0                     St Louis, MO   young  \n",
       "1  Montreal, PQ / Chesterville, ON    baby  \n",
       "2  Montreal, PQ / Chesterville, ON    baby  \n",
       "3  Montreal, PQ / Chesterville, ON   young  \n",
       "4  Montreal, PQ / Chesterville, ON   young  "
      ]
     },
     "execution_count": 42,
     "metadata": {},
     "output_type": "execute_result"
    }
   ],
   "source": [
    "titanic['age_cat'] = pd.cut(titanic['age'], bins=[0,7, 15,30,60,100] ,\n",
    "       include_lowest=True,\n",
    "       labels=['baby', 'teenage', 'young', 'adult', 'old'])\n",
    "\n",
    "titanic.head()"
   ]
  },
  {
   "cell_type": "code",
   "execution_count": 47,
   "metadata": {},
   "outputs": [
    {
     "data": {
      "image/png": "[encoded data removed]",
      "text/plain": [
       "<Figure size 1200x400 with 3 Axes>"
      ]
     },
     "metadata": {},
     "output_type": "display_data"
    }
   ],
   "source": [
    "plt.figure(figsize=(12,4))\n",
    "\n",
    "plt.subplot(131)\n",
    "sns.barplot(x='pclass', y='survived', data=titanic)\n",
    "plt.subplot(132)\n",
    "sns.barplot(x='age_cat', y='survived', data=titanic)\n",
    "plt.subplot(133)\n",
    "sns.barplot(x='sex', y='survived', data=titanic)\n",
    "plt.subplots_adjust(top=1, bottom=0.1, left=0.1, right=1, hspace=0.5, wspace=0.5)\n",
    "\n",
    "plt.show()"
   ]
  },
  {
   "cell_type": "code",
   "execution_count": null,
   "metadata": {},
   "outputs": [],
   "source": []
  }
 ],
 "metadata": {
  "kernelspec": {
   "display_name": "ds_study",
   "language": "python",
   "name": "python3"
  },
  "language_info": {
   "codemirror_mode": {
    "name": "ipython",
    "version": 3
   },
   "file_extension": ".py",
   "mimetype": "text/x-python",
   "name": "python",
   "nbconvert_exporter": "python",
   "pygments_lexer": "ipython3",
   "version": "3.8.18"
  }
 },
 "nbformat": 4,
 "nbformat_minor": 2
}
