{
  "cells": [
    {
      "cell_type": "markdown",
      "metadata": {
        "id": "view-in-github",
        "colab_type": "text"
      },
      "source": [
        "<a href=\"https://colab.research.google.com/github/somoon0422/python_algorithm/blob/main/Anna_%EC%BD%94%EC%B9%98_7%ED%8C%80_4%EC%A3%BC%EC%B0%A8_%EB%AF%B8%EC%85%98_ipynb%EC%9D%98_%EC%82%AC%EB%B3%B8.ipynb\" target=\"_parent\"><img src=\"https://colab.research.google.com/assets/colab-badge.svg\" alt=\"Open In Colab\"/></a>"
      ]
    },
    {
      "cell_type": "code",
      "source": [
        "\n",
        "def make_comma(number):\n",
        "    str_num = str(number)\n",
        "    if len(str_num) <= 3:\n",
        "        return str_num\n",
        "    else:\n",
        "        reversed_num = str_num[::-1]\n",
        "        comma_num = \"\"\n",
        "        for i in range(len(reversed_num)):\n",
        "            comma_num += reversed_num[i]\n",
        "            if (i+1) % 3 == 0 and i != len(reversed_num) - 1:\n",
        "                comma_num += \",\"\n",
        "        return comma_num[::-1]\n",
        "\n",
        "# Test\n",
        "print(make_comma(1234567))  # Output: 1,234,567\n",
        "print(make_comma(1000000))  # Output: 1,000,000"
      ],
      "metadata": {
        "id": "b99gelbaIY0O",
        "outputId": "9f80b26d-febe-4b8a-b444-286a628bc95d",
        "colab": {
          "base_uri": "https://localhost:8080/"
        }
      },
      "execution_count": null,
      "outputs": [
        {
          "output_type": "stream",
          "name": "stdout",
          "text": [
            "1,234,567\n",
            "1,000,000\n"
          ]
        }
      ]
    },
    {
      "cell_type": "markdown",
      "source": [
        "## **#Anna 코치 피드백) 위에 문제를 코드가 돌아가는 기능자체에 문제는 없습니다! 코드를 약간 간결하고 가독성 높이기 위해 몇가지 수정 제안을 해드릴게요!!**:"
      ],
      "metadata": {
        "id": "brchOf267T2W"
      }
    },
    {
      "cell_type": "code",
      "source": [
        "#Anna 코치 피드백)\n",
        "\n",
        "def make_comma(number):\n",
        "    str_num = str(number)\n",
        "    reversed_num = str_num[::-1]\n",
        "    comma_num_parts = [reversed_num[i:i+3] for i in range(0, len(reversed_num), 3)]\n",
        "    comma_num = \",\".join(comma_num_parts)\n",
        "    return comma_num[::-1]\n",
        "\n",
        "# Test\n",
        "print(make_comma(1234567))  # Output: 1,234,567\n",
        "print(make_comma(1000000))  # Output: 1,000,000\n",
        "\n",
        "\n",
        "# 입력된 숫자를 문자열로 변환하고, 문자열을 뒤집어서 3자리씩 끊어서 리스트에 저장한 후, 마지막으로 리스트의 요소들을 \",\" 로 결합한 결과 입니다!"
      ],
      "metadata": {
        "id": "v1J7f01K7e-g",
        "colab": {
          "base_uri": "https://localhost:8080/"
        },
        "outputId": "7f33f668-a6b8-4da2-d76b-5717a20939cf"
      },
      "execution_count": null,
      "outputs": [
        {
          "output_type": "stream",
          "name": "stdout",
          "text": [
            "1,234,567\n",
            "1,000,000\n"
          ]
        }
      ]
    },
    {
      "cell_type": "code",
      "source": [
        "#---------------------------------------------------------------------------------"
      ],
      "metadata": {
        "id": "vr4pDXzs_Mql"
      },
      "execution_count": null,
      "outputs": []
    },
    {
      "cell_type": "code",
      "execution_count": null,
      "metadata": {
        "colab": {
          "base_uri": "https://localhost:8080/"
        },
        "id": "KmoLmqaiE7cs",
        "outputId": "ee9837b7-919b-4e3c-e2e5-b701ecdb9b83"
      },
      "outputs": [
        {
          "output_type": "stream",
          "name": "stdout",
          "text": [
            "3\n"
          ]
        }
      ],
      "source": [
        "\n",
        "def count_word(sentence, word):\n",
        "    count = sentence.count(word)\n",
        "    # 문장을 텍스트 파일로 저장\n",
        "    with open(\"sentence.txt\", \"w\", encoding=\"utf-8\") as f:\n",
        "        f.write(sentence)\n",
        "    return count\n",
        "# 미비포유 줄거리\n",
        "a = \"\"\"6년간 일해온 카페가 문을 닫으며 하루아침에 실업자가 된 루이자 클라크. 그녀는 아버지가 직장을 잃고, 동생이 아이를 낳으면서 집에서 유일하게 일을 할 수 있게 되며 집의 가장이나 다름 없다. 대학을 다시 다니고 싶어하는 동생의 학비를 위해 전신마비 장애인 간병인 일에 지원한다. 루이자가 돌봐야 하는 윌 트레이너는 금수저에 잘생겼으며 잘나가는 사업가였으나, 오토바이와 충돌사고로 사지가 마비된 뒤 굉장히 시니컬한 성격으로 변한 사람이었다.\n",
        "윌을 돕는 일을 시작하게 된[1] 그녀는 처음에는 시종일관 비꼬는 말투에다 세상 모든 것에 대해 불만투성인 윌에게 불만을 느낀다. 하지만 좋은 급여를 놓칠 수가 없어서 6개월을 버티기로 마음 먹는다. 루이자는 윌의 짜증스러운 성격에 솔직하게 불쾌감을 표하며 6개월을 억지로 버틸 거라고 선언하는데, 윌은 그렇게 기분 나빠하지 않는다. 윌이 루이자에게 까칠하게 대했던 것은, 자신을 향한 존중이 아닌 일방적인 동정이 느껴졌기 때문이었다.\n",
        "그리고 이 6개월의 기간동안 여러 일이 생기면서, 두 사람은 조금씩 마음을 열고 사랑의 감정을 키운다. 루이자는 이 상황을 힘들어 하는 윌에게 세상은 아직도 살아갈 가치가 있다는 걸 말해주고 싶었고, 윌은 루이자의 마음을 조금씩 받아들이게 된다. 루이자는 휠체어를 탄 채로는 나가기도 싫어하던 윌을 정원으로, 집 밖으로, 다른 세상으로 데리고 나가며 함께 로맨틱한 경험을 공유한다. 이 과정에서 윌은 비뚤어지고 현실을 개탄하기만 하던 예전의 모습에서 벗어나 점점 예전의 웃음과 삶의 행복을 되찾게 된다. 루이자는 억지스러울 정도의 활발함이 아닌 어른스러운 감정에 익숙해지게 되며, 그 변화는 점점 차분하게 달라지는 패션에서 드러난다.\n",
        "그러나 윌은 6개월의 유예기간이 되어갈 무렵, 결국 사랑하는 연인 루이자를 남겨두고 원래의 계획대로 조력 자살을 택한다. 유능하고 활동적이며 자존심이 넘치던 윌은 앞으로도 평생 남의 도움 없이는 까딱하지도 못할 몸이었고, 사랑하는 루이자에게 스스로는 아무 것도 해주지 못해 평생 그녀에게 의지만 해야 할 운명이었기 때문이다. 루이자에게는 그녀만의 삶이 있다고 생각한 윌은 그 비참함을 견딜 수 없었고, 루이자는 결국 윌의 뜻을 막지 못하고 함께 스위스로 향한다.[2] 루이자에게 먼저 작별 인사를 건넨 다음, 마지막 순간은 가족들과 따로 맞는다.\n",
        "떠나기 전 윌은 자신이 당당하게 할 수 있는 일을 하고 떠난다. 루이자에게 편지와 함께 적지 않은 금액의 돈을 남겨준 것이다.[3] 이로 인해 가정 형편이 좋지 않았던 루이자는 윌이 남겨둔 돈 덕분에, 그동안의 각박했던 삶에서 벗어나 하고 싶은 것을 하고, 힘들게 살아가던 가족에게도 여유를 안겨주며, 자신의 꿈을 실현하는 자유로운 삶을 얻게 된다.\n",
        "\"\"\"\n",
        "print(count_word(a, \"사랑\"))"
      ]
    },
    {
      "cell_type": "markdown",
      "source": [
        "## #Anna 코치 피드백)이번 코드도 작동도 잘 되고 등장 횟수를 세는데에 문제가 없어보이네요!! 문장에서 특수문자나 대소문자의 차이를 고려하지 않고 단어를 세는 방식이라 요구 사항에도 잘 맞는 것 같습니다.다만 count_world 함수내부에서 특수문자를 공백으로 대체해서 문장을 분리하면 좀더 정확하게 단어를 셀 수 있을 것 같아서 추천 코드를 올려드릴게요!\n"
      ],
      "metadata": {
        "id": "OuwbOMXV_Sdl"
      }
    },
    {
      "cell_type": "code",
      "source": [
        "#Anna 코치 피드백)\n",
        "\n",
        "import string\n",
        "\n",
        "def count_word(sentence, word):\n",
        "    # 문장의 특수문자를 공백으로 대체하여 문장을 분리\n",
        "    for p in string.punctuation:\n",
        "        sentence = sentence.replace(p, \" \")\n",
        "    count = sentence.count(word)\n",
        "\n",
        "    # 문장을 텍스트 파일로 저장\n",
        "    with open(\"sentence.txt\", \"w\", encoding=\"utf-8\") as f:\n",
        "        f.write(sentence)\n",
        "    return count\n",
        "\n",
        "# 미비포유 줄거리\n",
        "a = \"\"\"... (생략) ...\"\"\"\n",
        "\n",
        "print(count_word(a, \"사랑\"))\n",
        "\n",
        "\n",
        "#string.punctuation은 파이썬에서 제공하는 특수문자 문자열"
      ],
      "metadata": {
        "id": "5mt-Nxg0_x3u"
      },
      "execution_count": null,
      "outputs": []
    },
    {
      "cell_type": "code",
      "source": [
        "#-----------------------------------------------------------------------------"
      ],
      "metadata": {
        "id": "Rh-KukdN_329"
      },
      "execution_count": null,
      "outputs": []
    },
    {
      "cell_type": "code",
      "execution_count": null,
      "metadata": {
        "id": "cZBhiv0jFDK1",
        "colab": {
          "base_uri": "https://localhost:8080/"
        },
        "outputId": "5416532b-c573-4354-ab92-75f1a4c5870d"
      },
      "outputs": [
        {
          "output_type": "stream",
          "name": "stdout",
          "text": [
            "잘못 쓴 사람: 김갑\n",
            "잘못 쓴 번호: 123456789\n",
            "\n",
            "잘못 쓴 사람: 박병\n",
            "잘못 쓴 번호: 010-5678-111\n",
            "\n",
            "잘못 쓴 사람: 최정\n",
            "잘못 쓴 번호: 111-1111-1111\n",
            "\n"
          ]
        }
      ],
      "source": [
        "\n",
        "def wrong_guest_book(guest_book):\n",
        "    guests = guest_book.split(\"\\n\")\n",
        "\n",
        "    for guest in guests:\n",
        "        name, phone = guest.split(',')\n",
        "        phone_parts = phone.split('-')\n",
        "\n",
        "        if len(phone_parts) != 3 or phone_parts[0] != '010' or len(phone_parts[1]) != 4 or len(phone_parts[2]) != 4:\n",
        "            print(f\"잘못 쓴 사람: {name}\")\n",
        "            print(f\"잘못 쓴 번호: {phone}\\n\")\n",
        "\n",
        "    # 방명록을 텍스트 파일로 저장\n",
        "    with open(\"guest_book.txt\", \"w\", encoding=\"utf-8\") as f:\n",
        "        f.write(guest_book)\n",
        "\n",
        "# Test\n",
        "guest_book = \"\"\"김갑,123456789\n",
        "이을,010-1234-5678\n",
        "박병,010-5678-111\n",
        "최정,111-1111-1111\n",
        "정무,010-3333-3333\"\"\"\n",
        "wrong_guest_book(guest_book)"
      ]
    },
    {
      "cell_type": "markdown",
      "source": [
        "## #Anna 코치 피드백) 깔끔하게 코드분리도 잘 해주시고 가독성도 좋은 것 같습니다! 문제에는 나오지 않았지만 만약에 올바르지 않은 번호는 텍스트파일에 저장되지 않게 하려면? 어떻게 하면 좋을까요? 제가 조금 추가 된 코드를 올려드릴테니 자유롭게 사고해 보시면 좋을 것 같습니다!"
      ],
      "metadata": {
        "id": "AMmNUWb_Bx3a"
      }
    },
    {
      "cell_type": "code",
      "source": [
        "#Anna 코치 피드백)\n",
        "\n",
        "def wrong_guest_book(guest_book):\n",
        "    guests = guest_book.split(\"\\n\")\n",
        "    invalid_entries = []  # 올바르지 않은 정보를 수집하는 리스트\n",
        "\n",
        "    for guest in guests:\n",
        "        name, phone = guest.split(',')\n",
        "        phone_parts = phone.split('-')\n",
        "\n",
        "        if len(phone_parts) != 3 or phone_parts[0] != '010' or len(phone_parts[1]) != 4 or len(phone_parts[2]) != 4:\n",
        "            invalid_entries.append((name, phone))\n",
        "            print(f\"잘못 쓴 사람: {name}\")\n",
        "            print(f\"잘못 쓴 번호: {phone}\\n\")\n",
        "\n",
        "    if not invalid_entries:\n",
        "        # 방명록을 텍스트 파일로 저장 (올바르지 않은 정보가 없을 경우에만 저장)\n",
        "        with open(\"guest_book.txt\", \"w\", encoding=\"utf-8\") as f:\n",
        "            f.write(guest_book)\n",
        "\n",
        "# Test\n",
        "guest_book = \"\"\"김갑,123456789\n",
        "이을,010-1234-5678\n",
        "박병,010-5678-111\n",
        "최정,111-1111-1111\n",
        "정무,010-3333-3333\"\"\"\n",
        "wrong_guest_book(guest_book)\n"
      ],
      "metadata": {
        "id": "I42lpIMeCE4-"
      },
      "execution_count": null,
      "outputs": []
    },
    {
      "cell_type": "code",
      "source": [
        "#---------------------------------------------------------------------------------------------------------------"
      ],
      "metadata": {
        "id": "Fm15oxcACOSV"
      },
      "execution_count": null,
      "outputs": []
    },
    {
      "cell_type": "code",
      "execution_count": null,
      "metadata": {
        "id": "TuKZg0NsFHDY",
        "colab": {
          "base_uri": "https://localhost:8080/"
        },
        "outputId": "4cd8a4b9-0ebf-4a65-c7ea-cdf0a639a7e7"
      },
      "outputs": [
        {
          "output_type": "stream",
          "name": "stdout",
          "text": [
            "2000년 이후 출생자 입니까? 맞으면 o 아니면 x : x\n",
            "1950년 06월 여자\n",
            "2000년 이후 출생자 입니까? 맞으면 o 아니면 x : j\n",
            "잘못된 입력입니다.\n",
            "올바른 입력을 넣어주세요\n",
            "2000년 이후 출생자 입니까? 맞으면 o 아니면 x : k\n",
            "잘못된 입력입니다.\n",
            "올바른 입력을 넣어주세요\n",
            "2000년 이후 출생자 입니까? 맞으면 o 아니면 x : k\n",
            "잘못된 입력입니다.\n",
            "올바른 입력을 넣어주세요\n",
            "2000년 이후 출생자 입니까? 맞으면 o 아니면 x : o\n",
            "2000년 06월 여자\n"
          ]
        }
      ],
      "source": [
        "def is_valid_id_format(id_num):\n",
        "    return len(id_num) == 14 and id_num[6] == '-'\n",
        "\n",
        "def get_birth_year(year_digit, is_2000s):\n",
        "    if year_digit == '0':\n",
        "        if is_2000s.lower() == 'o':\n",
        "            return '20'\n",
        "        elif is_2000s.lower() == 'x':\n",
        "            return '19'\n",
        "        else:\n",
        "            return None\n",
        "    else:\n",
        "        return '19'\n",
        "\n",
        "def check_id(id_num):\n",
        "    if not is_valid_id_format(id_num):\n",
        "        return \"잘못된 번호입니다.\"\n",
        "\n",
        "    year_digit = id_num[0]\n",
        "    gender_digit = id_num[7]\n",
        "    if gender_digit not in ['1', '2', '3', '4']:\n",
        "        return \"잘못된 번호입니다.\"\n",
        "\n",
        "    birth_year_prefix = get_birth_year(year_digit, input(\"2000년 이후 출생자 입니까? 맞으면 o 아니면 x : \"))\n",
        "\n",
        "    while birth_year_prefix is None:\n",
        "        print(\"잘못된 입력입니다.\\n올바른 입력을 넣어주세요\")\n",
        "        birth_year_prefix = get_birth_year(year_digit, input(\"2000년 이후 출생자 입니까? 맞으면 o 아니면 x : \"))\n",
        "\n",
        "    birth_year = birth_year_prefix + id_num[:2]\n",
        "    gender = '남자' if gender_digit in ['1', '3'] else '여자'\n",
        "\n",
        "    return f\"{birth_year}년 {id_num[2:4]}월 {gender}\"\n",
        "\n",
        "# Test\n",
        "a = \"500629-2222222\"\n",
        "print(check_id(a))\n",
        "\n",
        "b = \"000629-2222222\"\n",
        "print(check_id(b))\n"
      ]
    },
    {
      "cell_type": "markdown",
      "source": [
        "## #Anna 코치 피드백)\n",
        "함수로 분리: 코드를 여러 개의 함수로 분리하면 코드의 구조가 더욱 명확해집니다. 각 함수는 특정한 역할을 수행하도록 만들어줍니다! 코드를 조금 수정해 볼게요!"
      ],
      "metadata": {
        "id": "6Gj0CuU2E48Z"
      }
    },
    {
      "cell_type": "code",
      "source": [
        "def is_valid_id_format(id_num):\n",
        "    return len(id_num) == 14 and id_num[6] == '-'\n",
        "\n",
        "def get_birth_year(year_digit, is_2000s):\n",
        "    if year_digit == '0':\n",
        "        if is_2000s.lower() == 'o':\n",
        "            return '20'\n",
        "        elif is_2000s.lower() == 'x':\n",
        "            return '19'\n",
        "        else:\n",
        "            return None\n",
        "    else:\n",
        "        return '19'\n",
        "\n",
        "def check_id(id_num):\n",
        "    if not is_valid_id_format(id_num):\n",
        "        return \"잘못된 번호입니다.\"\n",
        "\n",
        "    year_digit = id_num[0]\n",
        "    gender_digit = id_num[7]\n",
        "    if gender_digit not in ['1', '2', '3', '4']:\n",
        "        return \"잘못된 번호입니다.\"\n",
        "\n",
        "    birth_year_prefix = get_birth_year(year_digit, input(\"2000년 이후 출생자 입니까? 맞으면 o 아니면 x : \"))\n",
        "\n",
        "    while birth_year_prefix is None:\n",
        "        print(\"잘못된 입력입니다.\\n올바른 입력을 넣어주세요\")\n",
        "        is_2000s = input(\"2000년 이후 출생자 입니까? 맞으면 o 아니면 x : \")\n",
        "        birth_year_prefix = get_birth_year(year_digit, is_2000s)\n",
        "\n",
        "    birth_year = birth_year_prefix + id_num[:2]\n",
        "    gender = '남자' if gender_digit in ['1', '3'] else '여자'\n",
        "\n",
        "    return f\"{birth_year}년 {id_num[2:4]}월 {gender}\"\n",
        "\n",
        "# Test\n",
        "a = \"500629-2222222\"\n",
        "print(check_id(a))\n",
        "\n",
        "b = \"000629-2222222\"\n",
        "print(check_id(b))\n"
      ],
      "metadata": {
        "colab": {
          "base_uri": "https://localhost:8080/"
        },
        "id": "Ag9nfcHYDXNt",
        "outputId": "c34abba2-2665-421a-aba4-0a739617147d"
      },
      "execution_count": null,
      "outputs": [
        {
          "output_type": "stream",
          "name": "stdout",
          "text": [
            "2000년 이후 출생자 입니까? 맞으면 o 아니면 x : x\n",
            "1950년 06월 여자\n",
            "2000년 이후 출생자 입니까? 맞으면 o 아니면 x : x\n",
            "1900년 06월 여자\n"
          ]
        }
      ]
    },
    {
      "cell_type": "code",
      "source": [],
      "metadata": {
        "id": "sBhuOGCpndZH"
      },
      "execution_count": null,
      "outputs": []
    }
  ],
  "metadata": {
    "colab": {
      "provenance": [],
      "include_colab_link": true
    },
    "kernelspec": {
      "display_name": "Python 3",
      "name": "python3"
    },
    "language_info": {
      "name": "python"
    }
  },
  "nbformat": 4,
  "nbformat_minor": 0
}